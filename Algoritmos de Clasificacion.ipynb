{
 "cells": [
  {
   "cell_type": "markdown",
   "id": "ac02f27c",
   "metadata": {},
   "source": [
    "# Analisis de algoritmos de clasificación aplicados a Dataset"
   ]
  },
  {
   "cell_type": "markdown",
   "id": "e0af1e25",
   "metadata": {},
   "source": [
    "## Importamos librerias"
   ]
  },
  {
   "cell_type": "code",
   "execution_count": 205,
   "id": "e302d770",
   "metadata": {
    "ExecuteTime": {
     "end_time": "2023-07-31T23:53:18.242979046Z",
     "start_time": "2023-07-31T23:53:17.525716229Z"
    }
   },
   "outputs": [],
   "source": [
    "import numpy as np\n",
    "import pandas as pd\n",
    "from sklearn.model_selection import train_test_split\n",
    "from sklearn.neighbors import KNeighborsClassifier\n",
    "from sklearn import metrics\n",
    "import matplotlib.pyplot as plt\n",
    "import pandas as pd\n",
    "from sklearn.svm import SVC\n",
    "from sklearn.tree import DecisionTreeClassifier \n",
    "from sklearn.preprocessing import StandardScaler\n",
    "#Bibliotecas para generar gráficos\n",
    "from sklearn.tree import export_graphviz\n",
    "from six import StringIO\n",
    "from IPython.display import Image  \n",
    "import pydotplus\n",
    "from sklearn.naive_bayes import GaussianNB\n",
    "from sklearn.ensemble import RandomForestClassifier\n",
    "from sklearn.ensemble import GradientBoostingClassifier\n",
    "from sklearn.datasets import make_classification\n",
    "from sklearn import tree\n",
    "from sklearn.model_selection import cross_val_score\n",
    "from sklearn.metrics import accuracy_score, precision_score, recall_score, f1_score, confusion_matrix\n",
    "from sklearn.model_selection import GridSearchCV\n",
    "\n",
    "import xgboost as xgb\n",
    "import pmdarima as pm\n",
    "from pmdarima.model_selection import train_test_split\n",
    "\n",
    "#import shap\n",
    "#from pdpbox import pdp, get_dataset, info_plots\n",
    "#import matplotlib.pyplot as plt"
   ]
  },
  {
   "cell_type": "markdown",
   "id": "ae8a3b23",
   "metadata": {},
   "source": [
    "## Importamos el dataset"
   ]
  },
  {
   "cell_type": "code",
   "execution_count": 206,
   "id": "55aac926",
   "metadata": {
    "ExecuteTime": {
     "end_time": "2023-07-31T23:53:18.243316677Z",
     "start_time": "2023-07-31T23:53:17.786820688Z"
    }
   },
   "outputs": [],
   "source": [
    "bipolar_interviews=pd.read_csv('./diario.csv', sep=';')"
   ]
  },
  {
   "cell_type": "markdown",
   "id": "77e6e1a2",
   "metadata": {},
   "source": [
    "## Limpieza de datos"
   ]
  },
  {
   "cell_type": "code",
   "execution_count": 207,
   "id": "e4b4dc54",
   "metadata": {
    "ExecuteTime": {
     "end_time": "2023-07-31T23:53:18.243462089Z",
     "start_time": "2023-07-31T23:53:17.787059962Z"
    }
   },
   "outputs": [],
   "source": [
    "bipolar_interviews=bipolar_interviews.replace(to_replace=\"No\", value=0)\n",
    "bipolar_interviews=bipolar_interviews.replace(to_replace=\"Si\", value=1)\n",
    "bipolar_interviews=bipolar_interviews.replace(to_replace=\"NO\", value=0)\n",
    "bipolar_interviews=bipolar_interviews.replace(to_replace=\"no\", value=0)\n",
    "bipolar_interviews=bipolar_interviews.replace(to_replace=\"SI\", value=1)"
   ]
  },
  {
   "cell_type": "code",
   "execution_count": 208,
   "id": "bc6a47e2",
   "metadata": {
    "ExecuteTime": {
     "end_time": "2023-07-31T23:53:18.243567847Z",
     "start_time": "2023-07-31T23:53:17.787151553Z"
    }
   },
   "outputs": [],
   "source": [
    "bipolar_interviews=bipolar_interviews.drop(columns=[\"Fecha\",\"Hora de despertar\",\"Hora a la que te dormiste\",\"Ciclo menstrual\"])"
   ]
  },
  {
   "cell_type": "markdown",
   "id": "a027f927",
   "metadata": {},
   "source": [
    "## Eliminamos valores de offset"
   ]
  },
  {
   "cell_type": "code",
   "execution_count": 209,
   "id": "9e6290ad",
   "metadata": {
    "ExecuteTime": {
     "end_time": "2023-07-31T23:53:18.243911551Z",
     "start_time": "2023-07-31T23:53:17.787240303Z"
    }
   },
   "outputs": [
    {
     "name": "stderr",
     "output_type": "stream",
     "text": [
      "C:\\Users\\cris_\\AppData\\Local\\Temp/ipykernel_19884/1727321591.py:2: FutureWarning: Dropping of nuisance columns in DataFrame reductions (with 'numeric_only=None') is deprecated; in a future version this will raise TypeError.  Select only valid columns before calling the reduction.\n",
      "  mean_cafeina = bipolar_interviews.mean()[7]\n",
      "C:\\Users\\cris_\\AppData\\Local\\Temp/ipykernel_19884/1727321591.py:3: FutureWarning: Dropping of nuisance columns in DataFrame reductions (with 'numeric_only=None') is deprecated; in a future version this will raise TypeError.  Select only valid columns before calling the reduction.\n",
      "  std_cafeina = bipolar_interviews.std()[7]\n",
      "C:\\Users\\cris_\\AppData\\Local\\Temp/ipykernel_19884/1727321591.py:8: FutureWarning: Dropping of nuisance columns in DataFrame reductions (with 'numeric_only=None') is deprecated; in a future version this will raise TypeError.  Select only valid columns before calling the reduction.\n",
      "  mean_cigarrillo=bipolar_interviews.mean()[6]\n",
      "C:\\Users\\cris_\\AppData\\Local\\Temp/ipykernel_19884/1727321591.py:9: FutureWarning: Dropping of nuisance columns in DataFrame reductions (with 'numeric_only=None') is deprecated; in a future version this will raise TypeError.  Select only valid columns before calling the reduction.\n",
      "  std_cigarrillo=bipolar_interviews.std()[6]\n"
     ]
    }
   ],
   "source": [
    "#Calculamos limites de la distribucion de cafeina hasta 3 desviaciones estandar\n",
    "mean_cafeina = bipolar_interviews.mean()[7]\n",
    "std_cafeina = bipolar_interviews.std()[7]\n",
    "lim_inf_caf = mean_cafeina - 3*std_cafeina\n",
    "lim_sup_caf = mean_cafeina + 3*std_cafeina\n",
    "\n",
    "#Calculamos limites de la distribución de cigarrillos hasta 3 desviaciones estandar\n",
    "mean_cigarrillo=bipolar_interviews.mean()[6]\n",
    "std_cigarrillo=bipolar_interviews.std()[6]\n",
    "lim_inf_cig=mean_cigarrillo-3*std_cigarrillo\n",
    "lim_sup_cig=mean_cigarrillo+3*std_cigarrillo"
   ]
  },
  {
   "cell_type": "code",
   "execution_count": 210,
   "id": "e8bd09ba",
   "metadata": {
    "ExecuteTime": {
     "end_time": "2023-07-31T23:53:18.244025269Z",
     "start_time": "2023-07-31T23:53:17.787352398Z"
    }
   },
   "outputs": [],
   "source": [
    "bipolar_trimmed=bipolar_interviews[(bipolar_interviews[\"Cafeína\"]>=lim_inf_caf)&(bipolar_interviews[\"Cafeína\"]<=lim_sup_caf)&(bipolar_interviews[\"Número de cigarrillos\"]>=lim_inf_cig)&(bipolar_interviews[\"Número de cigarrillos\"]<=lim_sup_cig)]"
   ]
  },
  {
   "cell_type": "code",
   "execution_count": 211,
   "id": "38a0ff21",
   "metadata": {
    "ExecuteTime": {
     "end_time": "2023-07-31T23:53:18.249664403Z",
     "start_time": "2023-07-31T23:53:17.787530618Z"
    }
   },
   "outputs": [
    {
     "data": {
      "text/html": [
       "<div>\n",
       "<style scoped>\n",
       "    .dataframe tbody tr th:only-of-type {\n",
       "        vertical-align: middle;\n",
       "    }\n",
       "\n",
       "    .dataframe tbody tr th {\n",
       "        vertical-align: top;\n",
       "    }\n",
       "\n",
       "    .dataframe thead th {\n",
       "        text-align: right;\n",
       "    }\n",
       "</style>\n",
       "<table border=\"1\" class=\"dataframe\">\n",
       "  <thead>\n",
       "    <tr style=\"text-align: right;\">\n",
       "      <th></th>\n",
       "      <th>Estado de ánimo</th>\n",
       "      <th>Motivación</th>\n",
       "      <th>Problemas de concentración y atención</th>\n",
       "      <th>Irritabilidad</th>\n",
       "      <th>Ansiedad</th>\n",
       "      <th>Calidad del sueño</th>\n",
       "      <th>Número de cigarrillos</th>\n",
       "      <th>Cafeína</th>\n",
       "      <th>Alcohol</th>\n",
       "      <th>Otras drogas</th>\n",
       "      <th>Código</th>\n",
       "      <th>ID</th>\n",
       "    </tr>\n",
       "  </thead>\n",
       "  <tbody>\n",
       "    <tr>\n",
       "      <th>0</th>\n",
       "      <td>2</td>\n",
       "      <td>2</td>\n",
       "      <td>3</td>\n",
       "      <td>3</td>\n",
       "      <td>3</td>\n",
       "      <td>3</td>\n",
       "      <td>34</td>\n",
       "      <td>150</td>\n",
       "      <td>0</td>\n",
       "      <td>0</td>\n",
       "      <td>D</td>\n",
       "      <td>1</td>\n",
       "    </tr>\n",
       "    <tr>\n",
       "      <th>1</th>\n",
       "      <td>2</td>\n",
       "      <td>2</td>\n",
       "      <td>3</td>\n",
       "      <td>3</td>\n",
       "      <td>3</td>\n",
       "      <td>3</td>\n",
       "      <td>38</td>\n",
       "      <td>150</td>\n",
       "      <td>0</td>\n",
       "      <td>0</td>\n",
       "      <td>D</td>\n",
       "      <td>1</td>\n",
       "    </tr>\n",
       "    <tr>\n",
       "      <th>2</th>\n",
       "      <td>2</td>\n",
       "      <td>1</td>\n",
       "      <td>3</td>\n",
       "      <td>3</td>\n",
       "      <td>3</td>\n",
       "      <td>3</td>\n",
       "      <td>39</td>\n",
       "      <td>120</td>\n",
       "      <td>0</td>\n",
       "      <td>0</td>\n",
       "      <td>D</td>\n",
       "      <td>1</td>\n",
       "    </tr>\n",
       "    <tr>\n",
       "      <th>3</th>\n",
       "      <td>1</td>\n",
       "      <td>2</td>\n",
       "      <td>2</td>\n",
       "      <td>2</td>\n",
       "      <td>2</td>\n",
       "      <td>3</td>\n",
       "      <td>34</td>\n",
       "      <td>120</td>\n",
       "      <td>0</td>\n",
       "      <td>0</td>\n",
       "      <td>D</td>\n",
       "      <td>1</td>\n",
       "    </tr>\n",
       "    <tr>\n",
       "      <th>4</th>\n",
       "      <td>1</td>\n",
       "      <td>1</td>\n",
       "      <td>3</td>\n",
       "      <td>2</td>\n",
       "      <td>2</td>\n",
       "      <td>2</td>\n",
       "      <td>32</td>\n",
       "      <td>150</td>\n",
       "      <td>0</td>\n",
       "      <td>0</td>\n",
       "      <td>D</td>\n",
       "      <td>1</td>\n",
       "    </tr>\n",
       "    <tr>\n",
       "      <th>...</th>\n",
       "      <td>...</td>\n",
       "      <td>...</td>\n",
       "      <td>...</td>\n",
       "      <td>...</td>\n",
       "      <td>...</td>\n",
       "      <td>...</td>\n",
       "      <td>...</td>\n",
       "      <td>...</td>\n",
       "      <td>...</td>\n",
       "      <td>...</td>\n",
       "      <td>...</td>\n",
       "      <td>...</td>\n",
       "    </tr>\n",
       "    <tr>\n",
       "      <th>679</th>\n",
       "      <td>2</td>\n",
       "      <td>3</td>\n",
       "      <td>0</td>\n",
       "      <td>0</td>\n",
       "      <td>1</td>\n",
       "      <td>0</td>\n",
       "      <td>0</td>\n",
       "      <td>90</td>\n",
       "      <td>0</td>\n",
       "      <td>1</td>\n",
       "      <td>G</td>\n",
       "      <td>1503864795</td>\n",
       "    </tr>\n",
       "    <tr>\n",
       "      <th>680</th>\n",
       "      <td>0</td>\n",
       "      <td>3</td>\n",
       "      <td>2</td>\n",
       "      <td>4</td>\n",
       "      <td>0</td>\n",
       "      <td>1</td>\n",
       "      <td>4</td>\n",
       "      <td>0</td>\n",
       "      <td>0</td>\n",
       "      <td>1</td>\n",
       "      <td>G</td>\n",
       "      <td>1503864795</td>\n",
       "    </tr>\n",
       "    <tr>\n",
       "      <th>681</th>\n",
       "      <td>0</td>\n",
       "      <td>0</td>\n",
       "      <td>1</td>\n",
       "      <td>4</td>\n",
       "      <td>0</td>\n",
       "      <td>2</td>\n",
       "      <td>0</td>\n",
       "      <td>0</td>\n",
       "      <td>0</td>\n",
       "      <td>0</td>\n",
       "      <td>G</td>\n",
       "      <td>1503864795</td>\n",
       "    </tr>\n",
       "    <tr>\n",
       "      <th>682</th>\n",
       "      <td>0</td>\n",
       "      <td>-1</td>\n",
       "      <td>2</td>\n",
       "      <td>3</td>\n",
       "      <td>2</td>\n",
       "      <td>3</td>\n",
       "      <td>0</td>\n",
       "      <td>90</td>\n",
       "      <td>0</td>\n",
       "      <td>0</td>\n",
       "      <td>G</td>\n",
       "      <td>1088011201</td>\n",
       "    </tr>\n",
       "    <tr>\n",
       "      <th>683</th>\n",
       "      <td>-3</td>\n",
       "      <td>0</td>\n",
       "      <td>2</td>\n",
       "      <td>0</td>\n",
       "      <td>4</td>\n",
       "      <td>0</td>\n",
       "      <td>0</td>\n",
       "      <td>60</td>\n",
       "      <td>0</td>\n",
       "      <td>0</td>\n",
       "      <td>G</td>\n",
       "      <td>1503864795</td>\n",
       "    </tr>\n",
       "  </tbody>\n",
       "</table>\n",
       "<p>680 rows × 12 columns</p>\n",
       "</div>"
      ],
      "text/plain": [
       "     Estado de ánimo  Motivación  Problemas de concentración y atención  \\\n",
       "0                  2           2                                      3   \n",
       "1                  2           2                                      3   \n",
       "2                  2           1                                      3   \n",
       "3                  1           2                                      2   \n",
       "4                  1           1                                      3   \n",
       "..               ...         ...                                    ...   \n",
       "679                2           3                                      0   \n",
       "680                0           3                                      2   \n",
       "681                0           0                                      1   \n",
       "682                0          -1                                      2   \n",
       "683               -3           0                                      2   \n",
       "\n",
       "     Irritabilidad  Ansiedad  Calidad del sueño  Número de cigarrillos  \\\n",
       "0                3         3                  3                     34   \n",
       "1                3         3                  3                     38   \n",
       "2                3         3                  3                     39   \n",
       "3                2         2                  3                     34   \n",
       "4                2         2                  2                     32   \n",
       "..             ...       ...                ...                    ...   \n",
       "679              0         1                  0                      0   \n",
       "680              4         0                  1                      4   \n",
       "681              4         0                  2                      0   \n",
       "682              3         2                  3                      0   \n",
       "683              0         4                  0                      0   \n",
       "\n",
       "     Cafeína  Alcohol  Otras drogas Código          ID  \n",
       "0        150        0             0      D           1  \n",
       "1        150        0             0      D           1  \n",
       "2        120        0             0      D           1  \n",
       "3        120        0             0      D           1  \n",
       "4        150        0             0      D           1  \n",
       "..       ...      ...           ...    ...         ...  \n",
       "679       90        0             1      G  1503864795  \n",
       "680        0        0             1      G  1503864795  \n",
       "681        0        0             0      G  1503864795  \n",
       "682       90        0             0      G  1088011201  \n",
       "683       60        0             0      G  1503864795  \n",
       "\n",
       "[680 rows x 12 columns]"
      ]
     },
     "execution_count": 211,
     "metadata": {},
     "output_type": "execute_result"
    }
   ],
   "source": [
    "bipolar_trimmed"
   ]
  },
  {
   "cell_type": "code",
   "execution_count": 212,
   "id": "02c4361e",
   "metadata": {
    "ExecuteTime": {
     "end_time": "2023-07-31T23:53:18.250240143Z",
     "start_time": "2023-07-31T23:53:17.787676689Z"
    }
   },
   "outputs": [],
   "source": [
    "feature_cols = ['Estado de ánimo','Motivación','Problemas de concentración y atención','Irritabilidad','Ansiedad','Calidad del sueño','Número de cigarrillos','Cafeína']\n",
    "X=bipolar_trimmed[feature_cols]"
   ]
  },
  {
   "cell_type": "code",
   "execution_count": 213,
   "id": "e31218f0",
   "metadata": {
    "ExecuteTime": {
     "end_time": "2023-07-31T23:53:18.250308648Z",
     "start_time": "2023-07-31T23:53:17.787765460Z"
    }
   },
   "outputs": [],
   "source": [
    "y=bipolar_trimmed['Código']"
   ]
  },
  {
   "cell_type": "code",
   "execution_count": 214,
   "id": "a30b3073",
   "metadata": {
    "ExecuteTime": {
     "end_time": "2023-07-31T23:53:18.250368182Z",
     "start_time": "2023-07-31T23:53:17.791710634Z"
    }
   },
   "outputs": [],
   "source": [
    "\n",
    "X_train,X_temp,y_train,y_temp = train_test_split(X,y,test_size=0.30)\n",
    "X_val, X_test, y_val, y_test = train_test_split(X_temp, y_temp, test_size=0.5)"
   ]
  },
  {
   "cell_type": "code",
   "execution_count": 215,
   "id": "ad4f8a2bbd75ec0d",
   "metadata": {
    "ExecuteTime": {
     "end_time": "2023-07-31T23:53:18.250501151Z",
     "start_time": "2023-07-31T23:53:17.794731783Z"
    }
   },
   "outputs": [
    {
     "name": "stdout",
     "output_type": "stream",
     "text": [
      "476 102 102\n"
     ]
    }
   ],
   "source": [
    "print(len(X_train),len(X_test),len(X_val))"
   ]
  },
  {
   "cell_type": "code",
   "execution_count": 216,
   "id": "95397a39b317beaa",
   "metadata": {
    "ExecuteTime": {
     "end_time": "2023-07-31T23:53:18.251324088Z",
     "start_time": "2023-07-31T23:53:17.802553888Z"
    }
   },
   "outputs": [
    {
     "data": {
      "text/html": [
       "<div>\n",
       "<style scoped>\n",
       "    .dataframe tbody tr th:only-of-type {\n",
       "        vertical-align: middle;\n",
       "    }\n",
       "\n",
       "    .dataframe tbody tr th {\n",
       "        vertical-align: top;\n",
       "    }\n",
       "\n",
       "    .dataframe thead th {\n",
       "        text-align: right;\n",
       "    }\n",
       "</style>\n",
       "<table border=\"1\" class=\"dataframe\">\n",
       "  <thead>\n",
       "    <tr style=\"text-align: right;\">\n",
       "      <th></th>\n",
       "      <th>Estado de ánimo</th>\n",
       "      <th>Motivación</th>\n",
       "      <th>Problemas de concentración y atención</th>\n",
       "      <th>Irritabilidad</th>\n",
       "      <th>Ansiedad</th>\n",
       "      <th>Calidad del sueño</th>\n",
       "      <th>Número de cigarrillos</th>\n",
       "      <th>Cafeína</th>\n",
       "    </tr>\n",
       "  </thead>\n",
       "  <tbody>\n",
       "    <tr>\n",
       "      <th>0</th>\n",
       "      <td>2</td>\n",
       "      <td>2</td>\n",
       "      <td>3</td>\n",
       "      <td>3</td>\n",
       "      <td>3</td>\n",
       "      <td>3</td>\n",
       "      <td>34</td>\n",
       "      <td>150</td>\n",
       "    </tr>\n",
       "    <tr>\n",
       "      <th>1</th>\n",
       "      <td>2</td>\n",
       "      <td>2</td>\n",
       "      <td>3</td>\n",
       "      <td>3</td>\n",
       "      <td>3</td>\n",
       "      <td>3</td>\n",
       "      <td>38</td>\n",
       "      <td>150</td>\n",
       "    </tr>\n",
       "    <tr>\n",
       "      <th>2</th>\n",
       "      <td>2</td>\n",
       "      <td>1</td>\n",
       "      <td>3</td>\n",
       "      <td>3</td>\n",
       "      <td>3</td>\n",
       "      <td>3</td>\n",
       "      <td>39</td>\n",
       "      <td>120</td>\n",
       "    </tr>\n",
       "    <tr>\n",
       "      <th>3</th>\n",
       "      <td>1</td>\n",
       "      <td>2</td>\n",
       "      <td>2</td>\n",
       "      <td>2</td>\n",
       "      <td>2</td>\n",
       "      <td>3</td>\n",
       "      <td>34</td>\n",
       "      <td>120</td>\n",
       "    </tr>\n",
       "    <tr>\n",
       "      <th>4</th>\n",
       "      <td>1</td>\n",
       "      <td>1</td>\n",
       "      <td>3</td>\n",
       "      <td>2</td>\n",
       "      <td>2</td>\n",
       "      <td>2</td>\n",
       "      <td>32</td>\n",
       "      <td>150</td>\n",
       "    </tr>\n",
       "    <tr>\n",
       "      <th>...</th>\n",
       "      <td>...</td>\n",
       "      <td>...</td>\n",
       "      <td>...</td>\n",
       "      <td>...</td>\n",
       "      <td>...</td>\n",
       "      <td>...</td>\n",
       "      <td>...</td>\n",
       "      <td>...</td>\n",
       "    </tr>\n",
       "    <tr>\n",
       "      <th>472</th>\n",
       "      <td>0</td>\n",
       "      <td>1</td>\n",
       "      <td>2</td>\n",
       "      <td>1</td>\n",
       "      <td>1</td>\n",
       "      <td>3</td>\n",
       "      <td>17</td>\n",
       "      <td>90</td>\n",
       "    </tr>\n",
       "    <tr>\n",
       "      <th>473</th>\n",
       "      <td>0</td>\n",
       "      <td>0</td>\n",
       "      <td>1</td>\n",
       "      <td>1</td>\n",
       "      <td>1</td>\n",
       "      <td>2</td>\n",
       "      <td>17</td>\n",
       "      <td>90</td>\n",
       "    </tr>\n",
       "    <tr>\n",
       "      <th>474</th>\n",
       "      <td>0</td>\n",
       "      <td>-1</td>\n",
       "      <td>2</td>\n",
       "      <td>1</td>\n",
       "      <td>1</td>\n",
       "      <td>2</td>\n",
       "      <td>17</td>\n",
       "      <td>90</td>\n",
       "    </tr>\n",
       "    <tr>\n",
       "      <th>475</th>\n",
       "      <td>0</td>\n",
       "      <td>-1</td>\n",
       "      <td>1</td>\n",
       "      <td>1</td>\n",
       "      <td>1</td>\n",
       "      <td>1</td>\n",
       "      <td>20</td>\n",
       "      <td>90</td>\n",
       "    </tr>\n",
       "    <tr>\n",
       "      <th>476</th>\n",
       "      <td>0</td>\n",
       "      <td>-1</td>\n",
       "      <td>2</td>\n",
       "      <td>1</td>\n",
       "      <td>1</td>\n",
       "      <td>1</td>\n",
       "      <td>17</td>\n",
       "      <td>90</td>\n",
       "    </tr>\n",
       "  </tbody>\n",
       "</table>\n",
       "<p>476 rows × 8 columns</p>\n",
       "</div>"
      ],
      "text/plain": [
       "     Estado de ánimo  Motivación  Problemas de concentración y atención  \\\n",
       "0                  2           2                                      3   \n",
       "1                  2           2                                      3   \n",
       "2                  2           1                                      3   \n",
       "3                  1           2                                      2   \n",
       "4                  1           1                                      3   \n",
       "..               ...         ...                                    ...   \n",
       "472                0           1                                      2   \n",
       "473                0           0                                      1   \n",
       "474                0          -1                                      2   \n",
       "475                0          -1                                      1   \n",
       "476                0          -1                                      2   \n",
       "\n",
       "     Irritabilidad  Ansiedad  Calidad del sueño  Número de cigarrillos  \\\n",
       "0                3         3                  3                     34   \n",
       "1                3         3                  3                     38   \n",
       "2                3         3                  3                     39   \n",
       "3                2         2                  3                     34   \n",
       "4                2         2                  2                     32   \n",
       "..             ...       ...                ...                    ...   \n",
       "472              1         1                  3                     17   \n",
       "473              1         1                  2                     17   \n",
       "474              1         1                  2                     17   \n",
       "475              1         1                  1                     20   \n",
       "476              1         1                  1                     17   \n",
       "\n",
       "     Cafeína  \n",
       "0        150  \n",
       "1        150  \n",
       "2        120  \n",
       "3        120  \n",
       "4        150  \n",
       "..       ...  \n",
       "472       90  \n",
       "473       90  \n",
       "474       90  \n",
       "475       90  \n",
       "476       90  \n",
       "\n",
       "[476 rows x 8 columns]"
      ]
     },
     "execution_count": 216,
     "metadata": {},
     "output_type": "execute_result"
    }
   ],
   "source": [
    "X_train"
   ]
  },
  {
   "cell_type": "markdown",
   "id": "f553e4dc",
   "metadata": {},
   "source": [
    "## a) SVM"
   ]
  },
  {
   "cell_type": "code",
   "execution_count": 217,
   "id": "3fdcc357",
   "metadata": {
    "ExecuteTime": {
     "end_time": "2023-07-31T23:53:18.251471784Z",
     "start_time": "2023-07-31T23:53:17.805668577Z"
    }
   },
   "outputs": [],
   "source": [
    "modelo_svm = SVC(kernel='linear', C=1.0, random_state=42)"
   ]
  },
  {
   "cell_type": "code",
   "execution_count": 218,
   "id": "05be3d46",
   "metadata": {
    "ExecuteTime": {
     "end_time": "2023-07-31T23:53:18.251938300Z",
     "start_time": "2023-07-31T23:53:17.846881996Z"
    }
   },
   "outputs": [
    {
     "data": {
      "text/html": [
       "<style>#sk-container-id-7 {color: black;background-color: white;}#sk-container-id-7 pre{padding: 0;}#sk-container-id-7 div.sk-toggleable {background-color: white;}#sk-container-id-7 label.sk-toggleable__label {cursor: pointer;display: block;width: 100%;margin-bottom: 0;padding: 0.3em;box-sizing: border-box;text-align: center;}#sk-container-id-7 label.sk-toggleable__label-arrow:before {content: \"▸\";float: left;margin-right: 0.25em;color: #696969;}#sk-container-id-7 label.sk-toggleable__label-arrow:hover:before {color: black;}#sk-container-id-7 div.sk-estimator:hover label.sk-toggleable__label-arrow:before {color: black;}#sk-container-id-7 div.sk-toggleable__content {max-height: 0;max-width: 0;overflow: hidden;text-align: left;background-color: #f0f8ff;}#sk-container-id-7 div.sk-toggleable__content pre {margin: 0.2em;color: black;border-radius: 0.25em;background-color: #f0f8ff;}#sk-container-id-7 input.sk-toggleable__control:checked~div.sk-toggleable__content {max-height: 200px;max-width: 100%;overflow: auto;}#sk-container-id-7 input.sk-toggleable__control:checked~label.sk-toggleable__label-arrow:before {content: \"▾\";}#sk-container-id-7 div.sk-estimator input.sk-toggleable__control:checked~label.sk-toggleable__label {background-color: #d4ebff;}#sk-container-id-7 div.sk-label input.sk-toggleable__control:checked~label.sk-toggleable__label {background-color: #d4ebff;}#sk-container-id-7 input.sk-hidden--visually {border: 0;clip: rect(1px 1px 1px 1px);clip: rect(1px, 1px, 1px, 1px);height: 1px;margin: -1px;overflow: hidden;padding: 0;position: absolute;width: 1px;}#sk-container-id-7 div.sk-estimator {font-family: monospace;background-color: #f0f8ff;border: 1px dotted black;border-radius: 0.25em;box-sizing: border-box;margin-bottom: 0.5em;}#sk-container-id-7 div.sk-estimator:hover {background-color: #d4ebff;}#sk-container-id-7 div.sk-parallel-item::after {content: \"\";width: 100%;border-bottom: 1px solid gray;flex-grow: 1;}#sk-container-id-7 div.sk-label:hover label.sk-toggleable__label {background-color: #d4ebff;}#sk-container-id-7 div.sk-serial::before {content: \"\";position: absolute;border-left: 1px solid gray;box-sizing: border-box;top: 0;bottom: 0;left: 50%;z-index: 0;}#sk-container-id-7 div.sk-serial {display: flex;flex-direction: column;align-items: center;background-color: white;padding-right: 0.2em;padding-left: 0.2em;position: relative;}#sk-container-id-7 div.sk-item {position: relative;z-index: 1;}#sk-container-id-7 div.sk-parallel {display: flex;align-items: stretch;justify-content: center;background-color: white;position: relative;}#sk-container-id-7 div.sk-item::before, #sk-container-id-7 div.sk-parallel-item::before {content: \"\";position: absolute;border-left: 1px solid gray;box-sizing: border-box;top: 0;bottom: 0;left: 50%;z-index: -1;}#sk-container-id-7 div.sk-parallel-item {display: flex;flex-direction: column;z-index: 1;position: relative;background-color: white;}#sk-container-id-7 div.sk-parallel-item:first-child::after {align-self: flex-end;width: 50%;}#sk-container-id-7 div.sk-parallel-item:last-child::after {align-self: flex-start;width: 50%;}#sk-container-id-7 div.sk-parallel-item:only-child::after {width: 0;}#sk-container-id-7 div.sk-dashed-wrapped {border: 1px dashed gray;margin: 0 0.4em 0.5em 0.4em;box-sizing: border-box;padding-bottom: 0.4em;background-color: white;}#sk-container-id-7 div.sk-label label {font-family: monospace;font-weight: bold;display: inline-block;line-height: 1.2em;}#sk-container-id-7 div.sk-label-container {text-align: center;}#sk-container-id-7 div.sk-container {/* jupyter's `normalize.less` sets `[hidden] { display: none; }` but bootstrap.min.css set `[hidden] { display: none !important; }` so we also need the `!important` here to be able to override the default hidden behavior on the sphinx rendered scikit-learn.org. See: https://github.com/scikit-learn/scikit-learn/issues/21755 */display: inline-block !important;position: relative;}#sk-container-id-7 div.sk-text-repr-fallback {display: none;}</style><div id=\"sk-container-id-7\" class=\"sk-top-container\"><div class=\"sk-text-repr-fallback\"><pre>SVC(kernel=&#x27;linear&#x27;, random_state=42)</pre><b>In a Jupyter environment, please rerun this cell to show the HTML representation or trust the notebook. <br />On GitHub, the HTML representation is unable to render, please try loading this page with nbviewer.org.</b></div><div class=\"sk-container\" hidden><div class=\"sk-item\"><div class=\"sk-estimator sk-toggleable\"><input class=\"sk-toggleable__control sk-hidden--visually\" id=\"sk-estimator-id-7\" type=\"checkbox\" checked><label for=\"sk-estimator-id-7\" class=\"sk-toggleable__label sk-toggleable__label-arrow\">SVC</label><div class=\"sk-toggleable__content\"><pre>SVC(kernel=&#x27;linear&#x27;, random_state=42)</pre></div></div></div></div></div>"
      ],
      "text/plain": [
       "SVC(kernel='linear', random_state=42)"
      ]
     },
     "execution_count": 218,
     "metadata": {},
     "output_type": "execute_result"
    }
   ],
   "source": [
    "modelo_svm.fit(X_train, y_train)"
   ]
  },
  {
   "cell_type": "code",
   "execution_count": 219,
   "id": "62de7734",
   "metadata": {
    "ExecuteTime": {
     "end_time": "2023-07-31T23:53:18.252029115Z",
     "start_time": "2023-07-31T23:53:17.847081500Z"
    }
   },
   "outputs": [],
   "source": [
    "y_val_preda = modelo_svm.predict(X_val)\n",
    "y_preda=modelo_svm.predict(X_test)"
   ]
  },
  {
   "cell_type": "code",
   "execution_count": 220,
   "id": "40cb4bb0",
   "metadata": {
    "ExecuteTime": {
     "end_time": "2023-07-31T23:53:18.252158569Z",
     "start_time": "2023-07-31T23:53:17.847284042Z"
    }
   },
   "outputs": [
    {
     "name": "stdout",
     "output_type": "stream",
     "text": [
      "Precisión en el conjunto de validación: 0.7549019607843137\n"
     ]
    }
   ],
   "source": [
    "# Calcular la precisión en el conjunto de validación\n",
    "precision_val = accuracy_score(y_val, y_val_preda)\n",
    "print(\"Precisión en el conjunto de validación:\", precision_val)"
   ]
  },
  {
   "cell_type": "code",
   "execution_count": 221,
   "id": "b70d3dd6",
   "metadata": {
    "ExecuteTime": {
     "end_time": "2023-07-31T23:53:18.252276603Z",
     "start_time": "2023-07-31T23:53:17.890390016Z"
    }
   },
   "outputs": [
    {
     "name": "stdout",
     "output_type": "stream",
     "text": [
      "Exactitud: 0.7745098039215687\n",
      "Precision: 0.6576576576576577\n",
      "Recall: 0.5505050505050505\n",
      "F1-score: 0.5917640651836957\n"
     ]
    },
    {
     "name": "stderr",
     "output_type": "stream",
     "text": [
      "C:\\Users\\cris_\\anaconda3\\lib\\site-packages\\sklearn\\metrics\\_classification.py:1344: UndefinedMetricWarning: Recall is ill-defined and being set to 0.0 in labels with no true samples. Use `zero_division` parameter to control this behavior.\n",
      "  _warn_prf(average, modifier, msg_start, len(result))\n"
     ]
    }
   ],
   "source": [
    "# Exactitud\n",
    "accuracy = accuracy_score(y_test,y_preda)\n",
    "print(\"Exactitud:\", accuracy)\n",
    "\n",
    "# Precision\n",
    "precision = precision_score(y_test, y_preda,average='macro')\n",
    "print(\"Precision:\", precision)\n",
    "\n",
    "# Recall\n",
    "recall = recall_score(y_test, y_preda,average='macro')\n",
    "print(\"Recall:\", recall)\n",
    "\n",
    "# F1-score\n",
    "f1 = f1_score(y_test, y_preda,average='macro')\n",
    "print(\"F1-score:\", f1)"
   ]
  },
  {
   "cell_type": "code",
   "execution_count": 222,
   "id": "3c51b1fc",
   "metadata": {
    "ExecuteTime": {
     "end_time": "2023-07-31T23:53:18.252522815Z",
     "start_time": "2023-07-31T23:53:17.890701359Z"
    }
   },
   "outputs": [
    {
     "data": {
      "text/html": [
       "<div>\n",
       "<style scoped>\n",
       "    .dataframe tbody tr th:only-of-type {\n",
       "        vertical-align: middle;\n",
       "    }\n",
       "\n",
       "    .dataframe tbody tr th {\n",
       "        vertical-align: top;\n",
       "    }\n",
       "\n",
       "    .dataframe thead th {\n",
       "        text-align: right;\n",
       "    }\n",
       "</style>\n",
       "<table border=\"1\" class=\"dataframe\">\n",
       "  <thead>\n",
       "    <tr style=\"text-align: right;\">\n",
       "      <th></th>\n",
       "      <th>M</th>\n",
       "      <th>D</th>\n",
       "      <th>G</th>\n",
       "    </tr>\n",
       "  </thead>\n",
       "  <tbody>\n",
       "    <tr>\n",
       "      <th>M</th>\n",
       "      <td>43</td>\n",
       "      <td>22</td>\n",
       "      <td>1</td>\n",
       "    </tr>\n",
       "    <tr>\n",
       "      <th>D</th>\n",
       "      <td>0</td>\n",
       "      <td>0</td>\n",
       "      <td>0</td>\n",
       "    </tr>\n",
       "    <tr>\n",
       "      <th>G</th>\n",
       "      <td>0</td>\n",
       "      <td>0</td>\n",
       "      <td>36</td>\n",
       "    </tr>\n",
       "  </tbody>\n",
       "</table>\n",
       "</div>"
      ],
      "text/plain": [
       "    M   D   G\n",
       "M  43  22   1\n",
       "D   0   0   0\n",
       "G   0   0  36"
      ]
     },
     "execution_count": 222,
     "metadata": {},
     "output_type": "execute_result"
    }
   ],
   "source": [
    "c=confusion_matrix(y_test, y_preda, labels=['M', 'D', 'G'])\n",
    "pd.DataFrame(c,index=['M', 'D', 'G'],columns=['M', 'D', 'G'])"
   ]
  },
  {
   "cell_type": "markdown",
   "id": "0702de0f",
   "metadata": {},
   "source": [
    "## b) Algoritmo de KNN"
   ]
  },
  {
   "cell_type": "code",
   "execution_count": 223,
   "id": "8b8863ec",
   "metadata": {
    "ExecuteTime": {
     "end_time": "2023-07-31T23:53:18.253725927Z",
     "start_time": "2023-07-31T23:53:17.890818479Z"
    }
   },
   "outputs": [],
   "source": [
    "# Se hace un barrido para los distintos valores de K, evaluando la exactitud del algoritmo (o puntuación)\n",
    "k_range = range(1,50)\n",
    "scores = {}\n",
    "scores_list = []\n",
    "for k in k_range:\n",
    "        knn = KNeighborsClassifier(n_neighbors=k)\n",
    "        knn.fit(X_train,y_train)\n",
    "        y_predb=knn.predict(X_test)\n",
    "        scores[k] = metrics.accuracy_score(y_test,y_predb)\n",
    "        \n",
    "        scores_list.append(metrics.accuracy_score(y_test,y_predb))"
   ]
  },
  {
   "cell_type": "code",
   "execution_count": null,
   "id": "1bb0de68",
   "metadata": {},
   "outputs": [],
   "source": []
  },
  {
   "cell_type": "code",
   "execution_count": 224,
   "id": "a02c0bae",
   "metadata": {
    "ExecuteTime": {
     "end_time": "2023-07-31T23:53:18.517895355Z",
     "start_time": "2023-07-31T23:53:18.125032068Z"
    }
   },
   "outputs": [
    {
     "data": {
      "text/plain": [
       "Text(0, 0.5, 'Testing Accuracy')"
      ]
     },
     "execution_count": 224,
     "metadata": {},
     "output_type": "execute_result"
    },
    {
     "data": {
      "image/png": "[encoded data removed]",
      "text/plain": [
       "<Figure size 432x288 with 1 Axes>"
      ]
     },
     "metadata": {
      "needs_background": "light"
     },
     "output_type": "display_data"
    }
   ],
   "source": [
    "#Se grafica la relación entre K y su exactitud o puntuación\n",
    "plt.plot(k_range,scores_list)\n",
    "plt.xlabel('Value of K for KNN')\n",
    "plt.ylabel('Testing Accuracy')"
   ]
  },
  {
   "cell_type": "markdown",
   "id": "55e73d71",
   "metadata": {},
   "source": [
    "## c) Algoritmo de Naive bayes"
   ]
  },
  {
   "cell_type": "code",
   "execution_count": 225,
   "id": "28643a84",
   "metadata": {
    "ExecuteTime": {
     "end_time": "2023-07-31T23:53:18.518729791Z",
     "start_time": "2023-07-31T23:53:18.370227982Z"
    }
   },
   "outputs": [
    {
     "data": {
      "text/html": [
       "<style>#sk-container-id-8 {color: black;background-color: white;}#sk-container-id-8 pre{padding: 0;}#sk-container-id-8 div.sk-toggleable {background-color: white;}#sk-container-id-8 label.sk-toggleable__label {cursor: pointer;display: block;width: 100%;margin-bottom: 0;padding: 0.3em;box-sizing: border-box;text-align: center;}#sk-container-id-8 label.sk-toggleable__label-arrow:before {content: \"▸\";float: left;margin-right: 0.25em;color: #696969;}#sk-container-id-8 label.sk-toggleable__label-arrow:hover:before {color: black;}#sk-container-id-8 div.sk-estimator:hover label.sk-toggleable__label-arrow:before {color: black;}#sk-container-id-8 div.sk-toggleable__content {max-height: 0;max-width: 0;overflow: hidden;text-align: left;background-color: #f0f8ff;}#sk-container-id-8 div.sk-toggleable__content pre {margin: 0.2em;color: black;border-radius: 0.25em;background-color: #f0f8ff;}#sk-container-id-8 input.sk-toggleable__control:checked~div.sk-toggleable__content {max-height: 200px;max-width: 100%;overflow: auto;}#sk-container-id-8 input.sk-toggleable__control:checked~label.sk-toggleable__label-arrow:before {content: \"▾\";}#sk-container-id-8 div.sk-estimator input.sk-toggleable__control:checked~label.sk-toggleable__label {background-color: #d4ebff;}#sk-container-id-8 div.sk-label input.sk-toggleable__control:checked~label.sk-toggleable__label {background-color: #d4ebff;}#sk-container-id-8 input.sk-hidden--visually {border: 0;clip: rect(1px 1px 1px 1px);clip: rect(1px, 1px, 1px, 1px);height: 1px;margin: -1px;overflow: hidden;padding: 0;position: absolute;width: 1px;}#sk-container-id-8 div.sk-estimator {font-family: monospace;background-color: #f0f8ff;border: 1px dotted black;border-radius: 0.25em;box-sizing: border-box;margin-bottom: 0.5em;}#sk-container-id-8 div.sk-estimator:hover {background-color: #d4ebff;}#sk-container-id-8 div.sk-parallel-item::after {content: \"\";width: 100%;border-bottom: 1px solid gray;flex-grow: 1;}#sk-container-id-8 div.sk-label:hover label.sk-toggleable__label {background-color: #d4ebff;}#sk-container-id-8 div.sk-serial::before {content: \"\";position: absolute;border-left: 1px solid gray;box-sizing: border-box;top: 0;bottom: 0;left: 50%;z-index: 0;}#sk-container-id-8 div.sk-serial {display: flex;flex-direction: column;align-items: center;background-color: white;padding-right: 0.2em;padding-left: 0.2em;position: relative;}#sk-container-id-8 div.sk-item {position: relative;z-index: 1;}#sk-container-id-8 div.sk-parallel {display: flex;align-items: stretch;justify-content: center;background-color: white;position: relative;}#sk-container-id-8 div.sk-item::before, #sk-container-id-8 div.sk-parallel-item::before {content: \"\";position: absolute;border-left: 1px solid gray;box-sizing: border-box;top: 0;bottom: 0;left: 50%;z-index: -1;}#sk-container-id-8 div.sk-parallel-item {display: flex;flex-direction: column;z-index: 1;position: relative;background-color: white;}#sk-container-id-8 div.sk-parallel-item:first-child::after {align-self: flex-end;width: 50%;}#sk-container-id-8 div.sk-parallel-item:last-child::after {align-self: flex-start;width: 50%;}#sk-container-id-8 div.sk-parallel-item:only-child::after {width: 0;}#sk-container-id-8 div.sk-dashed-wrapped {border: 1px dashed gray;margin: 0 0.4em 0.5em 0.4em;box-sizing: border-box;padding-bottom: 0.4em;background-color: white;}#sk-container-id-8 div.sk-label label {font-family: monospace;font-weight: bold;display: inline-block;line-height: 1.2em;}#sk-container-id-8 div.sk-label-container {text-align: center;}#sk-container-id-8 div.sk-container {/* jupyter's `normalize.less` sets `[hidden] { display: none; }` but bootstrap.min.css set `[hidden] { display: none !important; }` so we also need the `!important` here to be able to override the default hidden behavior on the sphinx rendered scikit-learn.org. See: https://github.com/scikit-learn/scikit-learn/issues/21755 */display: inline-block !important;position: relative;}#sk-container-id-8 div.sk-text-repr-fallback {display: none;}</style><div id=\"sk-container-id-8\" class=\"sk-top-container\"><div class=\"sk-text-repr-fallback\"><pre>GaussianNB()</pre><b>In a Jupyter environment, please rerun this cell to show the HTML representation or trust the notebook. <br />On GitHub, the HTML representation is unable to render, please try loading this page with nbviewer.org.</b></div><div class=\"sk-container\" hidden><div class=\"sk-item\"><div class=\"sk-estimator sk-toggleable\"><input class=\"sk-toggleable__control sk-hidden--visually\" id=\"sk-estimator-id-8\" type=\"checkbox\" checked><label for=\"sk-estimator-id-8\" class=\"sk-toggleable__label sk-toggleable__label-arrow\">GaussianNB</label><div class=\"sk-toggleable__content\"><pre>GaussianNB()</pre></div></div></div></div></div>"
      ],
      "text/plain": [
       "GaussianNB()"
      ]
     },
     "execution_count": 225,
     "metadata": {},
     "output_type": "execute_result"
    }
   ],
   "source": [
    "gnb = GaussianNB()\n",
    "# Train classifier\n",
    "\n",
    "gnb.fit(X_train,y_train)"
   ]
  },
  {
   "cell_type": "code",
   "execution_count": 226,
   "id": "f998ead6",
   "metadata": {
    "ExecuteTime": {
     "end_time": "2023-07-31T23:53:18.518890901Z",
     "start_time": "2023-07-31T23:53:18.370416154Z"
    }
   },
   "outputs": [],
   "source": [
    "y_val_pred = gnb.predict(X_val)\n",
    "y_pred=gnb.predict(X_test)\n",
    "\n"
   ]
  },
  {
   "cell_type": "code",
   "execution_count": 227,
   "id": "e8219409",
   "metadata": {
    "ExecuteTime": {
     "end_time": "2023-07-31T23:53:18.519029124Z",
     "start_time": "2023-07-31T23:53:18.370539119Z"
    }
   },
   "outputs": [
    {
     "name": "stdout",
     "output_type": "stream",
     "text": [
      "Precisión en el conjunto de validación: 0.8725490196078431\n"
     ]
    }
   ],
   "source": [
    "# Calcular la precisión en el conjunto de validación\n",
    "precision_val = accuracy_score(y_val, y_val_pred)\n",
    "print(\"Precisión en el conjunto de validación:\", precision_val)"
   ]
  },
  {
   "cell_type": "code",
   "execution_count": 228,
   "id": "e71fd0af",
   "metadata": {
    "ExecuteTime": {
     "end_time": "2023-07-31T23:53:18.519152560Z",
     "start_time": "2023-07-31T23:53:18.370658517Z"
    }
   },
   "outputs": [
    {
     "name": "stdout",
     "output_type": "stream",
     "text": [
      "Precisión: 0.7352941176470589\n",
      "Precision: 0.6281968622394154\n",
      "Recall: 0.5134680134680134\n",
      "F1-score: 0.5628660595955709\n"
     ]
    },
    {
     "name": "stderr",
     "output_type": "stream",
     "text": [
      "C:\\Users\\cris_\\anaconda3\\lib\\site-packages\\sklearn\\metrics\\_classification.py:1344: UndefinedMetricWarning: Recall is ill-defined and being set to 0.0 in labels with no true samples. Use `zero_division` parameter to control this behavior.\n",
      "  _warn_prf(average, modifier, msg_start, len(result))\n"
     ]
    }
   ],
   "source": [
    "# Excatitud\n",
    "accuracy = accuracy_score(y_test, y_pred)\n",
    "print(\"Precisión:\", accuracy)\n",
    "\n",
    "# Precision\n",
    "precision = precision_score(y_test, y_pred,average='macro')\n",
    "print(\"Precision:\", precision)\n",
    "\n",
    "# Recall\n",
    "recall = recall_score(y_test, y_pred,average='macro')\n",
    "print(\"Recall:\", recall)\n",
    "\n",
    "# F1-score\n",
    "f1 = f1_score(y_test, y_pred,average='macro')\n",
    "print(\"F1-score:\", f1)"
   ]
  },
  {
   "cell_type": "code",
   "execution_count": 229,
   "id": "6d861403",
   "metadata": {
    "ExecuteTime": {
     "end_time": "2023-07-31T23:53:18.519488451Z",
     "start_time": "2023-07-31T23:53:18.370802557Z"
    }
   },
   "outputs": [
    {
     "data": {
      "text/html": [
       "<div>\n",
       "<style scoped>\n",
       "    .dataframe tbody tr th:only-of-type {\n",
       "        vertical-align: middle;\n",
       "    }\n",
       "\n",
       "    .dataframe tbody tr th {\n",
       "        vertical-align: top;\n",
       "    }\n",
       "\n",
       "    .dataframe thead th {\n",
       "        text-align: right;\n",
       "    }\n",
       "</style>\n",
       "<table border=\"1\" class=\"dataframe\">\n",
       "  <thead>\n",
       "    <tr style=\"text-align: right;\">\n",
       "      <th></th>\n",
       "      <th>M</th>\n",
       "      <th>D</th>\n",
       "      <th>G</th>\n",
       "    </tr>\n",
       "  </thead>\n",
       "  <tbody>\n",
       "    <tr>\n",
       "      <th>M</th>\n",
       "      <td>43</td>\n",
       "      <td>22</td>\n",
       "      <td>1</td>\n",
       "    </tr>\n",
       "    <tr>\n",
       "      <th>D</th>\n",
       "      <td>0</td>\n",
       "      <td>0</td>\n",
       "      <td>0</td>\n",
       "    </tr>\n",
       "    <tr>\n",
       "      <th>G</th>\n",
       "      <td>4</td>\n",
       "      <td>0</td>\n",
       "      <td>32</td>\n",
       "    </tr>\n",
       "  </tbody>\n",
       "</table>\n",
       "</div>"
      ],
      "text/plain": [
       "    M   D   G\n",
       "M  43  22   1\n",
       "D   0   0   0\n",
       "G   4   0  32"
      ]
     },
     "execution_count": 229,
     "metadata": {},
     "output_type": "execute_result"
    }
   ],
   "source": [
    "c=confusion_matrix(y_test, y_pred, labels=['M', 'D', 'G'])\n",
    "pd.DataFrame(c,index=['M', 'D', 'G'],columns=['M', 'D', 'G'])"
   ]
  },
  {
   "cell_type": "markdown",
   "id": "96564f6f",
   "metadata": {},
   "source": [
    "## d) Random Forest"
   ]
  },
  {
   "cell_type": "code",
   "execution_count": 230,
   "id": "efbf75db",
   "metadata": {
    "ExecuteTime": {
     "end_time": "2023-07-31T23:53:20.156719530Z",
     "start_time": "2023-07-31T23:53:18.386182471Z"
    }
   },
   "outputs": [
    {
     "name": "stdout",
     "output_type": "stream",
     "text": [
      "Precisión del modelo:  0.7254901960784315\n"
     ]
    }
   ],
   "source": [
    "rf = RandomForestClassifier(n_jobs=-1)\n",
    "\n",
    "rf.fit(X_train, y_train)\n",
    "\n",
    "y_val_pred = rf.predict(X_val)\n",
    "y_pred=rf.predict(X_test)\n",
    "\n",
    "scores = cross_val_score(rf, X_test, y_pred, cv=2)\n",
    "\n",
    "print(\"Precisión del modelo: \", scores.mean())"
   ]
  },
  {
   "cell_type": "code",
   "execution_count": 231,
   "id": "204ae1dc",
   "metadata": {
    "ExecuteTime": {
     "end_time": "2023-07-31T23:53:20.162380336Z",
     "start_time": "2023-07-31T23:53:20.156885827Z"
    }
   },
   "outputs": [
    {
     "name": "stdout",
     "output_type": "stream",
     "text": [
      "Precisión en el conjunto de validación: 0.8333333333333334\n"
     ]
    }
   ],
   "source": [
    "precision_val = accuracy_score(y_val, y_val_pred)\n",
    "print(\"Precisión en el conjunto de validación:\", precision_val)"
   ]
  },
  {
   "cell_type": "code",
   "execution_count": 232,
   "id": "418083d0",
   "metadata": {
    "ExecuteTime": {
     "end_time": "2023-07-31T23:53:20.223555056Z",
     "start_time": "2023-07-31T23:53:20.162581105Z"
    }
   },
   "outputs": [
    {
     "name": "stdout",
     "output_type": "stream",
     "text": [
      "Precisión: 0.7254901960784313\n",
      "Precision: 0.649074074074074\n",
      "Recall: 0.5210437710437711\n",
      "F1-score: 0.5693570929419987\n"
     ]
    },
    {
     "name": "stderr",
     "output_type": "stream",
     "text": [
      "C:\\Users\\cris_\\anaconda3\\lib\\site-packages\\sklearn\\metrics\\_classification.py:1344: UndefinedMetricWarning: Recall is ill-defined and being set to 0.0 in labels with no true samples. Use `zero_division` parameter to control this behavior.\n",
      "  _warn_prf(average, modifier, msg_start, len(result))\n"
     ]
    }
   ],
   "source": [
    "# Exactitud\n",
    "accuracy = accuracy_score(y_test, y_pred)\n",
    "print(\"Precisión:\", accuracy)\n",
    "\n",
    "# Precision\n",
    "precision = precision_score(y_test, y_pred,average='macro')\n",
    "print(\"Precision:\", precision)\n",
    "\n",
    "# Recall\n",
    "recall = recall_score(y_test, y_pred,average='macro')\n",
    "print(\"Recall:\", recall)\n",
    "\n",
    "# F1-score\n",
    "f1 = f1_score(y_test, y_pred,average='macro')\n",
    "print(\"F1-score:\", f1)"
   ]
  },
  {
   "cell_type": "code",
   "execution_count": 233,
   "id": "f6712b44",
   "metadata": {
    "ExecuteTime": {
     "end_time": "2023-07-31T23:53:20.224210686Z",
     "start_time": "2023-07-31T23:53:20.203602176Z"
    }
   },
   "outputs": [
    {
     "data": {
      "text/html": [
       "<div>\n",
       "<style scoped>\n",
       "    .dataframe tbody tr th:only-of-type {\n",
       "        vertical-align: middle;\n",
       "    }\n",
       "\n",
       "    .dataframe tbody tr th {\n",
       "        vertical-align: top;\n",
       "    }\n",
       "\n",
       "    .dataframe thead th {\n",
       "        text-align: right;\n",
       "    }\n",
       "</style>\n",
       "<table border=\"1\" class=\"dataframe\">\n",
       "  <thead>\n",
       "    <tr style=\"text-align: right;\">\n",
       "      <th></th>\n",
       "      <th>M</th>\n",
       "      <th>D</th>\n",
       "      <th>G</th>\n",
       "    </tr>\n",
       "  </thead>\n",
       "  <tbody>\n",
       "    <tr>\n",
       "      <th>M</th>\n",
       "      <td>39</td>\n",
       "      <td>26</td>\n",
       "      <td>1</td>\n",
       "    </tr>\n",
       "    <tr>\n",
       "      <th>D</th>\n",
       "      <td>0</td>\n",
       "      <td>0</td>\n",
       "      <td>0</td>\n",
       "    </tr>\n",
       "    <tr>\n",
       "      <th>G</th>\n",
       "      <td>1</td>\n",
       "      <td>0</td>\n",
       "      <td>35</td>\n",
       "    </tr>\n",
       "  </tbody>\n",
       "</table>\n",
       "</div>"
      ],
      "text/plain": [
       "    M   D   G\n",
       "M  39  26   1\n",
       "D   0   0   0\n",
       "G   1   0  35"
      ]
     },
     "execution_count": 233,
     "metadata": {},
     "output_type": "execute_result"
    }
   ],
   "source": [
    "c=confusion_matrix(y_test, y_pred, labels=['M', 'D', 'G'])\n",
    "pd.DataFrame(c,index=['M', 'D', 'G'],columns=['M', 'D', 'G'])"
   ]
  },
  {
   "cell_type": "code",
   "execution_count": 234,
   "id": "bc3b964b20921464",
   "metadata": {
    "ExecuteTime": {
     "end_time": "2023-07-31T23:53:20.224373670Z",
     "start_time": "2023-07-31T23:53:20.203833135Z"
    }
   },
   "outputs": [],
   "source": [
    "import time"
   ]
  },
  {
   "cell_type": "code",
   "execution_count": 235,
   "id": "9cf65972aaa1ec05",
   "metadata": {
    "ExecuteTime": {
     "end_time": "2023-07-31T23:53:20.224445813Z",
     "start_time": "2023-07-31T23:53:20.203997161Z"
    }
   },
   "outputs": [],
   "source": [
    "start_time = time.time()\n",
    "importances = rf.feature_importances_\n",
    "std = np.std([tree.feature_importances_ for tree in rf.estimators_], axis=0)\n",
    "elapsed_time = time.time() - start_time"
   ]
  },
  {
   "cell_type": "code",
   "execution_count": 236,
   "id": "3113860f0c713be3",
   "metadata": {
    "ExecuteTime": {
     "end_time": "2023-07-31T23:53:20.224700285Z",
     "start_time": "2023-07-31T23:53:20.204133263Z"
    }
   },
   "outputs": [
    {
     "name": "stdout",
     "output_type": "stream",
     "text": [
      "Elapsed time to compute the importances: 0.033 seconds\n"
     ]
    }
   ],
   "source": [
    "print(f\"Elapsed time to compute the importances: {elapsed_time:.3f} seconds\")"
   ]
  },
  {
   "cell_type": "code",
   "execution_count": 237,
   "id": "6e742bea8f962cf8",
   "metadata": {
    "ExecuteTime": {
     "end_time": "2023-07-31T23:53:20.420737498Z",
     "start_time": "2023-07-31T23:53:20.246917505Z"
    }
   },
   "outputs": [
    {
     "data": {
      "image/png": "[encoded data removed]",
      "text/plain": [
       "<Figure size 432x288 with 1 Axes>"
      ]
     },
     "metadata": {
      "needs_background": "light"
     },
     "output_type": "display_data"
    }
   ],
   "source": [
    "forest_importances = pd.Series(importances, index=feature_cols)\n",
    "\n",
    "fig, ax = plt.subplots()\n",
    "forest_importances.plot.bar(yerr=std, ax=ax)\n",
    "ax.set_title(\"Importancia de las características usando MDI\")\n",
    "ax.set_ylabel(\"Disminución media de impureza\")\n",
    "fig.tight_layout()"
   ]
  },
  {
   "cell_type": "code",
   "execution_count": 238,
   "id": "6c9132958137acbd",
   "metadata": {
    "ExecuteTime": {
     "end_time": "2023-07-31T23:53:22.421954707Z",
     "start_time": "2023-07-31T23:53:20.419525820Z"
    }
   },
   "outputs": [
    {
     "name": "stdout",
     "output_type": "stream",
     "text": [
      "Elapsed time to compute the importances: 6.306 seconds\n"
     ]
    }
   ],
   "source": [
    "from sklearn.inspection import permutation_importance\n",
    "\n",
    "start_time = time.time()\n",
    "result = permutation_importance(\n",
    "        rf, X_test, y_test, n_repeats=10, random_state=42, n_jobs=2\n",
    ")\n",
    "elapsed_time = time.time() - start_time\n",
    "print(f\"Elapsed time to compute the importances: {elapsed_time:.3f} seconds\")\n",
    "\n",
    "forest_importances = pd.Series(result.importances_mean, index=feature_cols)"
   ]
  },
  {
   "cell_type": "code",
   "execution_count": 239,
   "id": "1c47c43e0169f18d",
   "metadata": {
    "ExecuteTime": {
     "end_time": "2023-07-31T23:53:22.600824349Z",
     "start_time": "2023-07-31T23:53:22.434352746Z"
    }
   },
   "outputs": [
    {
     "data": {
      "image/png": "[encoded data removed]",
      "text/plain": [
       "<Figure size 432x288 with 1 Axes>"
      ]
     },
     "metadata": {
      "needs_background": "light"
     },
     "output_type": "display_data"
    }
   ],
   "source": [
    "fig, ax = plt.subplots()\n",
    "forest_importances.plot.bar(yerr=result.importances_std, ax=ax)\n",
    "ax.set_title(\"Importancia usando la permutación en el modelo completo\")\n",
    "ax.set_ylabel(\"Disminución de la precisión media\")\n",
    "fig.tight_layout()\n",
    "\n",
    "plt.show()"
   ]
  },
  {
   "cell_type": "markdown",
   "id": "a32547f5",
   "metadata": {},
   "source": [
    "## e) Arbol de decisión"
   ]
  },
  {
   "cell_type": "code",
   "execution_count": 240,
   "id": "d85318dd",
   "metadata": {
    "ExecuteTime": {
     "end_time": "2023-07-31T23:53:22.668034166Z",
     "start_time": "2023-07-31T23:53:22.600977626Z"
    }
   },
   "outputs": [
    {
     "name": "stdout",
     "output_type": "stream",
     "text": [
      "Exactitud del modelo: 0.9804761904761905\n"
     ]
    }
   ],
   "source": [
    "dt = DecisionTreeClassifier(criterion= 'entropy', max_depth= None, min_samples_leaf= 1, min_samples_split= 2)\n",
    "\n",
    "\n",
    "\n",
    "# Realiza la búsqueda de hiperparámetros en el conjunto de entrenamiento\n",
    "dt.fit(X_train, y_train)\n",
    "# Muestra los mejores hiperparámetros encontrados\n",
    "\n",
    "\n",
    "scores = cross_val_score(dt, X_test, y_test)\n",
    "print(\"Exactitud del modelo:\", scores.mean())"
   ]
  },
  {
   "cell_type": "code",
   "execution_count": 190,
   "id": "a394012f",
   "metadata": {
    "ExecuteTime": {
     "end_time": "2023-07-31T23:53:22.668257478Z",
     "start_time": "2023-07-31T23:53:22.643507363Z"
    }
   },
   "outputs": [],
   "source": [
    "y_val_pred = dt.predict(X_val)\n",
    "y_pred=dt.predict(X_test)"
   ]
  },
  {
   "cell_type": "code",
   "execution_count": 191,
   "id": "750bd368",
   "metadata": {
    "ExecuteTime": {
     "end_time": "2023-07-31T23:53:22.668484641Z",
     "start_time": "2023-07-31T23:53:22.643682541Z"
    }
   },
   "outputs": [
    {
     "name": "stdout",
     "output_type": "stream",
     "text": [
      "Precisión: 0.696078431372549\n",
      "Precision: 0.6576576576576577\n",
      "Recall: 0.51010101010101\n",
      "F1-score: 0.5597902255979023\n"
     ]
    },
    {
     "name": "stderr",
     "output_type": "stream",
     "text": [
      "C:\\Users\\cris_\\anaconda3\\lib\\site-packages\\sklearn\\metrics\\_classification.py:1344: UndefinedMetricWarning: Recall is ill-defined and being set to 0.0 in labels with no true samples. Use `zero_division` parameter to control this behavior.\n",
      "  _warn_prf(average, modifier, msg_start, len(result))\n"
     ]
    }
   ],
   "source": [
    "# Exactitud\n",
    "accuracy = accuracy_score(y_test, y_pred)\n",
    "print(\"Precisión:\", accuracy)\n",
    "\n",
    "# Precision\n",
    "precision = precision_score(y_test, y_pred,average='macro')\n",
    "print(\"Precision:\", precision)\n",
    "\n",
    "# Recall\n",
    "recall = recall_score(y_test, y_pred,average='macro')\n",
    "print(\"Recall:\", recall)\n",
    "\n",
    "# F1-score\n",
    "f1 = f1_score(y_test, y_pred,average='macro')\n",
    "print(\"F1-score:\", f1)"
   ]
  },
  {
   "cell_type": "code",
   "execution_count": 192,
   "id": "6cf2f573",
   "metadata": {
    "ExecuteTime": {
     "end_time": "2023-07-31T23:53:22.668846451Z",
     "start_time": "2023-07-31T23:53:22.643773720Z"
    }
   },
   "outputs": [
    {
     "data": {
      "text/html": [
       "<div>\n",
       "<style scoped>\n",
       "    .dataframe tbody tr th:only-of-type {\n",
       "        vertical-align: middle;\n",
       "    }\n",
       "\n",
       "    .dataframe tbody tr th {\n",
       "        vertical-align: top;\n",
       "    }\n",
       "\n",
       "    .dataframe thead th {\n",
       "        text-align: right;\n",
       "    }\n",
       "</style>\n",
       "<table border=\"1\" class=\"dataframe\">\n",
       "  <thead>\n",
       "    <tr style=\"text-align: right;\">\n",
       "      <th></th>\n",
       "      <th>M</th>\n",
       "      <th>D</th>\n",
       "      <th>G</th>\n",
       "    </tr>\n",
       "  </thead>\n",
       "  <tbody>\n",
       "    <tr>\n",
       "      <th>M</th>\n",
       "      <td>35</td>\n",
       "      <td>30</td>\n",
       "      <td>1</td>\n",
       "    </tr>\n",
       "    <tr>\n",
       "      <th>D</th>\n",
       "      <td>0</td>\n",
       "      <td>0</td>\n",
       "      <td>0</td>\n",
       "    </tr>\n",
       "    <tr>\n",
       "      <th>G</th>\n",
       "      <td>0</td>\n",
       "      <td>0</td>\n",
       "      <td>36</td>\n",
       "    </tr>\n",
       "  </tbody>\n",
       "</table>\n",
       "</div>"
      ],
      "text/plain": [
       "    M   D   G\n",
       "M  35  30   1\n",
       "D   0   0   0\n",
       "G   0   0  36"
      ]
     },
     "execution_count": 192,
     "metadata": {},
     "output_type": "execute_result"
    }
   ],
   "source": [
    "c=confusion_matrix(y_test, y_pred, labels=['M', 'D', 'G'])\n",
    "pd.DataFrame(c,index=['M', 'D', 'G'],columns=['M', 'D', 'G'])"
   ]
  },
  {
   "cell_type": "markdown",
   "id": "51c4a9e8",
   "metadata": {},
   "source": [
    "## f) gradient Boosting"
   ]
  },
  {
   "cell_type": "code",
   "execution_count": 193,
   "id": "026d8d12",
   "metadata": {
    "ExecuteTime": {
     "end_time": "2023-07-31T23:53:22.668938217Z",
     "start_time": "2023-07-31T23:53:22.643904795Z"
    }
   },
   "outputs": [],
   "source": [
    "gb_model = GradientBoostingClassifier(n_estimators=200,learning_rate=0.2,max_depth=5,min_samples_split=5,subsample=0.8)"
   ]
  },
  {
   "cell_type": "code",
   "execution_count": null,
   "id": "56512ccb",
   "metadata": {},
   "outputs": [],
   "source": []
  },
  {
   "cell_type": "code",
   "execution_count": 194,
   "id": "e379e22a",
   "metadata": {
    "ExecuteTime": {
     "end_time": "2023-07-31T23:53:22.861555395Z",
     "start_time": "2023-07-31T23:53:22.690118306Z"
    }
   },
   "outputs": [
    {
     "data": {
      "text/html": [
       "<style>#sk-container-id-6 {color: black;background-color: white;}#sk-container-id-6 pre{padding: 0;}#sk-container-id-6 div.sk-toggleable {background-color: white;}#sk-container-id-6 label.sk-toggleable__label {cursor: pointer;display: block;width: 100%;margin-bottom: 0;padding: 0.3em;box-sizing: border-box;text-align: center;}#sk-container-id-6 label.sk-toggleable__label-arrow:before {content: \"▸\";float: left;margin-right: 0.25em;color: #696969;}#sk-container-id-6 label.sk-toggleable__label-arrow:hover:before {color: black;}#sk-container-id-6 div.sk-estimator:hover label.sk-toggleable__label-arrow:before {color: black;}#sk-container-id-6 div.sk-toggleable__content {max-height: 0;max-width: 0;overflow: hidden;text-align: left;background-color: #f0f8ff;}#sk-container-id-6 div.sk-toggleable__content pre {margin: 0.2em;color: black;border-radius: 0.25em;background-color: #f0f8ff;}#sk-container-id-6 input.sk-toggleable__control:checked~div.sk-toggleable__content {max-height: 200px;max-width: 100%;overflow: auto;}#sk-container-id-6 input.sk-toggleable__control:checked~label.sk-toggleable__label-arrow:before {content: \"▾\";}#sk-container-id-6 div.sk-estimator input.sk-toggleable__control:checked~label.sk-toggleable__label {background-color: #d4ebff;}#sk-container-id-6 div.sk-label input.sk-toggleable__control:checked~label.sk-toggleable__label {background-color: #d4ebff;}#sk-container-id-6 input.sk-hidden--visually {border: 0;clip: rect(1px 1px 1px 1px);clip: rect(1px, 1px, 1px, 1px);height: 1px;margin: -1px;overflow: hidden;padding: 0;position: absolute;width: 1px;}#sk-container-id-6 div.sk-estimator {font-family: monospace;background-color: #f0f8ff;border: 1px dotted black;border-radius: 0.25em;box-sizing: border-box;margin-bottom: 0.5em;}#sk-container-id-6 div.sk-estimator:hover {background-color: #d4ebff;}#sk-container-id-6 div.sk-parallel-item::after {content: \"\";width: 100%;border-bottom: 1px solid gray;flex-grow: 1;}#sk-container-id-6 div.sk-label:hover label.sk-toggleable__label {background-color: #d4ebff;}#sk-container-id-6 div.sk-serial::before {content: \"\";position: absolute;border-left: 1px solid gray;box-sizing: border-box;top: 0;bottom: 0;left: 50%;z-index: 0;}#sk-container-id-6 div.sk-serial {display: flex;flex-direction: column;align-items: center;background-color: white;padding-right: 0.2em;padding-left: 0.2em;position: relative;}#sk-container-id-6 div.sk-item {position: relative;z-index: 1;}#sk-container-id-6 div.sk-parallel {display: flex;align-items: stretch;justify-content: center;background-color: white;position: relative;}#sk-container-id-6 div.sk-item::before, #sk-container-id-6 div.sk-parallel-item::before {content: \"\";position: absolute;border-left: 1px solid gray;box-sizing: border-box;top: 0;bottom: 0;left: 50%;z-index: -1;}#sk-container-id-6 div.sk-parallel-item {display: flex;flex-direction: column;z-index: 1;position: relative;background-color: white;}#sk-container-id-6 div.sk-parallel-item:first-child::after {align-self: flex-end;width: 50%;}#sk-container-id-6 div.sk-parallel-item:last-child::after {align-self: flex-start;width: 50%;}#sk-container-id-6 div.sk-parallel-item:only-child::after {width: 0;}#sk-container-id-6 div.sk-dashed-wrapped {border: 1px dashed gray;margin: 0 0.4em 0.5em 0.4em;box-sizing: border-box;padding-bottom: 0.4em;background-color: white;}#sk-container-id-6 div.sk-label label {font-family: monospace;font-weight: bold;display: inline-block;line-height: 1.2em;}#sk-container-id-6 div.sk-label-container {text-align: center;}#sk-container-id-6 div.sk-container {/* jupyter's `normalize.less` sets `[hidden] { display: none; }` but bootstrap.min.css set `[hidden] { display: none !important; }` so we also need the `!important` here to be able to override the default hidden behavior on the sphinx rendered scikit-learn.org. See: https://github.com/scikit-learn/scikit-learn/issues/21755 */display: inline-block !important;position: relative;}#sk-container-id-6 div.sk-text-repr-fallback {display: none;}</style><div id=\"sk-container-id-6\" class=\"sk-top-container\"><div class=\"sk-text-repr-fallback\"><pre>GradientBoostingClassifier(learning_rate=0.2, max_depth=5, min_samples_split=5,\n",
       "                           n_estimators=200, subsample=0.8)</pre><b>In a Jupyter environment, please rerun this cell to show the HTML representation or trust the notebook. <br />On GitHub, the HTML representation is unable to render, please try loading this page with nbviewer.org.</b></div><div class=\"sk-container\" hidden><div class=\"sk-item\"><div class=\"sk-estimator sk-toggleable\"><input class=\"sk-toggleable__control sk-hidden--visually\" id=\"sk-estimator-id-6\" type=\"checkbox\" checked><label for=\"sk-estimator-id-6\" class=\"sk-toggleable__label sk-toggleable__label-arrow\">GradientBoostingClassifier</label><div class=\"sk-toggleable__content\"><pre>GradientBoostingClassifier(learning_rate=0.2, max_depth=5, min_samples_split=5,\n",
       "                           n_estimators=200, subsample=0.8)</pre></div></div></div></div></div>"
      ],
      "text/plain": [
       "GradientBoostingClassifier(learning_rate=0.2, max_depth=5, min_samples_split=5,\n",
       "                           n_estimators=200, subsample=0.8)"
      ]
     },
     "execution_count": 194,
     "metadata": {},
     "output_type": "execute_result"
    }
   ],
   "source": [
    "gb_model.fit(X_train, y_train)"
   ]
  },
  {
   "cell_type": "code",
   "execution_count": 195,
   "id": "46fa45ca",
   "metadata": {
    "ExecuteTime": {
     "end_time": "2023-07-31T23:53:22.903209049Z",
     "start_time": "2023-07-31T23:53:22.853938083Z"
    }
   },
   "outputs": [],
   "source": [
    "y_pred = gb_model.predict(X_test)\n",
    "y_val_pred = gb_model.predict(X_val)\n"
   ]
  },
  {
   "cell_type": "code",
   "execution_count": 196,
   "id": "bfb7ca5f",
   "metadata": {
    "ExecuteTime": {
     "end_time": "2023-07-31T23:53:22.903536671Z",
     "start_time": "2023-07-31T23:53:22.896905041Z"
    }
   },
   "outputs": [
    {
     "name": "stdout",
     "output_type": "stream",
     "text": [
      "Precisión del modelo: 0.696078431372549\n"
     ]
    }
   ],
   "source": [
    "accuracy = accuracy_score(y_test, y_pred)\n",
    "print(\"Precisión del modelo:\", accuracy)"
   ]
  },
  {
   "cell_type": "code",
   "execution_count": 197,
   "id": "43b26992",
   "metadata": {
    "ExecuteTime": {
     "end_time": "2023-07-31T23:53:22.903673854Z",
     "start_time": "2023-07-31T23:53:22.897111847Z"
    }
   },
   "outputs": [
    {
     "name": "stdout",
     "output_type": "stream",
     "text": [
      "Precisión: 0.696078431372549\n",
      "Precision: 0.6576576576576577\n",
      "Recall: 0.51010101010101\n",
      "F1-score: 0.5597902255979023\n"
     ]
    },
    {
     "name": "stderr",
     "output_type": "stream",
     "text": [
      "C:\\Users\\cris_\\anaconda3\\lib\\site-packages\\sklearn\\metrics\\_classification.py:1344: UndefinedMetricWarning: Recall is ill-defined and being set to 0.0 in labels with no true samples. Use `zero_division` parameter to control this behavior.\n",
      "  _warn_prf(average, modifier, msg_start, len(result))\n"
     ]
    }
   ],
   "source": [
    "# Exactitud\n",
    "accuracy = accuracy_score(y_test, y_pred)\n",
    "print(\"Precisión:\", accuracy)\n",
    "\n",
    "# Precision\n",
    "precision = precision_score(y_test, y_pred,average='macro')\n",
    "print(\"Precision:\", precision)\n",
    "\n",
    "# Recall\n",
    "recall = recall_score(y_test, y_pred,average='macro')\n",
    "print(\"Recall:\", recall)\n",
    "\n",
    "# F1-score\n",
    "f1 = f1_score(y_test, y_pred,average='macro')\n",
    "print(\"F1-score:\", f1)"
   ]
  },
  {
   "cell_type": "code",
   "execution_count": 198,
   "id": "5f24d826",
   "metadata": {
    "ExecuteTime": {
     "end_time": "2023-07-31T23:53:22.903993247Z",
     "start_time": "2023-07-31T23:53:22.897252978Z"
    }
   },
   "outputs": [
    {
     "data": {
      "text/html": [
       "<div>\n",
       "<style scoped>\n",
       "    .dataframe tbody tr th:only-of-type {\n",
       "        vertical-align: middle;\n",
       "    }\n",
       "\n",
       "    .dataframe tbody tr th {\n",
       "        vertical-align: top;\n",
       "    }\n",
       "\n",
       "    .dataframe thead th {\n",
       "        text-align: right;\n",
       "    }\n",
       "</style>\n",
       "<table border=\"1\" class=\"dataframe\">\n",
       "  <thead>\n",
       "    <tr style=\"text-align: right;\">\n",
       "      <th></th>\n",
       "      <th>M</th>\n",
       "      <th>D</th>\n",
       "      <th>G</th>\n",
       "    </tr>\n",
       "  </thead>\n",
       "  <tbody>\n",
       "    <tr>\n",
       "      <th>M</th>\n",
       "      <td>35</td>\n",
       "      <td>30</td>\n",
       "      <td>1</td>\n",
       "    </tr>\n",
       "    <tr>\n",
       "      <th>D</th>\n",
       "      <td>0</td>\n",
       "      <td>0</td>\n",
       "      <td>0</td>\n",
       "    </tr>\n",
       "    <tr>\n",
       "      <th>G</th>\n",
       "      <td>0</td>\n",
       "      <td>0</td>\n",
       "      <td>36</td>\n",
       "    </tr>\n",
       "  </tbody>\n",
       "</table>\n",
       "</div>"
      ],
      "text/plain": [
       "    M   D   G\n",
       "M  35  30   1\n",
       "D   0   0   0\n",
       "G   0   0  36"
      ]
     },
     "execution_count": 198,
     "metadata": {},
     "output_type": "execute_result"
    }
   ],
   "source": [
    "c=confusion_matrix(y_test, y_pred, labels=['M', 'D', 'G'])\n",
    "pd.DataFrame(c,index=['M', 'D', 'G'],columns=['M', 'D', 'G'])"
   ]
  },
  {
   "cell_type": "code",
   "execution_count": 199,
   "id": "94e8a65d",
   "metadata": {
    "ExecuteTime": {
     "end_time": "2023-07-31T23:53:22.904079523Z",
     "start_time": "2023-07-31T23:53:22.897393044Z"
    }
   },
   "outputs": [],
   "source": [
    "#X_train,X_temp,y_train,y_temp = train_test_split(X,y,test_size=0.20, random_state=42)\n",
    "#X_val, X_test, y_val, y_test = train_test_split(X_temp, y_temp, test_size=0.5, random_state=42)"
   ]
  },
  {
   "cell_type": "markdown",
   "id": "3f07c7cd",
   "metadata": {
    "ExecuteTime": {
     "end_time": "2023-07-31T23:53:22.904148275Z",
     "start_time": "2023-07-31T23:53:22.897529580Z"
    }
   },
   "source": [
    "### Utilización del algoritmo de cada paciente para predicción de estado de ánimo"
   ]
  },
  {
   "cell_type": "code",
   "execution_count": 200,
   "id": "1ffd835b",
   "metadata": {
    "ExecuteTime": {
     "end_time": "2023-07-31T23:53:22.904203113Z",
     "start_time": "2023-07-31T23:53:22.897620590Z"
    }
   },
   "outputs": [],
   "source": [
    "paciente_ids = bipolar_trimmed['ID'].unique()\n"
   ]
  },
  {
   "cell_type": "code",
   "execution_count": 201,
   "id": "644dd335",
   "metadata": {},
   "outputs": [
    {
     "name": "stdout",
     "output_type": "stream",
     "text": [
      "***************************************************************************\n",
      "ID_Paciente: 1, Modelo: Arbol de desicion,\n",
      "                Precisión: 0.34615384615384615, \n",
      "                Recall:0.507090909090909, \n",
      "                f1 score:0.32727272727272727\n",
      "ID_Paciente: 1, Modelo: SVM,\n",
      "                Precisión: 0.21153846153846154, \n",
      "                Recall:0.25, \n",
      "                f1 score:0.08730158730158731\n",
      "ID_Paciente: 1, Modelo: Random Forest,\n",
      "                Precisión: 0.5769230769230769, \n",
      "                Recall:0.5165909090909091, \n",
      "                f1 score:0.5169713718820862\n",
      "ID_Paciente: 1, Modelo: Gradient Boosting,\n",
      "                Precisión: 0.5384615384615384, \n",
      "                Recall:0.5263636363636364, \n",
      "                f1 score:0.5577922077922077\n",
      "ID_Paciente: 1, Modelo: Naive bayes,\n",
      "                Precisión: 0.6538461538461539, \n",
      "                Recall:0.6554545454545455, \n",
      "                f1 score:0.4386361441128175\n",
      "ID_Paciente: 1, Modelo: KNN,\n",
      "                Precisión: 0.4423076923076923, \n",
      "                Recall:0.42954545454545456, \n",
      "                f1 score:0.40165470494417865\n",
      "***************************************************************************\n",
      "ID_Paciente: 2, Modelo: Arbol de desicion,\n",
      "                Precisión: 0.8571428571428571, \n",
      "                Recall:0.8504201680672269, \n",
      "                f1 score:0.6816666666666666\n",
      "ID_Paciente: 2, Modelo: SVM,\n",
      "                Precisión: 0.4857142857142857, \n",
      "                Recall:0.25, \n",
      "                f1 score:0.16346153846153846\n",
      "ID_Paciente: 2, Modelo: Random Forest,\n",
      "                Precisión: 0.8571428571428571, \n",
      "                Recall:0.9233193277310925, \n",
      "                f1 score:0.9193548387096775\n",
      "ID_Paciente: 2, Modelo: Gradient Boosting,\n",
      "                Precisión: 0.8571428571428571, \n",
      "                Recall:0.8504201680672269, \n",
      "                f1 score:0.6816666666666666\n",
      "ID_Paciente: 2, Modelo: Naive bayes,\n",
      "                Precisión: 0.3142857142857143, \n",
      "                Recall:0.5058823529411764, \n",
      "                f1 score:0.2933333333333333\n",
      "ID_Paciente: 2, Modelo: KNN,\n",
      "                Precisión: 0.7714285714285715, \n",
      "                Recall:0.542016806722689, \n",
      "                f1 score:0.564655172413793\n",
      "***************************************************************************\n",
      "ID_Paciente: 3, Modelo: Arbol de desicion,\n",
      "                Precisión: 0.6818181818181818, \n",
      "                Recall:0.6979489164086687, \n",
      "                f1 score:0.4625691740110679\n",
      "ID_Paciente: 3, Modelo: SVM,\n",
      "                Precisión: 0.4318181818181818, \n",
      "                Recall:0.3333333333333333, \n",
      "                f1 score:0.20105820105820105\n",
      "ID_Paciente: 3, Modelo: Random Forest,\n",
      "                Precisión: 0.6136363636363636, \n",
      "                Recall:0.6522832817337461, \n",
      "                f1 score:0.4106912144702842\n",
      "ID_Paciente: 3, Modelo: Gradient Boosting,\n",
      "                Precisión: 0.7045454545454546, \n",
      "                Recall:0.5906862745098039, \n",
      "                f1 score:0.5878306878306878\n",
      "ID_Paciente: 3, Modelo: Naive bayes,\n",
      "                Precisión: 0.6136363636363636, \n",
      "                Recall:0.6222910216718266, \n",
      "                f1 score:0.3847771236333053\n",
      "ID_Paciente: 3, Modelo: KNN,\n",
      "                Precisión: 0.4318181818181818, \n",
      "                Recall:0.3333333333333333, \n",
      "                f1 score:0.20105820105820105\n",
      "***************************************************************************\n",
      "ID_Paciente: 1503864795, Modelo: Arbol de desicion,\n",
      "                Precisión: 0.2857142857142857, \n",
      "                Recall:0.20833333333333331, \n",
      "                f1 score:0.16666666666666666\n",
      "ID_Paciente: 1503864795, Modelo: SVM,\n",
      "                Precisión: 0.42857142857142855, \n",
      "                Recall:0.25, \n",
      "                f1 score:0.15\n",
      "ID_Paciente: 1503864795, Modelo: Random Forest,\n",
      "                Precisión: 0.42857142857142855, \n",
      "                Recall:0.29166666666666663, \n",
      "                f1 score:0.24285714285714288\n",
      "ID_Paciente: 1503864795, Modelo: Gradient Boosting,\n",
      "                Precisión: 0.2857142857142857, \n",
      "                Recall:0.20833333333333331, \n",
      "                f1 score:0.16666666666666666\n",
      "ID_Paciente: 1503864795, Modelo: Naive bayes,\n",
      "                Precisión: 0.14285714285714285, \n",
      "                Recall:0.08333333333333333, \n",
      "                f1 score:0.0625\n",
      "ID_Paciente: 1503864795, Modelo: KNN,\n",
      "                Precisión: 0.42857142857142855, \n",
      "                Recall:0.25, \n",
      "                f1 score:0.15\n"
     ]
    }
   ],
   "source": [
    "for paciente_id in [1,2,3,1503864795]:\n",
    "    # Filtra el DataFrame por ID de paciente\n",
    "    paciente_df = bipolar_trimmed[bipolar_trimmed['ID'] == paciente_id]\n",
    "\n",
    "    # Separa las características (X) y la variable objetivo (y)\n",
    "    X = paciente_df.drop(columns=[\"Estado de ánimo\",\"Código\"])  # Ajusta el nombre de la columna según tu conjunto de datos\n",
    "    y = paciente_df[\"Estado de ánimo\"]\n",
    "    \n",
    "    # Divide el conjunto de datos en entrenamiento y prueba\n",
    "    X_train, X_test, y_train, y_test = train_test_split(X, y, test_size=0.2)\n",
    "    print(f'***************************************************************************')\n",
    "# Define una lista de modelos\n",
    "    modelos = [\n",
    "        ('Arbol de desicion', DecisionTreeClassifier()),\n",
    "        ('SVM', SVC()),\n",
    "        ('Random Forest', RandomForestClassifier()),\n",
    "        ('Gradient Boosting', GradientBoostingClassifier()),\n",
    "        ('Naive bayes', GaussianNB()),\n",
    "        ('KNN',KNeighborsClassifier(n_neighbors=20))\n",
    "        \n",
    "        # Agrega más modelos según sea necesario\n",
    "    ]\n",
    "\n",
    "    # Itera sobre cada modelo\n",
    "    for nombre_modelo, modelo in modelos:\n",
    "        # Entrena el modelo\n",
    "        modelo.fit(X_train, y_train)\n",
    "\n",
    "        # Realiza predicciones en el conjunto de prueba\n",
    "        y_pred = modelo.predict(X_test)\n",
    "\n",
    "        # Evalúa la precisión del modelo\n",
    "        accuracy = accuracy_score(y_test, y_pred)\n",
    "        # Precision\n",
    "        precision = precision_score(y_test, y_pred,average='macro',zero_division=1)\n",
    "\n",
    "        # Recall\n",
    "        recall = recall_score(y_test, y_pred,average='macro',zero_division=1)\n",
    "\n",
    "        # F1-score\n",
    "        f1 = f1_score(y_test, y_pred,average='macro')\n",
    "\n",
    "        # Imprime la precisión para cada paciente y modelo\n",
    "        print(f'ID_Paciente: {paciente_id}, Modelo: {nombre_modelo},\\n                Precisión: {accuracy}, \\n                Recall:{recall}, \\n                f1 score:{f1}')\n",
    "        \n",
    "        "
   ]
  },
  {
   "cell_type": "code",
   "execution_count": null,
   "id": "b775ab8c",
   "metadata": {},
   "outputs": [],
   "source": []
  },
  {
   "cell_type": "code",
   "execution_count": 299,
   "id": "a7602279",
   "metadata": {},
   "outputs": [
    {
     "name": "stdout",
     "output_type": "stream",
     "text": [
      "Elapsed time to compute the importances: 1.405 seconds\n"
     ]
    },
    {
     "data": {
      "image/png": "[encoded data removed]",
      "text/plain": [
       "<Figure size 432x288 with 1 Axes>"
      ]
     },
     "metadata": {
      "needs_background": "light"
     },
     "output_type": "display_data"
    },
    {
     "name": "stdout",
     "output_type": "stream",
     "text": [
      "Elapsed time to compute the importances: 1.197 seconds\n"
     ]
    },
    {
     "data": {
      "image/png": "[encoded data removed]",
      "text/plain": [
       "<Figure size 432x288 with 1 Axes>"
      ]
     },
     "metadata": {
      "needs_background": "light"
     },
     "output_type": "display_data"
    },
    {
     "name": "stdout",
     "output_type": "stream",
     "text": [
      "Elapsed time to compute the importances: 1.183 seconds\n"
     ]
    },
    {
     "data": {
      "image/png": "[encoded data removed]",
      "text/plain": [
       "<Figure size 432x288 with 1 Axes>"
      ]
     },
     "metadata": {
      "needs_background": "light"
     },
     "output_type": "display_data"
    },
    {
     "name": "stdout",
     "output_type": "stream",
     "text": [
      "Elapsed time to compute the importances: 1.187 seconds\n"
     ]
    },
    {
     "data": {
      "image/png": "[encoded data removed]",
      "text/plain": [
       "<Figure size 432x288 with 1 Axes>"
      ]
     },
     "metadata": {
      "needs_background": "light"
     },
     "output_type": "display_data"
    }
   ],
   "source": [
    "for paciente_id in [1,2,3,1503864795]:\n",
    "    paciente_df = bipolar_trimmed[bipolar_trimmed['ID'] == paciente_id]\n",
    "\n",
    "    # Separa las características (X) y la variable objetivo (y)\n",
    "    X = paciente_df.drop(columns=[\"Estado de ánimo\",\"Código\",\"Número de cigarrillos\",\"Cafeína\"])  \n",
    "    # Ajusta el nombre de la columna según tu conjunto de datos\n",
    "    y = paciente_df[\"Estado de ánimo\"]\n",
    "    \n",
    "    # Divide el conjunto de datos en entrenamiento y prueba\n",
    "    X_train, X_test, y_train, y_test = train_test_split(X, y, test_size=0.2)\n",
    "    rf=RandomForestClassifier()\n",
    "    rf.fit(X_train, y_train)\n",
    "    from sklearn.inspection import permutation_importance\n",
    "\n",
    "    start_time = time.time()\n",
    "    result = permutation_importance(\n",
    "        rf, X_test, y_test, n_repeats=10, random_state=42, n_jobs=2\n",
    "    )\n",
    "    elapsed_time = time.time() - start_time\n",
    "    print(f\"Elapsed time to compute the importances: {elapsed_time:.3f} seconds\")\n",
    "\n",
    "    forest_importances = pd.Series(result.importances_mean, index=feature_columns)\n",
    "    fig, ax = plt.subplots()\n",
    "    forest_importances.plot.bar(yerr=result.importances_std, ax=ax)\n",
    "    ax.set_title(f\"Importancia usando la permutación en el paciente {paciente_id}\")\n",
    "    ax.set_ylabel(\"Disminución de la precisión media\")\n",
    "    fig.tight_layout()\n",
    "\n",
    "    plt.show()"
   ]
  },
  {
   "cell_type": "code",
   "execution_count": 281,
   "id": "0ed78ef4",
   "metadata": {},
   "outputs": [],
   "source": [
    "    rf=RandomForestClassifier()"
   ]
  },
  {
   "cell_type": "code",
   "execution_count": 287,
   "id": "8e416724",
   "metadata": {},
   "outputs": [
    {
     "data": {
      "text/html": [
       "<style>#sk-container-id-15 {color: black;background-color: white;}#sk-container-id-15 pre{padding: 0;}#sk-container-id-15 div.sk-toggleable {background-color: white;}#sk-container-id-15 label.sk-toggleable__label {cursor: pointer;display: block;width: 100%;margin-bottom: 0;padding: 0.3em;box-sizing: border-box;text-align: center;}#sk-container-id-15 label.sk-toggleable__label-arrow:before {content: \"▸\";float: left;margin-right: 0.25em;color: #696969;}#sk-container-id-15 label.sk-toggleable__label-arrow:hover:before {color: black;}#sk-container-id-15 div.sk-estimator:hover label.sk-toggleable__label-arrow:before {color: black;}#sk-container-id-15 div.sk-toggleable__content {max-height: 0;max-width: 0;overflow: hidden;text-align: left;background-color: #f0f8ff;}#sk-container-id-15 div.sk-toggleable__content pre {margin: 0.2em;color: black;border-radius: 0.25em;background-color: #f0f8ff;}#sk-container-id-15 input.sk-toggleable__control:checked~div.sk-toggleable__content {max-height: 200px;max-width: 100%;overflow: auto;}#sk-container-id-15 input.sk-toggleable__control:checked~label.sk-toggleable__label-arrow:before {content: \"▾\";}#sk-container-id-15 div.sk-estimator input.sk-toggleable__control:checked~label.sk-toggleable__label {background-color: #d4ebff;}#sk-container-id-15 div.sk-label input.sk-toggleable__control:checked~label.sk-toggleable__label {background-color: #d4ebff;}#sk-container-id-15 input.sk-hidden--visually {border: 0;clip: rect(1px 1px 1px 1px);clip: rect(1px, 1px, 1px, 1px);height: 1px;margin: -1px;overflow: hidden;padding: 0;position: absolute;width: 1px;}#sk-container-id-15 div.sk-estimator {font-family: monospace;background-color: #f0f8ff;border: 1px dotted black;border-radius: 0.25em;box-sizing: border-box;margin-bottom: 0.5em;}#sk-container-id-15 div.sk-estimator:hover {background-color: #d4ebff;}#sk-container-id-15 div.sk-parallel-item::after {content: \"\";width: 100%;border-bottom: 1px solid gray;flex-grow: 1;}#sk-container-id-15 div.sk-label:hover label.sk-toggleable__label {background-color: #d4ebff;}#sk-container-id-15 div.sk-serial::before {content: \"\";position: absolute;border-left: 1px solid gray;box-sizing: border-box;top: 0;bottom: 0;left: 50%;z-index: 0;}#sk-container-id-15 div.sk-serial {display: flex;flex-direction: column;align-items: center;background-color: white;padding-right: 0.2em;padding-left: 0.2em;position: relative;}#sk-container-id-15 div.sk-item {position: relative;z-index: 1;}#sk-container-id-15 div.sk-parallel {display: flex;align-items: stretch;justify-content: center;background-color: white;position: relative;}#sk-container-id-15 div.sk-item::before, #sk-container-id-15 div.sk-parallel-item::before {content: \"\";position: absolute;border-left: 1px solid gray;box-sizing: border-box;top: 0;bottom: 0;left: 50%;z-index: -1;}#sk-container-id-15 div.sk-parallel-item {display: flex;flex-direction: column;z-index: 1;position: relative;background-color: white;}#sk-container-id-15 div.sk-parallel-item:first-child::after {align-self: flex-end;width: 50%;}#sk-container-id-15 div.sk-parallel-item:last-child::after {align-self: flex-start;width: 50%;}#sk-container-id-15 div.sk-parallel-item:only-child::after {width: 0;}#sk-container-id-15 div.sk-dashed-wrapped {border: 1px dashed gray;margin: 0 0.4em 0.5em 0.4em;box-sizing: border-box;padding-bottom: 0.4em;background-color: white;}#sk-container-id-15 div.sk-label label {font-family: monospace;font-weight: bold;display: inline-block;line-height: 1.2em;}#sk-container-id-15 div.sk-label-container {text-align: center;}#sk-container-id-15 div.sk-container {/* jupyter's `normalize.less` sets `[hidden] { display: none; }` but bootstrap.min.css set `[hidden] { display: none !important; }` so we also need the `!important` here to be able to override the default hidden behavior on the sphinx rendered scikit-learn.org. See: https://github.com/scikit-learn/scikit-learn/issues/21755 */display: inline-block !important;position: relative;}#sk-container-id-15 div.sk-text-repr-fallback {display: none;}</style><div id=\"sk-container-id-15\" class=\"sk-top-container\"><div class=\"sk-text-repr-fallback\"><pre>RandomForestClassifier()</pre><b>In a Jupyter environment, please rerun this cell to show the HTML representation or trust the notebook. <br />On GitHub, the HTML representation is unable to render, please try loading this page with nbviewer.org.</b></div><div class=\"sk-container\" hidden><div class=\"sk-item\"><div class=\"sk-estimator sk-toggleable\"><input class=\"sk-toggleable__control sk-hidden--visually\" id=\"sk-estimator-id-15\" type=\"checkbox\" checked><label for=\"sk-estimator-id-15\" class=\"sk-toggleable__label sk-toggleable__label-arrow\">RandomForestClassifier</label><div class=\"sk-toggleable__content\"><pre>RandomForestClassifier()</pre></div></div></div></div></div>"
      ],
      "text/plain": [
       "RandomForestClassifier()"
      ]
     },
     "execution_count": 287,
     "metadata": {},
     "output_type": "execute_result"
    }
   ],
   "source": [
    "    rf.fit(X_train, y_train)"
   ]
  },
  {
   "cell_type": "code",
   "execution_count": 291,
   "id": "9a015326",
   "metadata": {},
   "outputs": [
    {
     "name": "stdout",
     "output_type": "stream",
     "text": [
      "Elapsed time to compute the importances: 1.656 seconds\n"
     ]
    }
   ],
   "source": [
    "    from sklearn.inspection import permutation_importance\n",
    "\n",
    "    start_time = time.time()\n",
    "    result = permutation_importance(\n",
    "        rf, X_test, y_test, n_repeats=10, random_state=42, n_jobs=2\n",
    "    )\n",
    "    elapsed_time = time.time() - start_time\n",
    "    print(f\"Elapsed time to compute the importances: {elapsed_time:.3f} seconds\")\n",
    "\n",
    "    forest_importances = pd.Series(result.importances_mean, index=feature_columns)"
   ]
  },
  {
   "cell_type": "code",
   "execution_count": 298,
   "id": "4f3810a5",
   "metadata": {},
   "outputs": [
    {
     "data": {
      "image/png": "[encoded data removed]",
      "text/plain": [
       "<Figure size 432x288 with 1 Axes>"
      ]
     },
     "metadata": {
      "needs_background": "light"
     },
     "output_type": "display_data"
    }
   ],
   "source": [
    "    fig, ax = plt.subplots()\n",
    "    forest_importances.plot.bar(yerr=result.importances_std, ax=ax)\n",
    "    ax.set_title(f\"Importancia usando la permutación en el paciente  {paciente_id}\")\n",
    "    ax.set_ylabel(\"Disminución de la precisión media\")\n",
    "    fig.tight_layout()\n",
    "\n",
    "    plt.show()"
   ]
  },
  {
   "cell_type": "code",
   "execution_count": null,
   "id": "e7235d6c",
   "metadata": {},
   "outputs": [],
   "source": []
  }
 ],
 "metadata": {
  "kernelspec": {
   "display_name": "Python 3 (ipykernel)",
   "language": "python",
   "name": "python3"
  },
  "language_info": {
   "codemirror_mode": {
    "name": "ipython",
    "version": 3
   },
   "file_extension": ".py",
   "mimetype": "text/x-python",
   "name": "python",
   "nbconvert_exporter": "python",
   "pygments_lexer": "ipython3",
   "version": "3.9.7"
  }
 },
 "nbformat": 4,
 "nbformat_minor": 5
}
