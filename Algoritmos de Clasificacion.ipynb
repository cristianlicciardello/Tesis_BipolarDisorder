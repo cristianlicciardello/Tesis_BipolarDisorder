{
 "cells": [
  {
   "cell_type": "markdown",
   "id": "ac02f27c",
   "metadata": {},
   "source": [
    "# Analisis de algoritmos de clasificación aplicados a Dataset"
   ]
  },
  {
   "cell_type": "markdown",
   "id": "e0af1e25",
   "metadata": {},
   "source": [
    "## Importamos librerias"
   ]
  },
  {
   "cell_type": "code",
   "execution_count": 1,
   "id": "e302d770",
   "metadata": {
    "ExecuteTime": {
     "end_time": "2023-07-31T23:53:18.242979046Z",
     "start_time": "2023-07-31T23:53:17.525716229Z"
    }
   },
   "outputs": [],
   "source": [
    "import numpy as np\n",
    "import pandas as pd\n",
    "from sklearn.model_selection import train_test_split\n",
    "from sklearn.neighbors import KNeighborsClassifier\n",
    "from sklearn import metrics\n",
    "import matplotlib.pyplot as plt\n",
    "import pandas as pd\n",
    "from sklearn.svm import SVC\n",
    "from sklearn.tree import DecisionTreeClassifier \n",
    "from sklearn.preprocessing import StandardScaler\n",
    "#Bibliotecas para generar gráficos\n",
    "from sklearn.tree import export_graphviz\n",
    "from six import StringIO\n",
    "from IPython.display import Image  \n",
    "import pydotplus\n",
    "from sklearn.naive_bayes import GaussianNB\n",
    "from sklearn.ensemble import RandomForestClassifier\n",
    "from sklearn.ensemble import GradientBoostingClassifier\n",
    "from sklearn.datasets import make_classification\n",
    "from sklearn import tree\n",
    "from sklearn.model_selection import cross_val_score\n",
    "from sklearn.metrics import accuracy_score, precision_score, recall_score, f1_score, confusion_matrix\n",
    "import xgboost as xgb"
   ]
  },
  {
   "cell_type": "markdown",
   "id": "ae8a3b23",
   "metadata": {},
   "source": [
    "## Importamos el dataset"
   ]
  },
  {
   "cell_type": "code",
   "execution_count": 2,
   "id": "55aac926",
   "metadata": {
    "ExecuteTime": {
     "end_time": "2023-07-31T23:53:18.243316677Z",
     "start_time": "2023-07-31T23:53:17.786820688Z"
    }
   },
   "outputs": [],
   "source": [
    "bipolar_interviews=pd.read_csv('./diario.csv', sep=';')"
   ]
  },
  {
   "cell_type": "markdown",
   "id": "77e6e1a2",
   "metadata": {},
   "source": [
    "## Limpieza de datos"
   ]
  },
  {
   "cell_type": "code",
   "execution_count": 3,
   "id": "e4b4dc54",
   "metadata": {
    "ExecuteTime": {
     "end_time": "2023-07-31T23:53:18.243462089Z",
     "start_time": "2023-07-31T23:53:17.787059962Z"
    }
   },
   "outputs": [],
   "source": [
    "bipolar_interviews=bipolar_interviews.replace(to_replace=\"No\", value=0)\n",
    "bipolar_interviews=bipolar_interviews.replace(to_replace=\"Si\", value=1)\n",
    "bipolar_interviews=bipolar_interviews.replace(to_replace=\"NO\", value=0)\n",
    "bipolar_interviews=bipolar_interviews.replace(to_replace=\"no\", value=0)\n",
    "bipolar_interviews=bipolar_interviews.replace(to_replace=\"SI\", value=1)"
   ]
  },
  {
   "cell_type": "code",
   "execution_count": 4,
   "id": "bc6a47e2",
   "metadata": {
    "ExecuteTime": {
     "end_time": "2023-07-31T23:53:18.243567847Z",
     "start_time": "2023-07-31T23:53:17.787151553Z"
    }
   },
   "outputs": [],
   "source": [
    "bipolar_interviews=bipolar_interviews.drop(columns=[\"Fecha\",\"Hora de despertar\",\"Hora a la que te dormiste\",\"Ciclo menstrual\"])"
   ]
  },
  {
   "cell_type": "markdown",
   "id": "a027f927",
   "metadata": {},
   "source": [
    "## Eliminamos valores de offset"
   ]
  },
  {
   "cell_type": "code",
   "execution_count": 5,
   "id": "9e6290ad",
   "metadata": {
    "ExecuteTime": {
     "end_time": "2023-07-31T23:53:18.243911551Z",
     "start_time": "2023-07-31T23:53:17.787240303Z"
    }
   },
   "outputs": [
    {
     "name": "stderr",
     "output_type": "stream",
     "text": [
      "/tmp/ipykernel_36791/754625638.py:2: FutureWarning: The default value of numeric_only in DataFrame.mean is deprecated. In a future version, it will default to False. In addition, specifying 'numeric_only=None' is deprecated. Select only valid columns or specify the value of numeric_only to silence this warning.\n",
      "  mean_cafeina = bipolar_interviews.mean()[7]\n",
      "/tmp/ipykernel_36791/754625638.py:3: FutureWarning: The default value of numeric_only in DataFrame.std is deprecated. In a future version, it will default to False. In addition, specifying 'numeric_only=None' is deprecated. Select only valid columns or specify the value of numeric_only to silence this warning.\n",
      "  std_cafeina = bipolar_interviews.std()[7]\n",
      "/tmp/ipykernel_36791/754625638.py:8: FutureWarning: The default value of numeric_only in DataFrame.mean is deprecated. In a future version, it will default to False. In addition, specifying 'numeric_only=None' is deprecated. Select only valid columns or specify the value of numeric_only to silence this warning.\n",
      "  mean_cigarrillo=bipolar_interviews.mean()[6]\n",
      "/tmp/ipykernel_36791/754625638.py:9: FutureWarning: The default value of numeric_only in DataFrame.std is deprecated. In a future version, it will default to False. In addition, specifying 'numeric_only=None' is deprecated. Select only valid columns or specify the value of numeric_only to silence this warning.\n",
      "  std_cigarrillo=bipolar_interviews.std()[6]\n"
     ]
    }
   ],
   "source": [
    "#Calculamos limites de la distribucion de cafeina hasta 3 desviaciones estandar\n",
    "mean_cafeina = bipolar_interviews.mean()[7]\n",
    "std_cafeina = bipolar_interviews.std()[7]\n",
    "lim_inf_caf = mean_cafeina - 3*std_cafeina\n",
    "lim_sup_caf = mean_cafeina + 3*std_cafeina\n",
    "\n",
    "#Calculamos limites de la distribución de cigarrillos hasta 3 desviaciones estandar\n",
    "mean_cigarrillo=bipolar_interviews.mean()[6]\n",
    "std_cigarrillo=bipolar_interviews.std()[6]\n",
    "lim_inf_cig=mean_cigarrillo-3*std_cigarrillo\n",
    "lim_sup_cig=mean_cigarrillo+3*std_cigarrillo"
   ]
  },
  {
   "cell_type": "code",
   "execution_count": 6,
   "id": "e8bd09ba",
   "metadata": {
    "ExecuteTime": {
     "end_time": "2023-07-31T23:53:18.244025269Z",
     "start_time": "2023-07-31T23:53:17.787352398Z"
    }
   },
   "outputs": [],
   "source": [
    "bipolar_trimmed=bipolar_interviews[(bipolar_interviews[\"Cafeína\"]>=lim_inf_caf)&(bipolar_interviews[\"Cafeína\"]<=lim_sup_caf)&(bipolar_interviews[\"Número de cigarrillos\"]>=lim_inf_cig)&(bipolar_interviews[\"Número de cigarrillos\"]<=lim_sup_cig)]"
   ]
  },
  {
   "cell_type": "code",
   "execution_count": 7,
   "id": "38a0ff21",
   "metadata": {
    "ExecuteTime": {
     "end_time": "2023-07-31T23:53:18.249664403Z",
     "start_time": "2023-07-31T23:53:17.787530618Z"
    }
   },
   "outputs": [
    {
     "data": {
      "text/plain": "     Estado de ánimo  Motivación  Problemas de concentración y atención  \\\n0                  2           2                                      3   \n1                  2           2                                      3   \n2                  2           1                                      3   \n3                  1           2                                      2   \n4                  1           1                                      3   \n..               ...         ...                                    ...   \n654                3           2                                      3   \n655                2           3                                      0   \n657               -3          -3                                      1   \n658               -3          -3                                      4   \n659                0           1                                      0   \n\n     Irritabilidad  Ansiedad  Calidad del sueño  Número de cigarrillos  \\\n0                3         3                  3                     34   \n1                3         3                  3                     38   \n2                3         3                  3                     39   \n3                2         2                  3                     34   \n4                2         2                  2                     32   \n..             ...       ...                ...                    ...   \n654              2         0                  1                      2   \n655              0         0                  0                      0   \n657              2         2                  1                      0   \n658              4         4                  2                      0   \n659              3         4                  2                      0   \n\n     Cafeína  Alcohol  Otras drogas Código  \n0        150      0.0           0.0      D  \n1        150      0.0           0.0      D  \n2        120      0.0           0.0      D  \n3        120      0.0           0.0      D  \n4        150      0.0           0.0      D  \n..       ...      ...           ...    ...  \n654      200      1.0           1.0      G  \n655       60      0.0           0.0      G  \n657       60      0.0           0.0      G  \n658       21      0.0           0.0      G  \n659      100      0.0           0.0      G  \n\n[656 rows x 11 columns]",
      "text/html": "<div>\n<style scoped>\n    .dataframe tbody tr th:only-of-type {\n        vertical-align: middle;\n    }\n\n    .dataframe tbody tr th {\n        vertical-align: top;\n    }\n\n    .dataframe thead th {\n        text-align: right;\n    }\n</style>\n<table border=\"1\" class=\"dataframe\">\n  <thead>\n    <tr style=\"text-align: right;\">\n      <th></th>\n      <th>Estado de ánimo</th>\n      <th>Motivación</th>\n      <th>Problemas de concentración y atención</th>\n      <th>Irritabilidad</th>\n      <th>Ansiedad</th>\n      <th>Calidad del sueño</th>\n      <th>Número de cigarrillos</th>\n      <th>Cafeína</th>\n      <th>Alcohol</th>\n      <th>Otras drogas</th>\n      <th>Código</th>\n    </tr>\n  </thead>\n  <tbody>\n    <tr>\n      <th>0</th>\n      <td>2</td>\n      <td>2</td>\n      <td>3</td>\n      <td>3</td>\n      <td>3</td>\n      <td>3</td>\n      <td>34</td>\n      <td>150</td>\n      <td>0.0</td>\n      <td>0.0</td>\n      <td>D</td>\n    </tr>\n    <tr>\n      <th>1</th>\n      <td>2</td>\n      <td>2</td>\n      <td>3</td>\n      <td>3</td>\n      <td>3</td>\n      <td>3</td>\n      <td>38</td>\n      <td>150</td>\n      <td>0.0</td>\n      <td>0.0</td>\n      <td>D</td>\n    </tr>\n    <tr>\n      <th>2</th>\n      <td>2</td>\n      <td>1</td>\n      <td>3</td>\n      <td>3</td>\n      <td>3</td>\n      <td>3</td>\n      <td>39</td>\n      <td>120</td>\n      <td>0.0</td>\n      <td>0.0</td>\n      <td>D</td>\n    </tr>\n    <tr>\n      <th>3</th>\n      <td>1</td>\n      <td>2</td>\n      <td>2</td>\n      <td>2</td>\n      <td>2</td>\n      <td>3</td>\n      <td>34</td>\n      <td>120</td>\n      <td>0.0</td>\n      <td>0.0</td>\n      <td>D</td>\n    </tr>\n    <tr>\n      <th>4</th>\n      <td>1</td>\n      <td>1</td>\n      <td>3</td>\n      <td>2</td>\n      <td>2</td>\n      <td>2</td>\n      <td>32</td>\n      <td>150</td>\n      <td>0.0</td>\n      <td>0.0</td>\n      <td>D</td>\n    </tr>\n    <tr>\n      <th>...</th>\n      <td>...</td>\n      <td>...</td>\n      <td>...</td>\n      <td>...</td>\n      <td>...</td>\n      <td>...</td>\n      <td>...</td>\n      <td>...</td>\n      <td>...</td>\n      <td>...</td>\n      <td>...</td>\n    </tr>\n    <tr>\n      <th>654</th>\n      <td>3</td>\n      <td>2</td>\n      <td>3</td>\n      <td>2</td>\n      <td>0</td>\n      <td>1</td>\n      <td>2</td>\n      <td>200</td>\n      <td>1.0</td>\n      <td>1.0</td>\n      <td>G</td>\n    </tr>\n    <tr>\n      <th>655</th>\n      <td>2</td>\n      <td>3</td>\n      <td>0</td>\n      <td>0</td>\n      <td>0</td>\n      <td>0</td>\n      <td>0</td>\n      <td>60</td>\n      <td>0.0</td>\n      <td>0.0</td>\n      <td>G</td>\n    </tr>\n    <tr>\n      <th>657</th>\n      <td>-3</td>\n      <td>-3</td>\n      <td>1</td>\n      <td>2</td>\n      <td>2</td>\n      <td>1</td>\n      <td>0</td>\n      <td>60</td>\n      <td>0.0</td>\n      <td>0.0</td>\n      <td>G</td>\n    </tr>\n    <tr>\n      <th>658</th>\n      <td>-3</td>\n      <td>-3</td>\n      <td>4</td>\n      <td>4</td>\n      <td>4</td>\n      <td>2</td>\n      <td>0</td>\n      <td>21</td>\n      <td>0.0</td>\n      <td>0.0</td>\n      <td>G</td>\n    </tr>\n    <tr>\n      <th>659</th>\n      <td>0</td>\n      <td>1</td>\n      <td>0</td>\n      <td>3</td>\n      <td>4</td>\n      <td>2</td>\n      <td>0</td>\n      <td>100</td>\n      <td>0.0</td>\n      <td>0.0</td>\n      <td>G</td>\n    </tr>\n  </tbody>\n</table>\n<p>656 rows × 11 columns</p>\n</div>"
     },
     "execution_count": 7,
     "metadata": {},
     "output_type": "execute_result"
    }
   ],
   "source": [
    "bipolar_trimmed"
   ]
  },
  {
   "cell_type": "code",
   "execution_count": 8,
   "id": "02c4361e",
   "metadata": {
    "ExecuteTime": {
     "end_time": "2023-07-31T23:53:18.250240143Z",
     "start_time": "2023-07-31T23:53:17.787676689Z"
    }
   },
   "outputs": [],
   "source": [
    "feature_cols = ['Estado de ánimo','Motivación','Problemas de concentración y atención','Irritabilidad','Ansiedad','Calidad del sueño','Número de cigarrillos','Cafeína']\n",
    "X=bipolar_trimmed[feature_cols]"
   ]
  },
  {
   "cell_type": "code",
   "execution_count": 9,
   "id": "e31218f0",
   "metadata": {
    "ExecuteTime": {
     "end_time": "2023-07-31T23:53:18.250308648Z",
     "start_time": "2023-07-31T23:53:17.787765460Z"
    }
   },
   "outputs": [],
   "source": [
    "y=bipolar_trimmed['Código']"
   ]
  },
  {
   "cell_type": "code",
   "execution_count": 10,
   "id": "a30b3073",
   "metadata": {
    "ExecuteTime": {
     "end_time": "2023-07-31T23:53:18.250368182Z",
     "start_time": "2023-07-31T23:53:17.791710634Z"
    }
   },
   "outputs": [],
   "source": [
    "X_train,X_temp,y_train,y_temp = train_test_split(X,y,test_size=0.20, random_state=2)\n",
    "X_val, X_test, y_val, y_test = train_test_split(X_temp, y_temp, test_size=0.5, random_state=2)"
   ]
  },
  {
   "cell_type": "code",
   "execution_count": 11,
   "outputs": [
    {
     "name": "stdout",
     "output_type": "stream",
     "text": [
      "524 66 66\n"
     ]
    }
   ],
   "source": [
    "print(len(X_train),len(X_test),len(X_val))"
   ],
   "metadata": {
    "collapsed": false,
    "ExecuteTime": {
     "end_time": "2023-07-31T23:53:18.250501151Z",
     "start_time": "2023-07-31T23:53:17.794731783Z"
    }
   },
   "id": "ad4f8a2bbd75ec0d"
  },
  {
   "cell_type": "code",
   "execution_count": 12,
   "outputs": [
    {
     "data": {
      "text/plain": "     Estado de ánimo  Motivación  Problemas de concentración y atención  \\\n523                0           0                                      1   \n607               -1           0                                      1   \n389                0           0                                      1   \n161                0          -1                                      1   \n477                0           0                                      1   \n..               ...         ...                                    ...   \n535               -1          -1                                      1   \n586                0           0                                      1   \n494                0           0                                      2   \n528                0          -1                                      1   \n168               -1          -1                                      2   \n\n     Irritabilidad  Ansiedad  Calidad del sueño  Número de cigarrillos  \\\n523              1         1                  1                     15   \n607              1         1                  4                     22   \n389              3         3                  2                      0   \n161              1         1                  2                     28   \n477              1         1                  1                     20   \n..             ...       ...                ...                    ...   \n535              1         1                  2                     15   \n586              1         1                  2                     20   \n494              1         1                  1                     17   \n528              1         1                  1                     19   \n168              1         2                  2                     28   \n\n     Cafeína  \n523       90  \n607       90  \n389       90  \n161      120  \n477       90  \n..       ...  \n535       90  \n586       90  \n494       90  \n528       90  \n168       90  \n\n[524 rows x 8 columns]",
      "text/html": "<div>\n<style scoped>\n    .dataframe tbody tr th:only-of-type {\n        vertical-align: middle;\n    }\n\n    .dataframe tbody tr th {\n        vertical-align: top;\n    }\n\n    .dataframe thead th {\n        text-align: right;\n    }\n</style>\n<table border=\"1\" class=\"dataframe\">\n  <thead>\n    <tr style=\"text-align: right;\">\n      <th></th>\n      <th>Estado de ánimo</th>\n      <th>Motivación</th>\n      <th>Problemas de concentración y atención</th>\n      <th>Irritabilidad</th>\n      <th>Ansiedad</th>\n      <th>Calidad del sueño</th>\n      <th>Número de cigarrillos</th>\n      <th>Cafeína</th>\n    </tr>\n  </thead>\n  <tbody>\n    <tr>\n      <th>523</th>\n      <td>0</td>\n      <td>0</td>\n      <td>1</td>\n      <td>1</td>\n      <td>1</td>\n      <td>1</td>\n      <td>15</td>\n      <td>90</td>\n    </tr>\n    <tr>\n      <th>607</th>\n      <td>-1</td>\n      <td>0</td>\n      <td>1</td>\n      <td>1</td>\n      <td>1</td>\n      <td>4</td>\n      <td>22</td>\n      <td>90</td>\n    </tr>\n    <tr>\n      <th>389</th>\n      <td>0</td>\n      <td>0</td>\n      <td>1</td>\n      <td>3</td>\n      <td>3</td>\n      <td>2</td>\n      <td>0</td>\n      <td>90</td>\n    </tr>\n    <tr>\n      <th>161</th>\n      <td>0</td>\n      <td>-1</td>\n      <td>1</td>\n      <td>1</td>\n      <td>1</td>\n      <td>2</td>\n      <td>28</td>\n      <td>120</td>\n    </tr>\n    <tr>\n      <th>477</th>\n      <td>0</td>\n      <td>0</td>\n      <td>1</td>\n      <td>1</td>\n      <td>1</td>\n      <td>1</td>\n      <td>20</td>\n      <td>90</td>\n    </tr>\n    <tr>\n      <th>...</th>\n      <td>...</td>\n      <td>...</td>\n      <td>...</td>\n      <td>...</td>\n      <td>...</td>\n      <td>...</td>\n      <td>...</td>\n      <td>...</td>\n    </tr>\n    <tr>\n      <th>535</th>\n      <td>-1</td>\n      <td>-1</td>\n      <td>1</td>\n      <td>1</td>\n      <td>1</td>\n      <td>2</td>\n      <td>15</td>\n      <td>90</td>\n    </tr>\n    <tr>\n      <th>586</th>\n      <td>0</td>\n      <td>0</td>\n      <td>1</td>\n      <td>1</td>\n      <td>1</td>\n      <td>2</td>\n      <td>20</td>\n      <td>90</td>\n    </tr>\n    <tr>\n      <th>494</th>\n      <td>0</td>\n      <td>0</td>\n      <td>2</td>\n      <td>1</td>\n      <td>1</td>\n      <td>1</td>\n      <td>17</td>\n      <td>90</td>\n    </tr>\n    <tr>\n      <th>528</th>\n      <td>0</td>\n      <td>-1</td>\n      <td>1</td>\n      <td>1</td>\n      <td>1</td>\n      <td>1</td>\n      <td>19</td>\n      <td>90</td>\n    </tr>\n    <tr>\n      <th>168</th>\n      <td>-1</td>\n      <td>-1</td>\n      <td>2</td>\n      <td>1</td>\n      <td>2</td>\n      <td>2</td>\n      <td>28</td>\n      <td>90</td>\n    </tr>\n  </tbody>\n</table>\n<p>524 rows × 8 columns</p>\n</div>"
     },
     "execution_count": 12,
     "metadata": {},
     "output_type": "execute_result"
    }
   ],
   "source": [
    "X_train"
   ],
   "metadata": {
    "collapsed": false,
    "ExecuteTime": {
     "end_time": "2023-07-31T23:53:18.251324088Z",
     "start_time": "2023-07-31T23:53:17.802553888Z"
    }
   },
   "id": "95397a39b317beaa"
  },
  {
   "cell_type": "markdown",
   "id": "f553e4dc",
   "metadata": {},
   "source": [
    "## a) SVM"
   ]
  },
  {
   "cell_type": "code",
   "execution_count": 13,
   "id": "3fdcc357",
   "metadata": {
    "ExecuteTime": {
     "end_time": "2023-07-31T23:53:18.251471784Z",
     "start_time": "2023-07-31T23:53:17.805668577Z"
    }
   },
   "outputs": [],
   "source": [
    "modelo_svm = SVC(kernel='linear', C=1.0, random_state=42)"
   ]
  },
  {
   "cell_type": "code",
   "execution_count": 14,
   "id": "05be3d46",
   "metadata": {
    "ExecuteTime": {
     "end_time": "2023-07-31T23:53:18.251938300Z",
     "start_time": "2023-07-31T23:53:17.846881996Z"
    }
   },
   "outputs": [
    {
     "data": {
      "text/plain": "SVC(kernel='linear', random_state=42)",
      "text/html": "<style>#sk-container-id-1 {color: black;background-color: white;}#sk-container-id-1 pre{padding: 0;}#sk-container-id-1 div.sk-toggleable {background-color: white;}#sk-container-id-1 label.sk-toggleable__label {cursor: pointer;display: block;width: 100%;margin-bottom: 0;padding: 0.3em;box-sizing: border-box;text-align: center;}#sk-container-id-1 label.sk-toggleable__label-arrow:before {content: \"▸\";float: left;margin-right: 0.25em;color: #696969;}#sk-container-id-1 label.sk-toggleable__label-arrow:hover:before {color: black;}#sk-container-id-1 div.sk-estimator:hover label.sk-toggleable__label-arrow:before {color: black;}#sk-container-id-1 div.sk-toggleable__content {max-height: 0;max-width: 0;overflow: hidden;text-align: left;background-color: #f0f8ff;}#sk-container-id-1 div.sk-toggleable__content pre {margin: 0.2em;color: black;border-radius: 0.25em;background-color: #f0f8ff;}#sk-container-id-1 input.sk-toggleable__control:checked~div.sk-toggleable__content {max-height: 200px;max-width: 100%;overflow: auto;}#sk-container-id-1 input.sk-toggleable__control:checked~label.sk-toggleable__label-arrow:before {content: \"▾\";}#sk-container-id-1 div.sk-estimator input.sk-toggleable__control:checked~label.sk-toggleable__label {background-color: #d4ebff;}#sk-container-id-1 div.sk-label input.sk-toggleable__control:checked~label.sk-toggleable__label {background-color: #d4ebff;}#sk-container-id-1 input.sk-hidden--visually {border: 0;clip: rect(1px 1px 1px 1px);clip: rect(1px, 1px, 1px, 1px);height: 1px;margin: -1px;overflow: hidden;padding: 0;position: absolute;width: 1px;}#sk-container-id-1 div.sk-estimator {font-family: monospace;background-color: #f0f8ff;border: 1px dotted black;border-radius: 0.25em;box-sizing: border-box;margin-bottom: 0.5em;}#sk-container-id-1 div.sk-estimator:hover {background-color: #d4ebff;}#sk-container-id-1 div.sk-parallel-item::after {content: \"\";width: 100%;border-bottom: 1px solid gray;flex-grow: 1;}#sk-container-id-1 div.sk-label:hover label.sk-toggleable__label {background-color: #d4ebff;}#sk-container-id-1 div.sk-serial::before {content: \"\";position: absolute;border-left: 1px solid gray;box-sizing: border-box;top: 0;bottom: 0;left: 50%;z-index: 0;}#sk-container-id-1 div.sk-serial {display: flex;flex-direction: column;align-items: center;background-color: white;padding-right: 0.2em;padding-left: 0.2em;position: relative;}#sk-container-id-1 div.sk-item {position: relative;z-index: 1;}#sk-container-id-1 div.sk-parallel {display: flex;align-items: stretch;justify-content: center;background-color: white;position: relative;}#sk-container-id-1 div.sk-item::before, #sk-container-id-1 div.sk-parallel-item::before {content: \"\";position: absolute;border-left: 1px solid gray;box-sizing: border-box;top: 0;bottom: 0;left: 50%;z-index: -1;}#sk-container-id-1 div.sk-parallel-item {display: flex;flex-direction: column;z-index: 1;position: relative;background-color: white;}#sk-container-id-1 div.sk-parallel-item:first-child::after {align-self: flex-end;width: 50%;}#sk-container-id-1 div.sk-parallel-item:last-child::after {align-self: flex-start;width: 50%;}#sk-container-id-1 div.sk-parallel-item:only-child::after {width: 0;}#sk-container-id-1 div.sk-dashed-wrapped {border: 1px dashed gray;margin: 0 0.4em 0.5em 0.4em;box-sizing: border-box;padding-bottom: 0.4em;background-color: white;}#sk-container-id-1 div.sk-label label {font-family: monospace;font-weight: bold;display: inline-block;line-height: 1.2em;}#sk-container-id-1 div.sk-label-container {text-align: center;}#sk-container-id-1 div.sk-container {/* jupyter's `normalize.less` sets `[hidden] { display: none; }` but bootstrap.min.css set `[hidden] { display: none !important; }` so we also need the `!important` here to be able to override the default hidden behavior on the sphinx rendered scikit-learn.org. See: https://github.com/scikit-learn/scikit-learn/issues/21755 */display: inline-block !important;position: relative;}#sk-container-id-1 div.sk-text-repr-fallback {display: none;}</style><div id=\"sk-container-id-1\" class=\"sk-top-container\"><div class=\"sk-text-repr-fallback\"><pre>SVC(kernel=&#x27;linear&#x27;, random_state=42)</pre><b>In a Jupyter environment, please rerun this cell to show the HTML representation or trust the notebook. <br />On GitHub, the HTML representation is unable to render, please try loading this page with nbviewer.org.</b></div><div class=\"sk-container\" hidden><div class=\"sk-item\"><div class=\"sk-estimator sk-toggleable\"><input class=\"sk-toggleable__control sk-hidden--visually\" id=\"sk-estimator-id-1\" type=\"checkbox\" checked><label for=\"sk-estimator-id-1\" class=\"sk-toggleable__label sk-toggleable__label-arrow\">SVC</label><div class=\"sk-toggleable__content\"><pre>SVC(kernel=&#x27;linear&#x27;, random_state=42)</pre></div></div></div></div></div>"
     },
     "execution_count": 14,
     "metadata": {},
     "output_type": "execute_result"
    }
   ],
   "source": [
    "modelo_svm.fit(X_train, y_train)"
   ]
  },
  {
   "cell_type": "code",
   "execution_count": 15,
   "id": "62de7734",
   "metadata": {
    "ExecuteTime": {
     "end_time": "2023-07-31T23:53:18.252029115Z",
     "start_time": "2023-07-31T23:53:17.847081500Z"
    }
   },
   "outputs": [],
   "source": [
    "y_val_preda = modelo_svm.predict(X_val)\n",
    "y_preda=modelo_svm.predict(X_test)"
   ]
  },
  {
   "cell_type": "code",
   "execution_count": 16,
   "id": "40cb4bb0",
   "metadata": {
    "ExecuteTime": {
     "end_time": "2023-07-31T23:53:18.252158569Z",
     "start_time": "2023-07-31T23:53:17.847284042Z"
    }
   },
   "outputs": [
    {
     "name": "stdout",
     "output_type": "stream",
     "text": [
      "Precisión en el conjunto de validación: 0.9848484848484849\n"
     ]
    }
   ],
   "source": [
    "# Calcular la precisión en el conjunto de validación\n",
    "precision_val = accuracy_score(y_val, y_val_preda)\n",
    "print(\"Precisión en el conjunto de validación:\", precision_val)"
   ]
  },
  {
   "cell_type": "code",
   "execution_count": 17,
   "id": "b70d3dd6",
   "metadata": {
    "ExecuteTime": {
     "end_time": "2023-07-31T23:53:18.252276603Z",
     "start_time": "2023-07-31T23:53:17.890390016Z"
    }
   },
   "outputs": [
    {
     "name": "stdout",
     "output_type": "stream",
     "text": [
      "Precisión: 0.9393939393939394\n",
      "Precision: 0.9456654456654455\n",
      "Recall: 0.9426328502415459\n",
      "F1-score: 0.943030303030303\n"
     ]
    }
   ],
   "source": [
    "# Exactitud\n",
    "accuracy = accuracy_score(y_test, y_preda)\n",
    "print(\"Precisión:\", accuracy)\n",
    "\n",
    "# Precision\n",
    "precision = precision_score(y_test, y_preda,average='macro')\n",
    "print(\"Precision:\", precision)\n",
    "\n",
    "# Recall\n",
    "recall = recall_score(y_test, y_preda,average='macro')\n",
    "print(\"Recall:\", recall)\n",
    "\n",
    "# F1-score\n",
    "f1 = f1_score(y_test, y_preda,average='macro')\n",
    "print(\"F1-score:\", f1)"
   ]
  },
  {
   "cell_type": "code",
   "execution_count": 18,
   "id": "3c51b1fc",
   "metadata": {
    "ExecuteTime": {
     "end_time": "2023-07-31T23:53:18.252522815Z",
     "start_time": "2023-07-31T23:53:17.890701359Z"
    }
   },
   "outputs": [
    {
     "data": {
      "text/plain": "    M   D   G\nM  20   3   0\nD   1  23   0\nG   0   0  19",
      "text/html": "<div>\n<style scoped>\n    .dataframe tbody tr th:only-of-type {\n        vertical-align: middle;\n    }\n\n    .dataframe tbody tr th {\n        vertical-align: top;\n    }\n\n    .dataframe thead th {\n        text-align: right;\n    }\n</style>\n<table border=\"1\" class=\"dataframe\">\n  <thead>\n    <tr style=\"text-align: right;\">\n      <th></th>\n      <th>M</th>\n      <th>D</th>\n      <th>G</th>\n    </tr>\n  </thead>\n  <tbody>\n    <tr>\n      <th>M</th>\n      <td>20</td>\n      <td>3</td>\n      <td>0</td>\n    </tr>\n    <tr>\n      <th>D</th>\n      <td>1</td>\n      <td>23</td>\n      <td>0</td>\n    </tr>\n    <tr>\n      <th>G</th>\n      <td>0</td>\n      <td>0</td>\n      <td>19</td>\n    </tr>\n  </tbody>\n</table>\n</div>"
     },
     "execution_count": 18,
     "metadata": {},
     "output_type": "execute_result"
    }
   ],
   "source": [
    "c=confusion_matrix(y_test, y_preda, labels=['M', 'D', 'G'])\n",
    "pd.DataFrame(c,index=['M', 'D', 'G'],columns=['M', 'D', 'G'])"
   ]
  },
  {
   "cell_type": "markdown",
   "id": "0702de0f",
   "metadata": {},
   "source": [
    "## b) Algoritmo de KNN"
   ]
  },
  {
   "cell_type": "code",
   "execution_count": 19,
   "id": "8b8863ec",
   "metadata": {
    "ExecuteTime": {
     "end_time": "2023-07-31T23:53:18.253725927Z",
     "start_time": "2023-07-31T23:53:17.890818479Z"
    }
   },
   "outputs": [],
   "source": [
    "# Se hace un barrido para los distintos valores de K, evaluando la exactitud del algoritmo (o puntuación)\n",
    "k_range = range(1,50)\n",
    "scores = {}\n",
    "scores_list = []\n",
    "for k in k_range:\n",
    "        knn = KNeighborsClassifier(n_neighbors=k)\n",
    "        knn.fit(X_train,y_train)\n",
    "        y_predb=knn.predict(X_test)\n",
    "        scores[k] = metrics.accuracy_score(y_test,y_predb)\n",
    "        \n",
    "        scores_list.append(metrics.accuracy_score(y_test,y_predb))"
   ]
  },
  {
   "cell_type": "code",
   "execution_count": 20,
   "id": "a02c0bae",
   "metadata": {
    "ExecuteTime": {
     "end_time": "2023-07-31T23:53:18.517895355Z",
     "start_time": "2023-07-31T23:53:18.125032068Z"
    }
   },
   "outputs": [
    {
     "data": {
      "text/plain": "Text(0, 0.5, 'Testing Accuracy')"
     },
     "execution_count": 20,
     "metadata": {},
     "output_type": "execute_result"
    },
    {
     "data": {
      "text/plain": "<Figure size 640x480 with 1 Axes>",
      "image/png": "[encoded data removed]"
     },
     "metadata": {},
     "output_type": "display_data"
    }
   ],
   "source": [
    "#Se grafica la relación entre K y su exactitud o puntuación\n",
    "plt.plot(k_range,scores_list)\n",
    "plt.xlabel('Value of K for KNN')\n",
    "plt.ylabel('Testing Accuracy')"
   ]
  },
  {
   "cell_type": "markdown",
   "id": "55e73d71",
   "metadata": {},
   "source": [
    "## c) Algoritmo de Naive bayes"
   ]
  },
  {
   "cell_type": "code",
   "execution_count": 21,
   "id": "28643a84",
   "metadata": {
    "ExecuteTime": {
     "end_time": "2023-07-31T23:53:18.518729791Z",
     "start_time": "2023-07-31T23:53:18.370227982Z"
    }
   },
   "outputs": [
    {
     "data": {
      "text/plain": "GaussianNB()",
      "text/html": "<style>#sk-container-id-2 {color: black;background-color: white;}#sk-container-id-2 pre{padding: 0;}#sk-container-id-2 div.sk-toggleable {background-color: white;}#sk-container-id-2 label.sk-toggleable__label {cursor: pointer;display: block;width: 100%;margin-bottom: 0;padding: 0.3em;box-sizing: border-box;text-align: center;}#sk-container-id-2 label.sk-toggleable__label-arrow:before {content: \"▸\";float: left;margin-right: 0.25em;color: #696969;}#sk-container-id-2 label.sk-toggleable__label-arrow:hover:before {color: black;}#sk-container-id-2 div.sk-estimator:hover label.sk-toggleable__label-arrow:before {color: black;}#sk-container-id-2 div.sk-toggleable__content {max-height: 0;max-width: 0;overflow: hidden;text-align: left;background-color: #f0f8ff;}#sk-container-id-2 div.sk-toggleable__content pre {margin: 0.2em;color: black;border-radius: 0.25em;background-color: #f0f8ff;}#sk-container-id-2 input.sk-toggleable__control:checked~div.sk-toggleable__content {max-height: 200px;max-width: 100%;overflow: auto;}#sk-container-id-2 input.sk-toggleable__control:checked~label.sk-toggleable__label-arrow:before {content: \"▾\";}#sk-container-id-2 div.sk-estimator input.sk-toggleable__control:checked~label.sk-toggleable__label {background-color: #d4ebff;}#sk-container-id-2 div.sk-label input.sk-toggleable__control:checked~label.sk-toggleable__label {background-color: #d4ebff;}#sk-container-id-2 input.sk-hidden--visually {border: 0;clip: rect(1px 1px 1px 1px);clip: rect(1px, 1px, 1px, 1px);height: 1px;margin: -1px;overflow: hidden;padding: 0;position: absolute;width: 1px;}#sk-container-id-2 div.sk-estimator {font-family: monospace;background-color: #f0f8ff;border: 1px dotted black;border-radius: 0.25em;box-sizing: border-box;margin-bottom: 0.5em;}#sk-container-id-2 div.sk-estimator:hover {background-color: #d4ebff;}#sk-container-id-2 div.sk-parallel-item::after {content: \"\";width: 100%;border-bottom: 1px solid gray;flex-grow: 1;}#sk-container-id-2 div.sk-label:hover label.sk-toggleable__label {background-color: #d4ebff;}#sk-container-id-2 div.sk-serial::before {content: \"\";position: absolute;border-left: 1px solid gray;box-sizing: border-box;top: 0;bottom: 0;left: 50%;z-index: 0;}#sk-container-id-2 div.sk-serial {display: flex;flex-direction: column;align-items: center;background-color: white;padding-right: 0.2em;padding-left: 0.2em;position: relative;}#sk-container-id-2 div.sk-item {position: relative;z-index: 1;}#sk-container-id-2 div.sk-parallel {display: flex;align-items: stretch;justify-content: center;background-color: white;position: relative;}#sk-container-id-2 div.sk-item::before, #sk-container-id-2 div.sk-parallel-item::before {content: \"\";position: absolute;border-left: 1px solid gray;box-sizing: border-box;top: 0;bottom: 0;left: 50%;z-index: -1;}#sk-container-id-2 div.sk-parallel-item {display: flex;flex-direction: column;z-index: 1;position: relative;background-color: white;}#sk-container-id-2 div.sk-parallel-item:first-child::after {align-self: flex-end;width: 50%;}#sk-container-id-2 div.sk-parallel-item:last-child::after {align-self: flex-start;width: 50%;}#sk-container-id-2 div.sk-parallel-item:only-child::after {width: 0;}#sk-container-id-2 div.sk-dashed-wrapped {border: 1px dashed gray;margin: 0 0.4em 0.5em 0.4em;box-sizing: border-box;padding-bottom: 0.4em;background-color: white;}#sk-container-id-2 div.sk-label label {font-family: monospace;font-weight: bold;display: inline-block;line-height: 1.2em;}#sk-container-id-2 div.sk-label-container {text-align: center;}#sk-container-id-2 div.sk-container {/* jupyter's `normalize.less` sets `[hidden] { display: none; }` but bootstrap.min.css set `[hidden] { display: none !important; }` so we also need the `!important` here to be able to override the default hidden behavior on the sphinx rendered scikit-learn.org. See: https://github.com/scikit-learn/scikit-learn/issues/21755 */display: inline-block !important;position: relative;}#sk-container-id-2 div.sk-text-repr-fallback {display: none;}</style><div id=\"sk-container-id-2\" class=\"sk-top-container\"><div class=\"sk-text-repr-fallback\"><pre>GaussianNB()</pre><b>In a Jupyter environment, please rerun this cell to show the HTML representation or trust the notebook. <br />On GitHub, the HTML representation is unable to render, please try loading this page with nbviewer.org.</b></div><div class=\"sk-container\" hidden><div class=\"sk-item\"><div class=\"sk-estimator sk-toggleable\"><input class=\"sk-toggleable__control sk-hidden--visually\" id=\"sk-estimator-id-2\" type=\"checkbox\" checked><label for=\"sk-estimator-id-2\" class=\"sk-toggleable__label sk-toggleable__label-arrow\">GaussianNB</label><div class=\"sk-toggleable__content\"><pre>GaussianNB()</pre></div></div></div></div></div>"
     },
     "execution_count": 21,
     "metadata": {},
     "output_type": "execute_result"
    }
   ],
   "source": [
    "gnb = GaussianNB()\n",
    "# Train classifier\n",
    "\n",
    "gnb.fit(X_train,y_train)"
   ]
  },
  {
   "cell_type": "code",
   "execution_count": 22,
   "id": "f998ead6",
   "metadata": {
    "ExecuteTime": {
     "end_time": "2023-07-31T23:53:18.518890901Z",
     "start_time": "2023-07-31T23:53:18.370416154Z"
    }
   },
   "outputs": [],
   "source": [
    "y_val_pred = gnb.predict(X_val)\n",
    "y_pred=gnb.predict(X_test)\n",
    "\n"
   ]
  },
  {
   "cell_type": "code",
   "execution_count": 23,
   "id": "e8219409",
   "metadata": {
    "ExecuteTime": {
     "end_time": "2023-07-31T23:53:18.519029124Z",
     "start_time": "2023-07-31T23:53:18.370539119Z"
    }
   },
   "outputs": [
    {
     "name": "stdout",
     "output_type": "stream",
     "text": [
      "Precisión en el conjunto de validación: 1.0\n"
     ]
    }
   ],
   "source": [
    "# Calcular la precisión en el conjunto de validación\n",
    "precision_val = accuracy_score(y_val, y_val_pred)\n",
    "print(\"Precisión en el conjunto de validación:\", precision_val)"
   ]
  },
  {
   "cell_type": "code",
   "execution_count": 24,
   "id": "e71fd0af",
   "metadata": {
    "ExecuteTime": {
     "end_time": "2023-07-31T23:53:18.519152560Z",
     "start_time": "2023-07-31T23:53:18.370658517Z"
    }
   },
   "outputs": [
    {
     "name": "stdout",
     "output_type": "stream",
     "text": [
      "Precisión: 0.9545454545454546\n",
      "Precision: 0.9583333333333334\n",
      "Recall: 0.9540744978387998\n",
      "F1-score: 0.9558255063574213\n"
     ]
    }
   ],
   "source": [
    "# Excatitud\n",
    "accuracy = accuracy_score(y_test, y_pred)\n",
    "print(\"Precisión:\", accuracy)\n",
    "\n",
    "# Precision\n",
    "precision = precision_score(y_test, y_pred,average='macro')\n",
    "print(\"Precision:\", precision)\n",
    "\n",
    "# Recall\n",
    "recall = recall_score(y_test, y_pred,average='macro')\n",
    "print(\"Recall:\", recall)\n",
    "\n",
    "# F1-score\n",
    "f1 = f1_score(y_test, y_pred,average='macro')\n",
    "print(\"F1-score:\", f1)"
   ]
  },
  {
   "cell_type": "code",
   "execution_count": 25,
   "id": "6d861403",
   "metadata": {
    "ExecuteTime": {
     "end_time": "2023-07-31T23:53:18.519488451Z",
     "start_time": "2023-07-31T23:53:18.370802557Z"
    }
   },
   "outputs": [
    {
     "data": {
      "text/plain": "    M   D   G\nM  22   1   0\nD   1  23   0\nG   1   0  18",
      "text/html": "<div>\n<style scoped>\n    .dataframe tbody tr th:only-of-type {\n        vertical-align: middle;\n    }\n\n    .dataframe tbody tr th {\n        vertical-align: top;\n    }\n\n    .dataframe thead th {\n        text-align: right;\n    }\n</style>\n<table border=\"1\" class=\"dataframe\">\n  <thead>\n    <tr style=\"text-align: right;\">\n      <th></th>\n      <th>M</th>\n      <th>D</th>\n      <th>G</th>\n    </tr>\n  </thead>\n  <tbody>\n    <tr>\n      <th>M</th>\n      <td>22</td>\n      <td>1</td>\n      <td>0</td>\n    </tr>\n    <tr>\n      <th>D</th>\n      <td>1</td>\n      <td>23</td>\n      <td>0</td>\n    </tr>\n    <tr>\n      <th>G</th>\n      <td>1</td>\n      <td>0</td>\n      <td>18</td>\n    </tr>\n  </tbody>\n</table>\n</div>"
     },
     "execution_count": 25,
     "metadata": {},
     "output_type": "execute_result"
    }
   ],
   "source": [
    "c=confusion_matrix(y_test, y_pred, labels=['M', 'D', 'G'])\n",
    "pd.DataFrame(c,index=['M', 'D', 'G'],columns=['M', 'D', 'G'])"
   ]
  },
  {
   "cell_type": "markdown",
   "id": "96564f6f",
   "metadata": {},
   "source": [
    "## d) Random Forest"
   ]
  },
  {
   "cell_type": "code",
   "execution_count": 26,
   "id": "efbf75db",
   "metadata": {
    "ExecuteTime": {
     "end_time": "2023-07-31T23:53:20.156719530Z",
     "start_time": "2023-07-31T23:53:18.386182471Z"
    }
   },
   "outputs": [
    {
     "name": "stdout",
     "output_type": "stream",
     "text": [
      "Precisión del modelo:  0.9696969696969697\n"
     ]
    }
   ],
   "source": [
    "rf = RandomForestClassifier(n_jobs=-1)\n",
    "\n",
    "rf.fit(X_train, y_train)\n",
    "\n",
    "y_val_pred = rf.predict(X_val)\n",
    "y_pred=rf.predict(X_test)\n",
    "\n",
    "scores = cross_val_score(rf, X_test, y_pred, cv=2)\n",
    "\n",
    "print(\"Precisión del modelo: \", scores.mean())"
   ]
  },
  {
   "cell_type": "code",
   "execution_count": 27,
   "id": "204ae1dc",
   "metadata": {
    "ExecuteTime": {
     "end_time": "2023-07-31T23:53:20.162380336Z",
     "start_time": "2023-07-31T23:53:20.156885827Z"
    }
   },
   "outputs": [
    {
     "name": "stdout",
     "output_type": "stream",
     "text": [
      "Precisión en el conjunto de validación: 1.0\n"
     ]
    }
   ],
   "source": [
    "precision_val = accuracy_score(y_val, y_val_pred)\n",
    "print(\"Precisión en el conjunto de validación:\", precision_val)"
   ]
  },
  {
   "cell_type": "code",
   "execution_count": 28,
   "id": "418083d0",
   "metadata": {
    "ExecuteTime": {
     "end_time": "2023-07-31T23:53:20.223555056Z",
     "start_time": "2023-07-31T23:53:20.162581105Z"
    }
   },
   "outputs": [
    {
     "name": "stdout",
     "output_type": "stream",
     "text": [
      "Precisión: 1.0\n",
      "Precision: 1.0\n",
      "Recall: 1.0\n",
      "F1-score: 1.0\n"
     ]
    }
   ],
   "source": [
    "# Exactitud\n",
    "accuracy = accuracy_score(y_test, y_pred)\n",
    "print(\"Precisión:\", accuracy)\n",
    "\n",
    "# Precision\n",
    "precision = precision_score(y_test, y_pred,average='macro')\n",
    "print(\"Precision:\", precision)\n",
    "\n",
    "# Recall\n",
    "recall = recall_score(y_test, y_pred,average='macro')\n",
    "print(\"Recall:\", recall)\n",
    "\n",
    "# F1-score\n",
    "f1 = f1_score(y_test, y_pred,average='macro')\n",
    "print(\"F1-score:\", f1)"
   ]
  },
  {
   "cell_type": "code",
   "execution_count": 29,
   "id": "f6712b44",
   "metadata": {
    "ExecuteTime": {
     "end_time": "2023-07-31T23:53:20.224210686Z",
     "start_time": "2023-07-31T23:53:20.203602176Z"
    }
   },
   "outputs": [
    {
     "data": {
      "text/plain": "    M   D   G\nM  23   0   0\nD   0  24   0\nG   0   0  19",
      "text/html": "<div>\n<style scoped>\n    .dataframe tbody tr th:only-of-type {\n        vertical-align: middle;\n    }\n\n    .dataframe tbody tr th {\n        vertical-align: top;\n    }\n\n    .dataframe thead th {\n        text-align: right;\n    }\n</style>\n<table border=\"1\" class=\"dataframe\">\n  <thead>\n    <tr style=\"text-align: right;\">\n      <th></th>\n      <th>M</th>\n      <th>D</th>\n      <th>G</th>\n    </tr>\n  </thead>\n  <tbody>\n    <tr>\n      <th>M</th>\n      <td>23</td>\n      <td>0</td>\n      <td>0</td>\n    </tr>\n    <tr>\n      <th>D</th>\n      <td>0</td>\n      <td>24</td>\n      <td>0</td>\n    </tr>\n    <tr>\n      <th>G</th>\n      <td>0</td>\n      <td>0</td>\n      <td>19</td>\n    </tr>\n  </tbody>\n</table>\n</div>"
     },
     "execution_count": 29,
     "metadata": {},
     "output_type": "execute_result"
    }
   ],
   "source": [
    "c=confusion_matrix(y_test, y_pred, labels=['M', 'D', 'G'])\n",
    "pd.DataFrame(c,index=['M', 'D', 'G'],columns=['M', 'D', 'G'])"
   ]
  },
  {
   "cell_type": "code",
   "execution_count": 30,
   "outputs": [],
   "source": [
    "import time"
   ],
   "metadata": {
    "collapsed": false,
    "ExecuteTime": {
     "end_time": "2023-07-31T23:53:20.224373670Z",
     "start_time": "2023-07-31T23:53:20.203833135Z"
    }
   },
   "id": "bc3b964b20921464"
  },
  {
   "cell_type": "code",
   "execution_count": 31,
   "outputs": [],
   "source": [
    "start_time = time.time()\n",
    "importances = rf.feature_importances_\n",
    "std = np.std([tree.feature_importances_ for tree in rf.estimators_], axis=0)\n",
    "elapsed_time = time.time() - start_time"
   ],
   "metadata": {
    "collapsed": false,
    "ExecuteTime": {
     "end_time": "2023-07-31T23:53:20.224445813Z",
     "start_time": "2023-07-31T23:53:20.203997161Z"
    }
   },
   "id": "9cf65972aaa1ec05"
  },
  {
   "cell_type": "code",
   "execution_count": 32,
   "outputs": [
    {
     "name": "stdout",
     "output_type": "stream",
     "text": [
      "Elapsed time to compute the importances: 0.010 seconds\n"
     ]
    }
   ],
   "source": [
    "print(f\"Elapsed time to compute the importances: {elapsed_time:.3f} seconds\")"
   ],
   "metadata": {
    "collapsed": false,
    "ExecuteTime": {
     "end_time": "2023-07-31T23:53:20.224700285Z",
     "start_time": "2023-07-31T23:53:20.204133263Z"
    }
   },
   "id": "3113860f0c713be3"
  },
  {
   "cell_type": "code",
   "execution_count": 33,
   "outputs": [
    {
     "data": {
      "text/plain": "<Figure size 640x480 with 1 Axes>",
      "image/png": "[encoded data removed]"
     },
     "metadata": {},
     "output_type": "display_data"
    }
   ],
   "source": [
    "forest_importances = pd.Series(importances, index=feature_cols)\n",
    "\n",
    "fig, ax = plt.subplots()\n",
    "forest_importances.plot.bar(yerr=std, ax=ax)\n",
    "ax.set_title(\"Feature importances using MDI\")\n",
    "ax.set_ylabel(\"Mean decrease in impurity\")\n",
    "fig.tight_layout()"
   ],
   "metadata": {
    "collapsed": false,
    "ExecuteTime": {
     "end_time": "2023-07-31T23:53:20.420737498Z",
     "start_time": "2023-07-31T23:53:20.246917505Z"
    }
   },
   "id": "6e742bea8f962cf8"
  },
  {
   "cell_type": "code",
   "execution_count": 34,
   "outputs": [
    {
     "name": "stdout",
     "output_type": "stream",
     "text": [
      "Elapsed time to compute the importances: 1.994 seconds\n"
     ]
    }
   ],
   "source": [
    "from sklearn.inspection import permutation_importance\n",
    "\n",
    "start_time = time.time()\n",
    "result = permutation_importance(\n",
    "        rf, X_test, y_test, n_repeats=10, random_state=42, n_jobs=2\n",
    ")\n",
    "elapsed_time = time.time() - start_time\n",
    "print(f\"Elapsed time to compute the importances: {elapsed_time:.3f} seconds\")\n",
    "\n",
    "forest_importances = pd.Series(result.importances_mean, index=feature_cols)"
   ],
   "metadata": {
    "collapsed": false,
    "ExecuteTime": {
     "end_time": "2023-07-31T23:53:22.421954707Z",
     "start_time": "2023-07-31T23:53:20.419525820Z"
    }
   },
   "id": "6c9132958137acbd"
  },
  {
   "cell_type": "code",
   "execution_count": 35,
   "outputs": [
    {
     "data": {
      "text/plain": "<Figure size 640x480 with 1 Axes>",
      "image/png": "[encoded data removed]"
     },
     "metadata": {},
     "output_type": "display_data"
    }
   ],
   "source": [
    "fig, ax = plt.subplots()\n",
    "forest_importances.plot.bar(yerr=result.importances_std, ax=ax)\n",
    "ax.set_title(\"Feature importances using permutation on full model\")\n",
    "ax.set_ylabel(\"Mean accuracy decrease\")\n",
    "fig.tight_layout()\n",
    "plt.show()"
   ],
   "metadata": {
    "collapsed": false,
    "ExecuteTime": {
     "end_time": "2023-07-31T23:53:22.600824349Z",
     "start_time": "2023-07-31T23:53:22.434352746Z"
    }
   },
   "id": "1c47c43e0169f18d"
  },
  {
   "cell_type": "markdown",
   "id": "a32547f5",
   "metadata": {},
   "source": [
    "## e) Arbol de decisión"
   ]
  },
  {
   "cell_type": "code",
   "execution_count": 36,
   "id": "d85318dd",
   "metadata": {
    "ExecuteTime": {
     "end_time": "2023-07-31T23:53:22.668034166Z",
     "start_time": "2023-07-31T23:53:22.600977626Z"
    }
   },
   "outputs": [
    {
     "name": "stdout",
     "output_type": "stream",
     "text": [
      "Exactitud del modelo: 1.0\n"
     ]
    }
   ],
   "source": [
    "dt = DecisionTreeClassifier(max_depth=5)\n",
    "dt.fit(X_train, y_train)\n",
    "\n",
    "\n",
    "scores = cross_val_score(dt, X_test, y_test)\n",
    "print(\"Exactitud del modelo:\", scores.mean())"
   ]
  },
  {
   "cell_type": "code",
   "execution_count": 37,
   "id": "a394012f",
   "metadata": {
    "ExecuteTime": {
     "end_time": "2023-07-31T23:53:22.668257478Z",
     "start_time": "2023-07-31T23:53:22.643507363Z"
    }
   },
   "outputs": [],
   "source": [
    "y_val_pred = dt.predict(X_val)\n",
    "y_pred=dt.predict(X_test)"
   ]
  },
  {
   "cell_type": "code",
   "execution_count": 38,
   "id": "750bd368",
   "metadata": {
    "ExecuteTime": {
     "end_time": "2023-07-31T23:53:22.668484641Z",
     "start_time": "2023-07-31T23:53:22.643682541Z"
    }
   },
   "outputs": [
    {
     "name": "stdout",
     "output_type": "stream",
     "text": [
      "Precisión: 0.9848484848484849\n",
      "Precision: 0.9866666666666667\n",
      "Recall: 0.9855072463768115\n",
      "F1-score: 0.9857898715041572\n"
     ]
    }
   ],
   "source": [
    "# Exactitud\n",
    "accuracy = accuracy_score(y_test, y_pred)\n",
    "print(\"Precisión:\", accuracy)\n",
    "\n",
    "# Precision\n",
    "precision = precision_score(y_test, y_pred,average='macro')\n",
    "print(\"Precision:\", precision)\n",
    "\n",
    "# Recall\n",
    "recall = recall_score(y_test, y_pred,average='macro')\n",
    "print(\"Recall:\", recall)\n",
    "\n",
    "# F1-score\n",
    "f1 = f1_score(y_test, y_pred,average='macro')\n",
    "print(\"F1-score:\", f1)"
   ]
  },
  {
   "cell_type": "code",
   "execution_count": 39,
   "id": "6cf2f573",
   "metadata": {
    "ExecuteTime": {
     "end_time": "2023-07-31T23:53:22.668846451Z",
     "start_time": "2023-07-31T23:53:22.643773720Z"
    }
   },
   "outputs": [
    {
     "data": {
      "text/plain": "    M   D   G\nM  22   1   0\nD   0  24   0\nG   0   0  19",
      "text/html": "<div>\n<style scoped>\n    .dataframe tbody tr th:only-of-type {\n        vertical-align: middle;\n    }\n\n    .dataframe tbody tr th {\n        vertical-align: top;\n    }\n\n    .dataframe thead th {\n        text-align: right;\n    }\n</style>\n<table border=\"1\" class=\"dataframe\">\n  <thead>\n    <tr style=\"text-align: right;\">\n      <th></th>\n      <th>M</th>\n      <th>D</th>\n      <th>G</th>\n    </tr>\n  </thead>\n  <tbody>\n    <tr>\n      <th>M</th>\n      <td>22</td>\n      <td>1</td>\n      <td>0</td>\n    </tr>\n    <tr>\n      <th>D</th>\n      <td>0</td>\n      <td>24</td>\n      <td>0</td>\n    </tr>\n    <tr>\n      <th>G</th>\n      <td>0</td>\n      <td>0</td>\n      <td>19</td>\n    </tr>\n  </tbody>\n</table>\n</div>"
     },
     "execution_count": 39,
     "metadata": {},
     "output_type": "execute_result"
    }
   ],
   "source": [
    "c=confusion_matrix(y_test, y_pred, labels=['M', 'D', 'G'])\n",
    "pd.DataFrame(c,index=['M', 'D', 'G'],columns=['M', 'D', 'G'])"
   ]
  },
  {
   "cell_type": "markdown",
   "id": "51c4a9e8",
   "metadata": {},
   "source": [
    "## f) gradient Boosting"
   ]
  },
  {
   "cell_type": "code",
   "execution_count": 40,
   "id": "026d8d12",
   "metadata": {
    "ExecuteTime": {
     "end_time": "2023-07-31T23:53:22.668938217Z",
     "start_time": "2023-07-31T23:53:22.643904795Z"
    }
   },
   "outputs": [],
   "source": [
    "gb_model = GradientBoostingClassifier(n_estimators=100, learning_rate=0.1, max_depth=3, random_state=42)"
   ]
  },
  {
   "cell_type": "code",
   "execution_count": 41,
   "id": "e379e22a",
   "metadata": {
    "ExecuteTime": {
     "end_time": "2023-07-31T23:53:22.861555395Z",
     "start_time": "2023-07-31T23:53:22.690118306Z"
    }
   },
   "outputs": [
    {
     "data": {
      "text/plain": "GradientBoostingClassifier(random_state=42)",
      "text/html": "<style>#sk-container-id-3 {color: black;background-color: white;}#sk-container-id-3 pre{padding: 0;}#sk-container-id-3 div.sk-toggleable {background-color: white;}#sk-container-id-3 label.sk-toggleable__label {cursor: pointer;display: block;width: 100%;margin-bottom: 0;padding: 0.3em;box-sizing: border-box;text-align: center;}#sk-container-id-3 label.sk-toggleable__label-arrow:before {content: \"▸\";float: left;margin-right: 0.25em;color: #696969;}#sk-container-id-3 label.sk-toggleable__label-arrow:hover:before {color: black;}#sk-container-id-3 div.sk-estimator:hover label.sk-toggleable__label-arrow:before {color: black;}#sk-container-id-3 div.sk-toggleable__content {max-height: 0;max-width: 0;overflow: hidden;text-align: left;background-color: #f0f8ff;}#sk-container-id-3 div.sk-toggleable__content pre {margin: 0.2em;color: black;border-radius: 0.25em;background-color: #f0f8ff;}#sk-container-id-3 input.sk-toggleable__control:checked~div.sk-toggleable__content {max-height: 200px;max-width: 100%;overflow: auto;}#sk-container-id-3 input.sk-toggleable__control:checked~label.sk-toggleable__label-arrow:before {content: \"▾\";}#sk-container-id-3 div.sk-estimator input.sk-toggleable__control:checked~label.sk-toggleable__label {background-color: #d4ebff;}#sk-container-id-3 div.sk-label input.sk-toggleable__control:checked~label.sk-toggleable__label {background-color: #d4ebff;}#sk-container-id-3 input.sk-hidden--visually {border: 0;clip: rect(1px 1px 1px 1px);clip: rect(1px, 1px, 1px, 1px);height: 1px;margin: -1px;overflow: hidden;padding: 0;position: absolute;width: 1px;}#sk-container-id-3 div.sk-estimator {font-family: monospace;background-color: #f0f8ff;border: 1px dotted black;border-radius: 0.25em;box-sizing: border-box;margin-bottom: 0.5em;}#sk-container-id-3 div.sk-estimator:hover {background-color: #d4ebff;}#sk-container-id-3 div.sk-parallel-item::after {content: \"\";width: 100%;border-bottom: 1px solid gray;flex-grow: 1;}#sk-container-id-3 div.sk-label:hover label.sk-toggleable__label {background-color: #d4ebff;}#sk-container-id-3 div.sk-serial::before {content: \"\";position: absolute;border-left: 1px solid gray;box-sizing: border-box;top: 0;bottom: 0;left: 50%;z-index: 0;}#sk-container-id-3 div.sk-serial {display: flex;flex-direction: column;align-items: center;background-color: white;padding-right: 0.2em;padding-left: 0.2em;position: relative;}#sk-container-id-3 div.sk-item {position: relative;z-index: 1;}#sk-container-id-3 div.sk-parallel {display: flex;align-items: stretch;justify-content: center;background-color: white;position: relative;}#sk-container-id-3 div.sk-item::before, #sk-container-id-3 div.sk-parallel-item::before {content: \"\";position: absolute;border-left: 1px solid gray;box-sizing: border-box;top: 0;bottom: 0;left: 50%;z-index: -1;}#sk-container-id-3 div.sk-parallel-item {display: flex;flex-direction: column;z-index: 1;position: relative;background-color: white;}#sk-container-id-3 div.sk-parallel-item:first-child::after {align-self: flex-end;width: 50%;}#sk-container-id-3 div.sk-parallel-item:last-child::after {align-self: flex-start;width: 50%;}#sk-container-id-3 div.sk-parallel-item:only-child::after {width: 0;}#sk-container-id-3 div.sk-dashed-wrapped {border: 1px dashed gray;margin: 0 0.4em 0.5em 0.4em;box-sizing: border-box;padding-bottom: 0.4em;background-color: white;}#sk-container-id-3 div.sk-label label {font-family: monospace;font-weight: bold;display: inline-block;line-height: 1.2em;}#sk-container-id-3 div.sk-label-container {text-align: center;}#sk-container-id-3 div.sk-container {/* jupyter's `normalize.less` sets `[hidden] { display: none; }` but bootstrap.min.css set `[hidden] { display: none !important; }` so we also need the `!important` here to be able to override the default hidden behavior on the sphinx rendered scikit-learn.org. See: https://github.com/scikit-learn/scikit-learn/issues/21755 */display: inline-block !important;position: relative;}#sk-container-id-3 div.sk-text-repr-fallback {display: none;}</style><div id=\"sk-container-id-3\" class=\"sk-top-container\"><div class=\"sk-text-repr-fallback\"><pre>GradientBoostingClassifier(random_state=42)</pre><b>In a Jupyter environment, please rerun this cell to show the HTML representation or trust the notebook. <br />On GitHub, the HTML representation is unable to render, please try loading this page with nbviewer.org.</b></div><div class=\"sk-container\" hidden><div class=\"sk-item\"><div class=\"sk-estimator sk-toggleable\"><input class=\"sk-toggleable__control sk-hidden--visually\" id=\"sk-estimator-id-3\" type=\"checkbox\" checked><label for=\"sk-estimator-id-3\" class=\"sk-toggleable__label sk-toggleable__label-arrow\">GradientBoostingClassifier</label><div class=\"sk-toggleable__content\"><pre>GradientBoostingClassifier(random_state=42)</pre></div></div></div></div></div>"
     },
     "execution_count": 41,
     "metadata": {},
     "output_type": "execute_result"
    }
   ],
   "source": [
    "gb_model.fit(X_train, y_train)"
   ]
  },
  {
   "cell_type": "code",
   "execution_count": 42,
   "id": "46fa45ca",
   "metadata": {
    "ExecuteTime": {
     "end_time": "2023-07-31T23:53:22.903209049Z",
     "start_time": "2023-07-31T23:53:22.853938083Z"
    }
   },
   "outputs": [],
   "source": [
    "y_pred = gb_model.predict(X_test)\n",
    "y_val_pred = gb_model.predict(X_val)\n"
   ]
  },
  {
   "cell_type": "code",
   "execution_count": 43,
   "id": "bfb7ca5f",
   "metadata": {
    "ExecuteTime": {
     "end_time": "2023-07-31T23:53:22.903536671Z",
     "start_time": "2023-07-31T23:53:22.896905041Z"
    }
   },
   "outputs": [
    {
     "name": "stdout",
     "output_type": "stream",
     "text": [
      "Precisión del modelo: 1.0\n"
     ]
    }
   ],
   "source": [
    "accuracy = accuracy_score(y_test, y_pred)\n",
    "print(\"Precisión del modelo:\", accuracy)"
   ]
  },
  {
   "cell_type": "code",
   "execution_count": 44,
   "id": "43b26992",
   "metadata": {
    "ExecuteTime": {
     "end_time": "2023-07-31T23:53:22.903673854Z",
     "start_time": "2023-07-31T23:53:22.897111847Z"
    }
   },
   "outputs": [
    {
     "name": "stdout",
     "output_type": "stream",
     "text": [
      "Precisión: 1.0\n",
      "Precision: 1.0\n",
      "Recall: 1.0\n",
      "F1-score: 1.0\n"
     ]
    }
   ],
   "source": [
    "# Exactitud\n",
    "accuracy = accuracy_score(y_test, y_pred)\n",
    "print(\"Precisión:\", accuracy)\n",
    "\n",
    "# Precision\n",
    "precision = precision_score(y_test, y_pred,average='macro')\n",
    "print(\"Precision:\", precision)\n",
    "\n",
    "# Recall\n",
    "recall = recall_score(y_test, y_pred,average='macro')\n",
    "print(\"Recall:\", recall)\n",
    "\n",
    "# F1-score\n",
    "f1 = f1_score(y_test, y_pred,average='macro')\n",
    "print(\"F1-score:\", f1)"
   ]
  },
  {
   "cell_type": "code",
   "execution_count": 45,
   "id": "5f24d826",
   "metadata": {
    "ExecuteTime": {
     "end_time": "2023-07-31T23:53:22.903993247Z",
     "start_time": "2023-07-31T23:53:22.897252978Z"
    }
   },
   "outputs": [
    {
     "data": {
      "text/plain": "    M   D   G\nM  23   0   0\nD   0  24   0\nG   0   0  19",
      "text/html": "<div>\n<style scoped>\n    .dataframe tbody tr th:only-of-type {\n        vertical-align: middle;\n    }\n\n    .dataframe tbody tr th {\n        vertical-align: top;\n    }\n\n    .dataframe thead th {\n        text-align: right;\n    }\n</style>\n<table border=\"1\" class=\"dataframe\">\n  <thead>\n    <tr style=\"text-align: right;\">\n      <th></th>\n      <th>M</th>\n      <th>D</th>\n      <th>G</th>\n    </tr>\n  </thead>\n  <tbody>\n    <tr>\n      <th>M</th>\n      <td>23</td>\n      <td>0</td>\n      <td>0</td>\n    </tr>\n    <tr>\n      <th>D</th>\n      <td>0</td>\n      <td>24</td>\n      <td>0</td>\n    </tr>\n    <tr>\n      <th>G</th>\n      <td>0</td>\n      <td>0</td>\n      <td>19</td>\n    </tr>\n  </tbody>\n</table>\n</div>"
     },
     "execution_count": 45,
     "metadata": {},
     "output_type": "execute_result"
    }
   ],
   "source": [
    "c=confusion_matrix(y_test, y_pred, labels=['M', 'D', 'G'])\n",
    "pd.DataFrame(c,index=['M', 'D', 'G'],columns=['M', 'D', 'G'])"
   ]
  },
  {
   "cell_type": "code",
   "execution_count": 46,
   "id": "94e8a65d",
   "metadata": {
    "ExecuteTime": {
     "end_time": "2023-07-31T23:53:22.904079523Z",
     "start_time": "2023-07-31T23:53:22.897393044Z"
    }
   },
   "outputs": [],
   "source": [
    "#X_train,X_temp,y_train,y_temp = train_test_split(X,y,test_size=0.20, random_state=42)\n",
    "#X_val, X_test, y_val, y_test = train_test_split(X_temp, y_temp, test_size=0.5, random_state=42)"
   ]
  },
  {
   "cell_type": "code",
   "execution_count": 46,
   "id": "f1ffefcb",
   "metadata": {
    "ExecuteTime": {
     "end_time": "2023-07-31T23:53:22.904148275Z",
     "start_time": "2023-07-31T23:53:22.897529580Z"
    }
   },
   "outputs": [],
   "source": []
  },
  {
   "cell_type": "code",
   "execution_count": 46,
   "id": "1ffd835b",
   "metadata": {
    "ExecuteTime": {
     "end_time": "2023-07-31T23:53:22.904203113Z",
     "start_time": "2023-07-31T23:53:22.897620590Z"
    }
   },
   "outputs": [],
   "source": []
  }
 ],
 "metadata": {
  "kernelspec": {
   "display_name": "Python 3 (ipykernel)",
   "language": "python",
   "name": "python3"
  },
  "language_info": {
   "codemirror_mode": {
    "name": "ipython",
    "version": 3
   },
   "file_extension": ".py",
   "mimetype": "text/x-python",
   "name": "python",
   "nbconvert_exporter": "python",
   "pygments_lexer": "ipython3",
   "version": "3.9.7"
  }
 },
 "nbformat": 4,
 "nbformat_minor": 5
}
