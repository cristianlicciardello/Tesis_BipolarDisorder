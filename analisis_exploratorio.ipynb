{
 "cells": [
  {
   "cell_type": "code",
   "execution_count": 154,
   "metadata": {
    "ExecuteTime": {
     "end_time": "2023-04-17T22:27:46.554929Z",
     "start_time": "2023-04-17T22:27:46.511615Z"
    }
   },
   "outputs": [],
   "source": [
    "# importacion general de librerias y de visualizacion (matplotlib y seaborn)\n",
    "import pandas as pd\n",
    "import numpy as np\n",
    "import matplotlib.pyplot as plt\n",
    "import seaborn as sns\n",
    "import datetime\n",
    "\n",
    "%matplotlib inline"
   ]
  },
  {
   "cell_type": "markdown",
   "metadata": {},
   "source": [
    "## Exploracion general"
   ]
  },
  {
   "cell_type": "code",
   "execution_count": 155,
   "metadata": {
    "ExecuteTime": {
     "end_time": "2023-04-17T22:29:03.304743Z",
     "start_time": "2023-04-17T22:29:03.262255Z"
    }
   },
   "outputs": [],
   "source": [
    "young = pd.read_csv('./diario.csv', sep=';')"
   ]
  },
  {
   "cell_type": "code",
   "execution_count": 156,
   "metadata": {
    "ExecuteTime": {
     "end_time": "2023-04-17T22:34:45.165074Z",
     "start_time": "2023-04-17T22:34:45.121727Z"
    }
   },
   "outputs": [
    {
     "data": {
      "text/html": [
       "<div>\n",
       "<style scoped>\n",
       "    .dataframe tbody tr th:only-of-type {\n",
       "        vertical-align: middle;\n",
       "    }\n",
       "\n",
       "    .dataframe tbody tr th {\n",
       "        vertical-align: top;\n",
       "    }\n",
       "\n",
       "    .dataframe thead th {\n",
       "        text-align: right;\n",
       "    }\n",
       "</style>\n",
       "<table border=\"1\" class=\"dataframe\">\n",
       "  <thead>\n",
       "    <tr style=\"text-align: right;\">\n",
       "      <th></th>\n",
       "      <th>Estado de ánimo</th>\n",
       "      <th>Motivación</th>\n",
       "      <th>Problemas de concentración y atención</th>\n",
       "      <th>Irritabilidad</th>\n",
       "      <th>Ansiedad</th>\n",
       "      <th>Calidad del sueño</th>\n",
       "      <th>Ciclo menstrual</th>\n",
       "      <th>Número de cigarrillos</th>\n",
       "      <th>Cafeína</th>\n",
       "      <th>Alcohol</th>\n",
       "      <th>Otras drogas</th>\n",
       "      <th>Hora de despertar</th>\n",
       "      <th>Hora a la que te dormiste</th>\n",
       "      <th>Código</th>\n",
       "      <th>Fecha</th>\n",
       "    </tr>\n",
       "  </thead>\n",
       "  <tbody>\n",
       "    <tr>\n",
       "      <th>0</th>\n",
       "      <td>2</td>\n",
       "      <td>2</td>\n",
       "      <td>3</td>\n",
       "      <td>3</td>\n",
       "      <td>3</td>\n",
       "      <td>3</td>\n",
       "      <td>NaN</td>\n",
       "      <td>34</td>\n",
       "      <td>150</td>\n",
       "      <td>No</td>\n",
       "      <td>No</td>\n",
       "      <td>06:30</td>\n",
       "      <td>23:40</td>\n",
       "      <td>D</td>\n",
       "      <td>1/6/2017</td>\n",
       "    </tr>\n",
       "    <tr>\n",
       "      <th>1</th>\n",
       "      <td>2</td>\n",
       "      <td>2</td>\n",
       "      <td>3</td>\n",
       "      <td>3</td>\n",
       "      <td>3</td>\n",
       "      <td>3</td>\n",
       "      <td>NaN</td>\n",
       "      <td>38</td>\n",
       "      <td>150</td>\n",
       "      <td>NO</td>\n",
       "      <td>No</td>\n",
       "      <td>06:45</td>\n",
       "      <td>00:15</td>\n",
       "      <td>D</td>\n",
       "      <td>2/6/2017</td>\n",
       "    </tr>\n",
       "    <tr>\n",
       "      <th>2</th>\n",
       "      <td>2</td>\n",
       "      <td>1</td>\n",
       "      <td>3</td>\n",
       "      <td>3</td>\n",
       "      <td>3</td>\n",
       "      <td>3</td>\n",
       "      <td>NaN</td>\n",
       "      <td>39</td>\n",
       "      <td>120</td>\n",
       "      <td>NO</td>\n",
       "      <td>No</td>\n",
       "      <td>07:00</td>\n",
       "      <td>00:15</td>\n",
       "      <td>D</td>\n",
       "      <td>3/6/2017</td>\n",
       "    </tr>\n",
       "    <tr>\n",
       "      <th>3</th>\n",
       "      <td>1</td>\n",
       "      <td>2</td>\n",
       "      <td>2</td>\n",
       "      <td>2</td>\n",
       "      <td>2</td>\n",
       "      <td>3</td>\n",
       "      <td>NaN</td>\n",
       "      <td>34</td>\n",
       "      <td>120</td>\n",
       "      <td>No</td>\n",
       "      <td>No</td>\n",
       "      <td>07:00</td>\n",
       "      <td>01:30</td>\n",
       "      <td>D</td>\n",
       "      <td>4/6/2017</td>\n",
       "    </tr>\n",
       "    <tr>\n",
       "      <th>4</th>\n",
       "      <td>1</td>\n",
       "      <td>1</td>\n",
       "      <td>3</td>\n",
       "      <td>2</td>\n",
       "      <td>2</td>\n",
       "      <td>2</td>\n",
       "      <td>NaN</td>\n",
       "      <td>32</td>\n",
       "      <td>150</td>\n",
       "      <td>No</td>\n",
       "      <td>No</td>\n",
       "      <td>07:00</td>\n",
       "      <td>23:45</td>\n",
       "      <td>D</td>\n",
       "      <td>5/6/2017</td>\n",
       "    </tr>\n",
       "  </tbody>\n",
       "</table>\n",
       "</div>"
      ],
      "text/plain": [
       "   Estado de ánimo  Motivación  Problemas de concentración y atención  \\\n",
       "0                2           2                                      3   \n",
       "1                2           2                                      3   \n",
       "2                2           1                                      3   \n",
       "3                1           2                                      2   \n",
       "4                1           1                                      3   \n",
       "\n",
       "   Irritabilidad  Ansiedad  Calidad del sueño  Ciclo menstrual  \\\n",
       "0              3         3                  3              NaN   \n",
       "1              3         3                  3              NaN   \n",
       "2              3         3                  3              NaN   \n",
       "3              2         2                  3              NaN   \n",
       "4              2         2                  2              NaN   \n",
       "\n",
       "   Número de cigarrillos  Cafeína Alcohol Otras drogas Hora de despertar  \\\n",
       "0                     34      150      No           No             06:30   \n",
       "1                     38      150      NO           No             06:45   \n",
       "2                     39      120      NO           No             07:00   \n",
       "3                     34      120      No           No             07:00   \n",
       "4                     32      150      No           No             07:00   \n",
       "\n",
       "  Hora a la que te dormiste Código     Fecha  \n",
       "0                     23:40      D  1/6/2017  \n",
       "1                     00:15      D  2/6/2017  \n",
       "2                     00:15      D  3/6/2017  \n",
       "3                     01:30      D  4/6/2017  \n",
       "4                     23:45      D  5/6/2017  "
      ]
     },
     "execution_count": 156,
     "metadata": {},
     "output_type": "execute_result"
    }
   ],
   "source": [
    "young.head()"
   ]
  },
  {
   "cell_type": "code",
   "execution_count": 157,
   "metadata": {
    "ExecuteTime": {
     "end_time": "2023-04-17T22:29:14.717339Z",
     "start_time": "2023-04-17T22:29:14.672220Z"
    }
   },
   "outputs": [
    {
     "data": {
      "text/html": [
       "<div>\n",
       "<style scoped>\n",
       "    .dataframe tbody tr th:only-of-type {\n",
       "        vertical-align: middle;\n",
       "    }\n",
       "\n",
       "    .dataframe tbody tr th {\n",
       "        vertical-align: top;\n",
       "    }\n",
       "\n",
       "    .dataframe thead th {\n",
       "        text-align: right;\n",
       "    }\n",
       "</style>\n",
       "<table border=\"1\" class=\"dataframe\">\n",
       "  <thead>\n",
       "    <tr style=\"text-align: right;\">\n",
       "      <th></th>\n",
       "      <th>Estado de ánimo</th>\n",
       "      <th>Motivación</th>\n",
       "      <th>Problemas de concentración y atención</th>\n",
       "      <th>Irritabilidad</th>\n",
       "      <th>Ansiedad</th>\n",
       "      <th>Calidad del sueño</th>\n",
       "      <th>Ciclo menstrual</th>\n",
       "      <th>Número de cigarrillos</th>\n",
       "      <th>Cafeína</th>\n",
       "    </tr>\n",
       "  </thead>\n",
       "  <tbody>\n",
       "    <tr>\n",
       "      <th>count</th>\n",
       "      <td>665.000000</td>\n",
       "      <td>665.000000</td>\n",
       "      <td>665.000000</td>\n",
       "      <td>665.000000</td>\n",
       "      <td>665.000000</td>\n",
       "      <td>665.000000</td>\n",
       "      <td>0.0</td>\n",
       "      <td>665.000000</td>\n",
       "      <td>665.000000</td>\n",
       "    </tr>\n",
       "    <tr>\n",
       "      <th>mean</th>\n",
       "      <td>-0.613534</td>\n",
       "      <td>-0.789474</td>\n",
       "      <td>1.670677</td>\n",
       "      <td>1.458647</td>\n",
       "      <td>1.560902</td>\n",
       "      <td>1.609023</td>\n",
       "      <td>NaN</td>\n",
       "      <td>18.248120</td>\n",
       "      <td>99.950376</td>\n",
       "    </tr>\n",
       "    <tr>\n",
       "      <th>std</th>\n",
       "      <td>1.082221</td>\n",
       "      <td>1.051767</td>\n",
       "      <td>0.745345</td>\n",
       "      <td>0.786858</td>\n",
       "      <td>0.804527</td>\n",
       "      <td>0.841637</td>\n",
       "      <td>NaN</td>\n",
       "      <td>19.657537</td>\n",
       "      <td>59.176113</td>\n",
       "    </tr>\n",
       "    <tr>\n",
       "      <th>min</th>\n",
       "      <td>-3.000000</td>\n",
       "      <td>-3.000000</td>\n",
       "      <td>0.000000</td>\n",
       "      <td>0.000000</td>\n",
       "      <td>0.000000</td>\n",
       "      <td>0.000000</td>\n",
       "      <td>NaN</td>\n",
       "      <td>0.000000</td>\n",
       "      <td>0.000000</td>\n",
       "    </tr>\n",
       "    <tr>\n",
       "      <th>25%</th>\n",
       "      <td>-1.000000</td>\n",
       "      <td>-2.000000</td>\n",
       "      <td>1.000000</td>\n",
       "      <td>1.000000</td>\n",
       "      <td>1.000000</td>\n",
       "      <td>1.000000</td>\n",
       "      <td>NaN</td>\n",
       "      <td>0.000000</td>\n",
       "      <td>90.000000</td>\n",
       "    </tr>\n",
       "    <tr>\n",
       "      <th>50%</th>\n",
       "      <td>-1.000000</td>\n",
       "      <td>-1.000000</td>\n",
       "      <td>2.000000</td>\n",
       "      <td>1.000000</td>\n",
       "      <td>1.000000</td>\n",
       "      <td>1.000000</td>\n",
       "      <td>NaN</td>\n",
       "      <td>20.000000</td>\n",
       "      <td>90.000000</td>\n",
       "    </tr>\n",
       "    <tr>\n",
       "      <th>75%</th>\n",
       "      <td>0.000000</td>\n",
       "      <td>0.000000</td>\n",
       "      <td>2.000000</td>\n",
       "      <td>2.000000</td>\n",
       "      <td>2.000000</td>\n",
       "      <td>2.000000</td>\n",
       "      <td>NaN</td>\n",
       "      <td>26.000000</td>\n",
       "      <td>120.000000</td>\n",
       "    </tr>\n",
       "    <tr>\n",
       "      <th>max</th>\n",
       "      <td>3.000000</td>\n",
       "      <td>3.000000</td>\n",
       "      <td>4.000000</td>\n",
       "      <td>5.000000</td>\n",
       "      <td>4.000000</td>\n",
       "      <td>5.000000</td>\n",
       "      <td>NaN</td>\n",
       "      <td>400.000000</td>\n",
       "      <td>903.000000</td>\n",
       "    </tr>\n",
       "  </tbody>\n",
       "</table>\n",
       "</div>"
      ],
      "text/plain": [
       "       Estado de ánimo  Motivación  Problemas de concentración y atención  \\\n",
       "count       665.000000  665.000000                             665.000000   \n",
       "mean         -0.613534   -0.789474                               1.670677   \n",
       "std           1.082221    1.051767                               0.745345   \n",
       "min          -3.000000   -3.000000                               0.000000   \n",
       "25%          -1.000000   -2.000000                               1.000000   \n",
       "50%          -1.000000   -1.000000                               2.000000   \n",
       "75%           0.000000    0.000000                               2.000000   \n",
       "max           3.000000    3.000000                               4.000000   \n",
       "\n",
       "       Irritabilidad    Ansiedad  Calidad del sueño  Ciclo menstrual  \\\n",
       "count     665.000000  665.000000         665.000000              0.0   \n",
       "mean        1.458647    1.560902           1.609023              NaN   \n",
       "std         0.786858    0.804527           0.841637              NaN   \n",
       "min         0.000000    0.000000           0.000000              NaN   \n",
       "25%         1.000000    1.000000           1.000000              NaN   \n",
       "50%         1.000000    1.000000           1.000000              NaN   \n",
       "75%         2.000000    2.000000           2.000000              NaN   \n",
       "max         5.000000    4.000000           5.000000              NaN   \n",
       "\n",
       "       Número de cigarrillos     Cafeína  \n",
       "count             665.000000  665.000000  \n",
       "mean               18.248120   99.950376  \n",
       "std                19.657537   59.176113  \n",
       "min                 0.000000    0.000000  \n",
       "25%                 0.000000   90.000000  \n",
       "50%                20.000000   90.000000  \n",
       "75%                26.000000  120.000000  \n",
       "max               400.000000  903.000000  "
      ]
     },
     "execution_count": 157,
     "metadata": {},
     "output_type": "execute_result"
    }
   ],
   "source": [
    "young.describe()"
   ]
  },
  {
   "cell_type": "code",
   "execution_count": 158,
   "metadata": {
    "ExecuteTime": {
     "end_time": "2023-04-17T22:35:10.062172Z",
     "start_time": "2023-04-17T22:35:10.021003Z"
    }
   },
   "outputs": [
    {
     "data": {
      "text/plain": [
       "(665, 15)"
      ]
     },
     "execution_count": 158,
     "metadata": {},
     "output_type": "execute_result"
    }
   ],
   "source": [
    "young.shape"
   ]
  },
  {
   "cell_type": "code",
   "execution_count": 159,
   "metadata": {
    "ExecuteTime": {
     "end_time": "2023-04-17T22:35:32.889446Z",
     "start_time": "2023-04-17T22:35:32.881241Z"
    }
   },
   "outputs": [
    {
     "data": {
      "text/plain": [
       "Estado de ánimo                          665\n",
       "Motivación                               665\n",
       "Problemas de concentración y atención    665\n",
       "Irritabilidad                            665\n",
       "Ansiedad                                 665\n",
       "Calidad del sueño                        665\n",
       "Ciclo menstrual                            0\n",
       "Número de cigarrillos                    665\n",
       "Cafeína                                  665\n",
       "Alcohol                                  659\n",
       "Otras drogas                             659\n",
       "Hora de despertar                        665\n",
       "Hora a la que te dormiste                665\n",
       "Código                                   665\n",
       "Fecha                                    663\n",
       "dtype: int64"
      ]
     },
     "execution_count": 159,
     "metadata": {},
     "output_type": "execute_result"
    }
   ],
   "source": [
    "young.count()"
   ]
  },
  {
   "cell_type": "code",
   "execution_count": 160,
   "metadata": {
    "ExecuteTime": {
     "end_time": "2023-04-17T22:42:02.607214Z",
     "start_time": "2023-04-17T22:42:02.605033Z"
    }
   },
   "outputs": [
    {
     "name": "stdout",
     "output_type": "stream",
     "text": [
      "<class 'pandas.core.frame.DataFrame'>\n",
      "RangeIndex: 665 entries, 0 to 664\n",
      "Data columns (total 15 columns):\n",
      " #   Column                                 Non-Null Count  Dtype  \n",
      "---  ------                                 --------------  -----  \n",
      " 0   Estado de ánimo                        665 non-null    int64  \n",
      " 1   Motivación                             665 non-null    int64  \n",
      " 2   Problemas de concentración y atención  665 non-null    int64  \n",
      " 3   Irritabilidad                          665 non-null    int64  \n",
      " 4   Ansiedad                               665 non-null    int64  \n",
      " 5   Calidad del sueño                      665 non-null    int64  \n",
      " 6   Ciclo menstrual                        0 non-null      float64\n",
      " 7   Número de cigarrillos                  665 non-null    int64  \n",
      " 8   Cafeína                                665 non-null    int64  \n",
      " 9   Alcohol                                659 non-null    object \n",
      " 10  Otras drogas                           659 non-null    object \n",
      " 11  Hora de despertar                      665 non-null    object \n",
      " 12  Hora a la que te dormiste              665 non-null    object \n",
      " 13  Código                                 665 non-null    object \n",
      " 14  Fecha                                  663 non-null    object \n",
      "dtypes: float64(1), int64(8), object(6)\n",
      "memory usage: 78.1+ KB\n"
     ]
    }
   ],
   "source": [
    "young.info()"
   ]
  },
  {
   "cell_type": "markdown",
   "metadata": {},
   "source": [
    "## Exploracion especifica"
   ]
  },
  {
   "cell_type": "code",
   "execution_count": 161,
   "metadata": {
    "ExecuteTime": {
     "end_time": "2023-04-17T22:37:52.464956Z",
     "start_time": "2023-04-17T22:37:52.421950Z"
    }
   },
   "outputs": [
    {
     "data": {
      "text/plain": [
       " 0    258\n",
       "-1    191\n",
       "-2    121\n",
       " 1     54\n",
       "-3     23\n",
       " 2     14\n",
       " 3      4\n",
       "Name: Estado de ánimo, dtype: int64"
      ]
     },
     "execution_count": 161,
     "metadata": {},
     "output_type": "execute_result"
    }
   ],
   "source": [
    "young['Estado de ánimo'].value_counts()"
   ]
  },
  {
   "cell_type": "code",
   "execution_count": 162,
   "metadata": {
    "ExecuteTime": {
     "end_time": "2023-04-17T22:38:10.146953Z",
     "start_time": "2023-04-17T22:38:10.100085Z"
    }
   },
   "outputs": [
    {
     "data": {
      "text/plain": [
       "-1    234\n",
       " 0    217\n",
       "-2    149\n",
       " 1     22\n",
       "-3     21\n",
       " 2     18\n",
       " 3      4\n",
       "Name: Motivación, dtype: int64"
      ]
     },
     "execution_count": 162,
     "metadata": {},
     "output_type": "execute_result"
    }
   ],
   "source": [
    "young['Motivación'].value_counts()"
   ]
  },
  {
   "cell_type": "code",
   "execution_count": 163,
   "metadata": {
    "ExecuteTime": {
     "end_time": "2023-04-17T22:38:26.334858Z",
     "start_time": "2023-04-17T22:38:26.325153Z"
    }
   },
   "outputs": [
    {
     "data": {
      "text/plain": [
       "1    306\n",
       "2    260\n",
       "3     87\n",
       "4      6\n",
       "0      6\n",
       "Name: Problemas de concentración y atención, dtype: int64"
      ]
     },
     "execution_count": 163,
     "metadata": {},
     "output_type": "execute_result"
    }
   ],
   "source": [
    "young['Problemas de concentración y atención'].value_counts()"
   ]
  },
  {
   "cell_type": "code",
   "execution_count": 164,
   "metadata": {
    "ExecuteTime": {
     "end_time": "2023-04-17T22:38:42.541909Z",
     "start_time": "2023-04-17T22:38:42.498307Z"
    }
   },
   "outputs": [
    {
     "data": {
      "text/plain": [
       "1    446\n",
       "2    127\n",
       "3     71\n",
       "4     13\n",
       "0      7\n",
       "5      1\n",
       "Name: Irritabilidad, dtype: int64"
      ]
     },
     "execution_count": 164,
     "metadata": {},
     "output_type": "execute_result"
    }
   ],
   "source": [
    "young['Irritabilidad'].value_counts()"
   ]
  },
  {
   "cell_type": "code",
   "execution_count": 165,
   "metadata": {
    "ExecuteTime": {
     "end_time": "2023-04-17T22:39:00.201916Z",
     "start_time": "2023-04-17T22:39:00.198779Z"
    }
   },
   "outputs": [
    {
     "data": {
      "text/plain": [
       "1    396\n",
       "2    158\n",
       "3     94\n",
       "4     11\n",
       "0      6\n",
       "Name: Ansiedad, dtype: int64"
      ]
     },
     "execution_count": 165,
     "metadata": {},
     "output_type": "execute_result"
    }
   ],
   "source": [
    "young['Ansiedad'].value_counts()"
   ]
  },
  {
   "cell_type": "code",
   "execution_count": 166,
   "metadata": {
    "ExecuteTime": {
     "end_time": "2023-04-17T22:39:13.946489Z",
     "start_time": "2023-04-17T22:39:13.938757Z"
    }
   },
   "outputs": [
    {
     "data": {
      "text/plain": [
       "1    364\n",
       "2    199\n",
       "3     70\n",
       "4     22\n",
       "0      8\n",
       "5      2\n",
       "Name: Calidad del sueño, dtype: int64"
      ]
     },
     "execution_count": 166,
     "metadata": {},
     "output_type": "execute_result"
    }
   ],
   "source": [
    "young['Calidad del sueño'].value_counts()"
   ]
  },
  {
   "cell_type": "code",
   "execution_count": 167,
   "metadata": {
    "ExecuteTime": {
     "end_time": "2023-04-17T22:40:12.384811Z",
     "start_time": "2023-04-17T22:40:12.338923Z"
    }
   },
   "outputs": [
    {
     "data": {
      "text/plain": [
       "0      184\n",
       "26      71\n",
       "28      44\n",
       "24      43\n",
       "20      34\n",
       "34      33\n",
       "32      28\n",
       "18      24\n",
       "17      23\n",
       "22      19\n",
       "16      15\n",
       "15      13\n",
       "19      12\n",
       "23      12\n",
       "36      12\n",
       "21      11\n",
       "25      11\n",
       "14      10\n",
       "27       9\n",
       "38       9\n",
       "29       7\n",
       "13       7\n",
       "12       7\n",
       "30       6\n",
       "10       4\n",
       "33       3\n",
       "40       3\n",
       "11       3\n",
       "2        3\n",
       "39       2\n",
       "31       1\n",
       "119      1\n",
       "400      1\n",
       "Name: Número de cigarrillos, dtype: int64"
      ]
     },
     "execution_count": 167,
     "metadata": {},
     "output_type": "execute_result"
    }
   ],
   "source": [
    "young['Número de cigarrillos'].value_counts()"
   ]
  },
  {
   "cell_type": "code",
   "execution_count": 168,
   "metadata": {
    "ExecuteTime": {
     "end_time": "2023-04-17T22:40:36.754927Z",
     "start_time": "2023-04-17T22:40:36.709269Z"
    }
   },
   "outputs": [
    {
     "data": {
      "text/plain": [
       "90     396\n",
       "120    103\n",
       "60      36\n",
       "180     35\n",
       "150     34\n",
       "0       29\n",
       "30       9\n",
       "200      6\n",
       "100      4\n",
       "300      3\n",
       "6        2\n",
       "20       2\n",
       "9        1\n",
       "250      1\n",
       "901      1\n",
       "903      1\n",
       "1        1\n",
       "21       1\n",
       "Name: Cafeína, dtype: int64"
      ]
     },
     "execution_count": 168,
     "metadata": {},
     "output_type": "execute_result"
    }
   ],
   "source": [
    "young['Cafeína'].value_counts()"
   ]
  },
  {
   "cell_type": "code",
   "execution_count": 169,
   "metadata": {
    "ExecuteTime": {
     "end_time": "2023-04-17T22:40:45.111501Z",
     "start_time": "2023-04-17T22:40:45.088094Z"
    }
   },
   "outputs": [
    {
     "data": {
      "text/plain": [
       "No    654\n",
       "NO      2\n",
       "Si      2\n",
       "no      1\n",
       "Name: Alcohol, dtype: int64"
      ]
     },
     "execution_count": 169,
     "metadata": {},
     "output_type": "execute_result"
    }
   ],
   "source": [
    "# HAY QUE CORREGIR ESTO\n",
    "young['Alcohol'].value_counts()"
   ]
  },
  {
   "cell_type": "markdown",
   "metadata": {},
   "source": [
    "# TODO:\n",
    "- Drop ciclo menstrual\n",
    "- Corregir Alcohol y pasarlo a binario"
   ]
  },
  {
   "cell_type": "code",
   "execution_count": 170,
   "metadata": {},
   "outputs": [
    {
     "name": "stderr",
     "output_type": "stream",
     "text": [
      "C:\\Users\\cris_\\AppData\\Local\\Temp/ipykernel_9684/1790516259.py:1: FutureWarning: In a future version of pandas all arguments of DataFrame.drop except for the argument 'labels' will be keyword-only\n",
      "  young=young.drop(\"Ciclo menstrual\",1)\n"
     ]
    }
   ],
   "source": [
    "young=young.drop(\"Ciclo menstrual\",1)"
   ]
  },
  {
   "cell_type": "code",
   "execution_count": 171,
   "metadata": {},
   "outputs": [],
   "source": [
    "young=young.replace(to_replace=\"No\", value=0)\n",
    "young = young.replace(to_replace=\"Si\", value=1)\n",
    "young=young.replace(to_replace=\"NO\", value=0)\n",
    "young = young.replace(to_replace=\"SI\", value=1)"
   ]
  },
  {
   "cell_type": "code",
   "execution_count": 172,
   "metadata": {},
   "outputs": [
    {
     "data": {
      "text/html": [
       "<div>\n",
       "<style scoped>\n",
       "    .dataframe tbody tr th:only-of-type {\n",
       "        vertical-align: middle;\n",
       "    }\n",
       "\n",
       "    .dataframe tbody tr th {\n",
       "        vertical-align: top;\n",
       "    }\n",
       "\n",
       "    .dataframe thead th {\n",
       "        text-align: right;\n",
       "    }\n",
       "</style>\n",
       "<table border=\"1\" class=\"dataframe\">\n",
       "  <thead>\n",
       "    <tr style=\"text-align: right;\">\n",
       "      <th></th>\n",
       "      <th>Estado de ánimo</th>\n",
       "      <th>Motivación</th>\n",
       "      <th>Problemas de concentración y atención</th>\n",
       "      <th>Irritabilidad</th>\n",
       "      <th>Ansiedad</th>\n",
       "      <th>Calidad del sueño</th>\n",
       "      <th>Número de cigarrillos</th>\n",
       "      <th>Cafeína</th>\n",
       "      <th>Alcohol</th>\n",
       "      <th>Otras drogas</th>\n",
       "      <th>Hora de despertar</th>\n",
       "      <th>Hora a la que te dormiste</th>\n",
       "      <th>Código</th>\n",
       "      <th>Fecha</th>\n",
       "    </tr>\n",
       "  </thead>\n",
       "  <tbody>\n",
       "    <tr>\n",
       "      <th>0</th>\n",
       "      <td>2</td>\n",
       "      <td>2</td>\n",
       "      <td>3</td>\n",
       "      <td>3</td>\n",
       "      <td>3</td>\n",
       "      <td>3</td>\n",
       "      <td>34</td>\n",
       "      <td>150</td>\n",
       "      <td>0</td>\n",
       "      <td>0</td>\n",
       "      <td>06:30</td>\n",
       "      <td>23:40</td>\n",
       "      <td>D</td>\n",
       "      <td>1/6/2017</td>\n",
       "    </tr>\n",
       "    <tr>\n",
       "      <th>1</th>\n",
       "      <td>2</td>\n",
       "      <td>2</td>\n",
       "      <td>3</td>\n",
       "      <td>3</td>\n",
       "      <td>3</td>\n",
       "      <td>3</td>\n",
       "      <td>38</td>\n",
       "      <td>150</td>\n",
       "      <td>0</td>\n",
       "      <td>0</td>\n",
       "      <td>06:45</td>\n",
       "      <td>00:15</td>\n",
       "      <td>D</td>\n",
       "      <td>2/6/2017</td>\n",
       "    </tr>\n",
       "    <tr>\n",
       "      <th>2</th>\n",
       "      <td>2</td>\n",
       "      <td>1</td>\n",
       "      <td>3</td>\n",
       "      <td>3</td>\n",
       "      <td>3</td>\n",
       "      <td>3</td>\n",
       "      <td>39</td>\n",
       "      <td>120</td>\n",
       "      <td>0</td>\n",
       "      <td>0</td>\n",
       "      <td>07:00</td>\n",
       "      <td>00:15</td>\n",
       "      <td>D</td>\n",
       "      <td>3/6/2017</td>\n",
       "    </tr>\n",
       "    <tr>\n",
       "      <th>3</th>\n",
       "      <td>1</td>\n",
       "      <td>2</td>\n",
       "      <td>2</td>\n",
       "      <td>2</td>\n",
       "      <td>2</td>\n",
       "      <td>3</td>\n",
       "      <td>34</td>\n",
       "      <td>120</td>\n",
       "      <td>0</td>\n",
       "      <td>0</td>\n",
       "      <td>07:00</td>\n",
       "      <td>01:30</td>\n",
       "      <td>D</td>\n",
       "      <td>4/6/2017</td>\n",
       "    </tr>\n",
       "    <tr>\n",
       "      <th>4</th>\n",
       "      <td>1</td>\n",
       "      <td>1</td>\n",
       "      <td>3</td>\n",
       "      <td>2</td>\n",
       "      <td>2</td>\n",
       "      <td>2</td>\n",
       "      <td>32</td>\n",
       "      <td>150</td>\n",
       "      <td>0</td>\n",
       "      <td>0</td>\n",
       "      <td>07:00</td>\n",
       "      <td>23:45</td>\n",
       "      <td>D</td>\n",
       "      <td>5/6/2017</td>\n",
       "    </tr>\n",
       "    <tr>\n",
       "      <th>...</th>\n",
       "      <td>...</td>\n",
       "      <td>...</td>\n",
       "      <td>...</td>\n",
       "      <td>...</td>\n",
       "      <td>...</td>\n",
       "      <td>...</td>\n",
       "      <td>...</td>\n",
       "      <td>...</td>\n",
       "      <td>...</td>\n",
       "      <td>...</td>\n",
       "      <td>...</td>\n",
       "      <td>...</td>\n",
       "      <td>...</td>\n",
       "      <td>...</td>\n",
       "    </tr>\n",
       "    <tr>\n",
       "      <th>660</th>\n",
       "      <td>3</td>\n",
       "      <td>-2</td>\n",
       "      <td>4</td>\n",
       "      <td>4</td>\n",
       "      <td>4</td>\n",
       "      <td>4</td>\n",
       "      <td>0</td>\n",
       "      <td>300</td>\n",
       "      <td>1</td>\n",
       "      <td>0</td>\n",
       "      <td>05:00</td>\n",
       "      <td>23:00</td>\n",
       "      <td>G</td>\n",
       "      <td>16/04/2023</td>\n",
       "    </tr>\n",
       "    <tr>\n",
       "      <th>661</th>\n",
       "      <td>-3</td>\n",
       "      <td>2</td>\n",
       "      <td>1</td>\n",
       "      <td>0</td>\n",
       "      <td>1</td>\n",
       "      <td>0</td>\n",
       "      <td>0</td>\n",
       "      <td>200</td>\n",
       "      <td>0</td>\n",
       "      <td>0</td>\n",
       "      <td>02:00</td>\n",
       "      <td>23:00</td>\n",
       "      <td>G</td>\n",
       "      <td>17/04/2023</td>\n",
       "    </tr>\n",
       "    <tr>\n",
       "      <th>662</th>\n",
       "      <td>3</td>\n",
       "      <td>2</td>\n",
       "      <td>1</td>\n",
       "      <td>3</td>\n",
       "      <td>3</td>\n",
       "      <td>3</td>\n",
       "      <td>2</td>\n",
       "      <td>300</td>\n",
       "      <td>0</td>\n",
       "      <td>1</td>\n",
       "      <td>08:00</td>\n",
       "      <td>23:00</td>\n",
       "      <td>G</td>\n",
       "      <td>17/04/2023</td>\n",
       "    </tr>\n",
       "    <tr>\n",
       "      <th>663</th>\n",
       "      <td>-3</td>\n",
       "      <td>-1</td>\n",
       "      <td>3</td>\n",
       "      <td>1</td>\n",
       "      <td>3</td>\n",
       "      <td>2</td>\n",
       "      <td>15</td>\n",
       "      <td>100</td>\n",
       "      <td>0</td>\n",
       "      <td>0</td>\n",
       "      <td>08:00</td>\n",
       "      <td>23:00</td>\n",
       "      <td>M</td>\n",
       "      <td>17/04/2023</td>\n",
       "    </tr>\n",
       "    <tr>\n",
       "      <th>664</th>\n",
       "      <td>-3</td>\n",
       "      <td>-1</td>\n",
       "      <td>4</td>\n",
       "      <td>1</td>\n",
       "      <td>3</td>\n",
       "      <td>2</td>\n",
       "      <td>15</td>\n",
       "      <td>100</td>\n",
       "      <td>0</td>\n",
       "      <td>0</td>\n",
       "      <td>07:00</td>\n",
       "      <td>22:00</td>\n",
       "      <td>M</td>\n",
       "      <td>17/04/2023</td>\n",
       "    </tr>\n",
       "  </tbody>\n",
       "</table>\n",
       "<p>665 rows × 14 columns</p>\n",
       "</div>"
      ],
      "text/plain": [
       "     Estado de ánimo  Motivación  Problemas de concentración y atención  \\\n",
       "0                  2           2                                      3   \n",
       "1                  2           2                                      3   \n",
       "2                  2           1                                      3   \n",
       "3                  1           2                                      2   \n",
       "4                  1           1                                      3   \n",
       "..               ...         ...                                    ...   \n",
       "660                3          -2                                      4   \n",
       "661               -3           2                                      1   \n",
       "662                3           2                                      1   \n",
       "663               -3          -1                                      3   \n",
       "664               -3          -1                                      4   \n",
       "\n",
       "     Irritabilidad  Ansiedad  Calidad del sueño  Número de cigarrillos  \\\n",
       "0                3         3                  3                     34   \n",
       "1                3         3                  3                     38   \n",
       "2                3         3                  3                     39   \n",
       "3                2         2                  3                     34   \n",
       "4                2         2                  2                     32   \n",
       "..             ...       ...                ...                    ...   \n",
       "660              4         4                  4                      0   \n",
       "661              0         1                  0                      0   \n",
       "662              3         3                  3                      2   \n",
       "663              1         3                  2                     15   \n",
       "664              1         3                  2                     15   \n",
       "\n",
       "     Cafeína Alcohol Otras drogas Hora de despertar Hora a la que te dormiste  \\\n",
       "0        150       0            0             06:30                     23:40   \n",
       "1        150       0            0             06:45                     00:15   \n",
       "2        120       0            0             07:00                     00:15   \n",
       "3        120       0            0             07:00                     01:30   \n",
       "4        150       0            0             07:00                     23:45   \n",
       "..       ...     ...          ...               ...                       ...   \n",
       "660      300       1            0             05:00                     23:00   \n",
       "661      200       0            0             02:00                     23:00   \n",
       "662      300       0            1             08:00                     23:00   \n",
       "663      100       0            0             08:00                     23:00   \n",
       "664      100       0            0             07:00                     22:00   \n",
       "\n",
       "    Código       Fecha  \n",
       "0        D    1/6/2017  \n",
       "1        D    2/6/2017  \n",
       "2        D    3/6/2017  \n",
       "3        D    4/6/2017  \n",
       "4        D    5/6/2017  \n",
       "..     ...         ...  \n",
       "660      G  16/04/2023  \n",
       "661      G  17/04/2023  \n",
       "662      G  17/04/2023  \n",
       "663      M  17/04/2023  \n",
       "664      M  17/04/2023  \n",
       "\n",
       "[665 rows x 14 columns]"
      ]
     },
     "execution_count": 172,
     "metadata": {},
     "output_type": "execute_result"
    }
   ],
   "source": [
    "young"
   ]
  },
  {
   "cell_type": "markdown",
   "metadata": {},
   "source": [
    "# HISTOGRAMAS:"
   ]
  },
  {
   "cell_type": "code",
   "execution_count": 173,
   "metadata": {},
   "outputs": [
    {
     "name": "stderr",
     "output_type": "stream",
     "text": [
      "C:\\Users\\cris_\\anaconda3\\lib\\site-packages\\seaborn\\distributions.py:2619: FutureWarning: `distplot` is a deprecated function and will be removed in a future version. Please adapt your code to use either `displot` (a figure-level function with similar flexibility) or `histplot` (an axes-level function for histograms).\n",
      "  warnings.warn(msg, FutureWarning)\n",
      "C:\\Users\\cris_\\anaconda3\\lib\\site-packages\\seaborn\\distributions.py:2619: FutureWarning: `distplot` is a deprecated function and will be removed in a future version. Please adapt your code to use either `displot` (a figure-level function with similar flexibility) or `histplot` (an axes-level function for histograms).\n",
      "  warnings.warn(msg, FutureWarning)\n",
      "C:\\Users\\cris_\\anaconda3\\lib\\site-packages\\seaborn\\distributions.py:2619: FutureWarning: `distplot` is a deprecated function and will be removed in a future version. Please adapt your code to use either `displot` (a figure-level function with similar flexibility) or `histplot` (an axes-level function for histograms).\n",
      "  warnings.warn(msg, FutureWarning)\n",
      "C:\\Users\\cris_\\anaconda3\\lib\\site-packages\\seaborn\\distributions.py:2619: FutureWarning: `distplot` is a deprecated function and will be removed in a future version. Please adapt your code to use either `displot` (a figure-level function with similar flexibility) or `histplot` (an axes-level function for histograms).\n",
      "  warnings.warn(msg, FutureWarning)\n",
      "C:\\Users\\cris_\\anaconda3\\lib\\site-packages\\seaborn\\distributions.py:2619: FutureWarning: `distplot` is a deprecated function and will be removed in a future version. Please adapt your code to use either `displot` (a figure-level function with similar flexibility) or `histplot` (an axes-level function for histograms).\n",
      "  warnings.warn(msg, FutureWarning)\n"
     ]
    },
    {
     "data": {
      "image/png": "[encoded data removed]",
      "text/plain": [
       "<Figure size 720x720 with 6 Axes>"
      ]
     },
     "metadata": {
      "needs_background": "light"
     },
     "output_type": "display_data"
    }
   ],
   "source": [
    "f, axes = plt.subplots(3, 2,figsize=(10,10))\n",
    "sns_plot1 = sns.distplot(young['Motivación'],ax=axes[0,0])\n",
    "sns_plot2 = sns.distplot(young['Estado de ánimo'],ax=axes[0,1])\n",
    "sns_plot3 = sns.distplot(young['Irritabilidad'],ax=axes[1,0])\n",
    "sns_plot4 = sns.distplot(young['Ansiedad'],ax=axes[1,1])\n",
    "sns_plot5 = sns.distplot(young['Calidad del sueño'],ax=axes[2,1])\n",
    "\n",
    "\n",
    "\n"
   ]
  },
  {
   "cell_type": "markdown",
   "metadata": {},
   "source": [
    "# Relación por pares de datos"
   ]
  },
  {
   "cell_type": "code",
   "execution_count": 192,
   "metadata": {},
   "outputs": [
    {
     "data": {
      "image/png": "[encoded data removed]",
      "text/plain": [
       "<Figure size 720x720 with 1 Axes>"
      ]
     },
     "metadata": {
      "needs_background": "light"
     },
     "output_type": "display_data"
    }
   ],
   "source": [
    "f, axes = plt.subplots(1, 1,figsize=(10,10))\n",
    "a = sns.scatterplot(data=young,x='Número de cigarrillos',y='Cafeína')"
   ]
  },
  {
   "cell_type": "code",
   "execution_count": 187,
   "metadata": {},
   "outputs": [
    {
     "data": {
      "image/png": "[encoded data removed]",
      "text/plain": [
       "<Figure size 720x720 with 1 Axes>"
      ]
     },
     "metadata": {
      "needs_background": "light"
     },
     "output_type": "display_data"
    }
   ],
   "source": [
    "f, axes = plt.subplots(1, 1,figsize=(10,10))\n",
    "a = sns.scatterplot(data=young,x='Cafeína',y='Hora a la que te dormiste')\n"
   ]
  },
  {
   "cell_type": "code",
   "execution_count": 194,
   "metadata": {},
   "outputs": [
    {
     "data": {
      "image/png": "[encoded data removed]",
      "text/plain": [
       "<Figure size 360x360 with 1 Axes>"
      ]
     },
     "metadata": {
      "needs_background": "light"
     },
     "output_type": "display_data"
    }
   ],
   "source": [
    "f, axes = plt.subplots(1, 1,figsize=(5,5))\n",
    "a = sns.scatterplot(data=young,x='Cafeína',y='Calidad del sueño')"
   ]
  },
  {
   "cell_type": "code",
   "execution_count": null,
   "metadata": {},
   "outputs": [],
   "source": []
  }
 ],
 "metadata": {
  "kernelspec": {
   "display_name": "Python 3 (ipykernel)",
   "language": "python",
   "name": "python3"
  },
  "language_info": {
   "codemirror_mode": {
    "name": "ipython",
    "version": 3
   },
   "file_extension": ".py",
   "mimetype": "text/x-python",
   "name": "python",
   "nbconvert_exporter": "python",
   "pygments_lexer": "ipython3",
   "version": "3.9.7"
  }
 },
 "nbformat": 4,
 "nbformat_minor": 1
}
