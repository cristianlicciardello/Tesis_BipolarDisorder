{
 "cells": [
  {
   "cell_type": "code",
   "execution_count": 2,
   "metadata": {
    "collapsed": true,
    "ExecuteTime": {
     "start_time": "2023-04-17T22:27:46.511615Z",
     "end_time": "2023-04-17T22:27:46.554929Z"
    }
   },
   "outputs": [],
   "source": [
    "# importacion general de librerias y de visualizacion (matplotlib y seaborn)\n",
    "import pandas as pd\n",
    "import numpy as np\n",
    "import matplotlib.pyplot as plt\n",
    "import seaborn as sns\n",
    "import datetime\n",
    "\n",
    "%matplotlib inline"
   ]
  },
  {
   "cell_type": "markdown",
   "source": [
    "## Exploraci�n general"
   ],
   "metadata": {
    "collapsed": false
   }
  },
  {
   "cell_type": "code",
   "execution_count": 3,
   "outputs": [],
   "source": [
    "young = pd.read_csv('./diario.csv', sep=';')"
   ],
   "metadata": {
    "collapsed": false,
    "ExecuteTime": {
     "start_time": "2023-04-17T22:29:03.262255Z",
     "end_time": "2023-04-17T22:29:03.304743Z"
    }
   }
  },
  {
   "cell_type": "code",
   "execution_count": 6,
   "outputs": [
    {
     "data": {
      "text/plain": "   Estado de ánimo  Motivación  Problemas de concentración y atención  \\\n0                2           2                                      3   \n1                2           2                                      3   \n2                2           1                                      3   \n3                1           2                                      2   \n4                1           1                                      3   \n\n   Irritabilidad  Ansiedad  Calidad del sueño  Ciclo menstrual  \\\n0              3         3                  3              NaN   \n1              3         3                  3              NaN   \n2              3         3                  3              NaN   \n3              2         2                  3              NaN   \n4              2         2                  2              NaN   \n\n   Número de cigarrillos  Cafeína Alcohol Otras drogas Hora de despertar  \\\n0                     34      150      No           No             06:30   \n1                     38      150      NO           No             06:45   \n2                     39      120      NO           No             07:00   \n3                     34      120      No           No             07:00   \n4                     32      150      No           No             07:00   \n\n  Hora a la que te dormiste Código     Fecha  \n0                     23:40      D  1/6/2017  \n1                     00:15      D  2/6/2017  \n2                     00:15      D  3/6/2017  \n3                     01:30      D  4/6/2017  \n4                     23:45      D  5/6/2017  ",
      "text/html": "<div>\n<style scoped>\n    .dataframe tbody tr th:only-of-type {\n        vertical-align: middle;\n    }\n\n    .dataframe tbody tr th {\n        vertical-align: top;\n    }\n\n    .dataframe thead th {\n        text-align: right;\n    }\n</style>\n<table border=\"1\" class=\"dataframe\">\n  <thead>\n    <tr style=\"text-align: right;\">\n      <th></th>\n      <th>Estado de ánimo</th>\n      <th>Motivación</th>\n      <th>Problemas de concentración y atención</th>\n      <th>Irritabilidad</th>\n      <th>Ansiedad</th>\n      <th>Calidad del sueño</th>\n      <th>Ciclo menstrual</th>\n      <th>Número de cigarrillos</th>\n      <th>Cafeína</th>\n      <th>Alcohol</th>\n      <th>Otras drogas</th>\n      <th>Hora de despertar</th>\n      <th>Hora a la que te dormiste</th>\n      <th>Código</th>\n      <th>Fecha</th>\n    </tr>\n  </thead>\n  <tbody>\n    <tr>\n      <th>0</th>\n      <td>2</td>\n      <td>2</td>\n      <td>3</td>\n      <td>3</td>\n      <td>3</td>\n      <td>3</td>\n      <td>NaN</td>\n      <td>34</td>\n      <td>150</td>\n      <td>No</td>\n      <td>No</td>\n      <td>06:30</td>\n      <td>23:40</td>\n      <td>D</td>\n      <td>1/6/2017</td>\n    </tr>\n    <tr>\n      <th>1</th>\n      <td>2</td>\n      <td>2</td>\n      <td>3</td>\n      <td>3</td>\n      <td>3</td>\n      <td>3</td>\n      <td>NaN</td>\n      <td>38</td>\n      <td>150</td>\n      <td>NO</td>\n      <td>No</td>\n      <td>06:45</td>\n      <td>00:15</td>\n      <td>D</td>\n      <td>2/6/2017</td>\n    </tr>\n    <tr>\n      <th>2</th>\n      <td>2</td>\n      <td>1</td>\n      <td>3</td>\n      <td>3</td>\n      <td>3</td>\n      <td>3</td>\n      <td>NaN</td>\n      <td>39</td>\n      <td>120</td>\n      <td>NO</td>\n      <td>No</td>\n      <td>07:00</td>\n      <td>00:15</td>\n      <td>D</td>\n      <td>3/6/2017</td>\n    </tr>\n    <tr>\n      <th>3</th>\n      <td>1</td>\n      <td>2</td>\n      <td>2</td>\n      <td>2</td>\n      <td>2</td>\n      <td>3</td>\n      <td>NaN</td>\n      <td>34</td>\n      <td>120</td>\n      <td>No</td>\n      <td>No</td>\n      <td>07:00</td>\n      <td>01:30</td>\n      <td>D</td>\n      <td>4/6/2017</td>\n    </tr>\n    <tr>\n      <th>4</th>\n      <td>1</td>\n      <td>1</td>\n      <td>3</td>\n      <td>2</td>\n      <td>2</td>\n      <td>2</td>\n      <td>NaN</td>\n      <td>32</td>\n      <td>150</td>\n      <td>No</td>\n      <td>No</td>\n      <td>07:00</td>\n      <td>23:45</td>\n      <td>D</td>\n      <td>5/6/2017</td>\n    </tr>\n  </tbody>\n</table>\n</div>"
     },
     "execution_count": 6,
     "metadata": {},
     "output_type": "execute_result"
    }
   ],
   "source": [
    "young.head()"
   ],
   "metadata": {
    "collapsed": false,
    "ExecuteTime": {
     "start_time": "2023-04-17T22:34:45.121727Z",
     "end_time": "2023-04-17T22:34:45.165074Z"
    }
   }
  },
  {
   "cell_type": "code",
   "execution_count": 4,
   "outputs": [
    {
     "data": {
      "text/plain": "       Estado de ánimo  Motivación  Problemas de concentración y atención  \\\ncount       661.000000  661.000000                             661.000000   \nmean         -0.608169   -0.797277                               1.667171   \nstd           1.064237    1.043621                               0.739346   \nmin          -3.000000   -3.000000                               0.000000   \n25%          -1.000000   -2.000000                               1.000000   \n50%          -1.000000   -1.000000                               2.000000   \n75%           0.000000    0.000000                               2.000000   \nmax           3.000000    3.000000                               4.000000   \n\n       Irritabilidad    Ansiedad  Calidad del sueño  Ciclo menstrual  \\\ncount     661.000000  661.000000         661.000000              0.0   \nmean        1.459909    1.555219           1.608169              NaN   \nstd         0.784497    0.800790           0.839838              NaN   \nmin         0.000000    0.000000           0.000000              NaN   \n25%         1.000000    1.000000           1.000000              NaN   \n50%         1.000000    1.000000           1.000000              NaN   \n75%         2.000000    2.000000           2.000000              NaN   \nmax         5.000000    4.000000           5.000000              NaN   \n\n       Número de cigarrillos     Cafeína  \ncount             661.000000  661.000000  \nmean               18.310136   99.496218  \nstd                19.693155   58.711380  \nmin                 0.000000    0.000000  \n25%                 0.000000   90.000000  \n50%                20.000000   90.000000  \n75%                26.000000  120.000000  \nmax               400.000000  903.000000  ",
      "text/html": "<div>\n<style scoped>\n    .dataframe tbody tr th:only-of-type {\n        vertical-align: middle;\n    }\n\n    .dataframe tbody tr th {\n        vertical-align: top;\n    }\n\n    .dataframe thead th {\n        text-align: right;\n    }\n</style>\n<table border=\"1\" class=\"dataframe\">\n  <thead>\n    <tr style=\"text-align: right;\">\n      <th></th>\n      <th>Estado de ánimo</th>\n      <th>Motivación</th>\n      <th>Problemas de concentración y atención</th>\n      <th>Irritabilidad</th>\n      <th>Ansiedad</th>\n      <th>Calidad del sueño</th>\n      <th>Ciclo menstrual</th>\n      <th>Número de cigarrillos</th>\n      <th>Cafeína</th>\n    </tr>\n  </thead>\n  <tbody>\n    <tr>\n      <th>count</th>\n      <td>661.000000</td>\n      <td>661.000000</td>\n      <td>661.000000</td>\n      <td>661.000000</td>\n      <td>661.000000</td>\n      <td>661.000000</td>\n      <td>0.0</td>\n      <td>661.000000</td>\n      <td>661.000000</td>\n    </tr>\n    <tr>\n      <th>mean</th>\n      <td>-0.608169</td>\n      <td>-0.797277</td>\n      <td>1.667171</td>\n      <td>1.459909</td>\n      <td>1.555219</td>\n      <td>1.608169</td>\n      <td>NaN</td>\n      <td>18.310136</td>\n      <td>99.496218</td>\n    </tr>\n    <tr>\n      <th>std</th>\n      <td>1.064237</td>\n      <td>1.043621</td>\n      <td>0.739346</td>\n      <td>0.784497</td>\n      <td>0.800790</td>\n      <td>0.839838</td>\n      <td>NaN</td>\n      <td>19.693155</td>\n      <td>58.711380</td>\n    </tr>\n    <tr>\n      <th>min</th>\n      <td>-3.000000</td>\n      <td>-3.000000</td>\n      <td>0.000000</td>\n      <td>0.000000</td>\n      <td>0.000000</td>\n      <td>0.000000</td>\n      <td>NaN</td>\n      <td>0.000000</td>\n      <td>0.000000</td>\n    </tr>\n    <tr>\n      <th>25%</th>\n      <td>-1.000000</td>\n      <td>-2.000000</td>\n      <td>1.000000</td>\n      <td>1.000000</td>\n      <td>1.000000</td>\n      <td>1.000000</td>\n      <td>NaN</td>\n      <td>0.000000</td>\n      <td>90.000000</td>\n    </tr>\n    <tr>\n      <th>50%</th>\n      <td>-1.000000</td>\n      <td>-1.000000</td>\n      <td>2.000000</td>\n      <td>1.000000</td>\n      <td>1.000000</td>\n      <td>1.000000</td>\n      <td>NaN</td>\n      <td>20.000000</td>\n      <td>90.000000</td>\n    </tr>\n    <tr>\n      <th>75%</th>\n      <td>0.000000</td>\n      <td>0.000000</td>\n      <td>2.000000</td>\n      <td>2.000000</td>\n      <td>2.000000</td>\n      <td>2.000000</td>\n      <td>NaN</td>\n      <td>26.000000</td>\n      <td>120.000000</td>\n    </tr>\n    <tr>\n      <th>max</th>\n      <td>3.000000</td>\n      <td>3.000000</td>\n      <td>4.000000</td>\n      <td>5.000000</td>\n      <td>4.000000</td>\n      <td>5.000000</td>\n      <td>NaN</td>\n      <td>400.000000</td>\n      <td>903.000000</td>\n    </tr>\n  </tbody>\n</table>\n</div>"
     },
     "execution_count": 4,
     "metadata": {},
     "output_type": "execute_result"
    }
   ],
   "source": [
    "young.describe()"
   ],
   "metadata": {
    "collapsed": false,
    "ExecuteTime": {
     "start_time": "2023-04-17T22:29:14.672220Z",
     "end_time": "2023-04-17T22:29:14.717339Z"
    }
   }
  },
  {
   "cell_type": "code",
   "execution_count": 8,
   "outputs": [
    {
     "data": {
      "text/plain": "(661, 15)"
     },
     "execution_count": 8,
     "metadata": {},
     "output_type": "execute_result"
    }
   ],
   "source": [
    "young.shape"
   ],
   "metadata": {
    "collapsed": false,
    "ExecuteTime": {
     "start_time": "2023-04-17T22:35:10.021003Z",
     "end_time": "2023-04-17T22:35:10.062172Z"
    }
   }
  },
  {
   "cell_type": "code",
   "execution_count": 9,
   "outputs": [
    {
     "data": {
      "text/plain": "Estado de ánimo                          661\nMotivación                               661\nProblemas de concentración y atención    661\nIrritabilidad                            661\nAnsiedad                                 661\nCalidad del sueño                        661\nCiclo menstrual                            0\nNúmero de cigarrillos                    661\nCafeína                                  661\nAlcohol                                  655\nOtras drogas                             655\nHora de despertar                        661\nHora a la que te dormiste                661\nCódigo                                   661\nFecha                                    659\ndtype: int64"
     },
     "execution_count": 9,
     "metadata": {},
     "output_type": "execute_result"
    }
   ],
   "source": [
    "young.count()"
   ],
   "metadata": {
    "collapsed": false,
    "ExecuteTime": {
     "start_time": "2023-04-17T22:35:32.881241Z",
     "end_time": "2023-04-17T22:35:32.889446Z"
    }
   }
  },
  {
   "cell_type": "code",
   "execution_count": 23,
   "outputs": [
    {
     "name": "stdout",
     "output_type": "stream",
     "text": [
      "<class 'pandas.core.frame.DataFrame'>\n",
      "RangeIndex: 661 entries, 0 to 660\n",
      "Data columns (total 15 columns):\n",
      " #   Column                                 Non-Null Count  Dtype  \n",
      "---  ------                                 --------------  -----  \n",
      " 0   Estado de ánimo                        661 non-null    int64  \n",
      " 1   Motivación                             661 non-null    int64  \n",
      " 2   Problemas de concentración y atención  661 non-null    int64  \n",
      " 3   Irritabilidad                          661 non-null    int64  \n",
      " 4   Ansiedad                               661 non-null    int64  \n",
      " 5   Calidad del sueño                      661 non-null    int64  \n",
      " 6   Ciclo menstrual                        0 non-null      float64\n",
      " 7   Número de cigarrillos                  661 non-null    int64  \n",
      " 8   Cafeína                                661 non-null    int64  \n",
      " 9   Alcohol                                655 non-null    object \n",
      " 10  Otras drogas                           655 non-null    object \n",
      " 11  Hora de despertar                      661 non-null    object \n",
      " 12  Hora a la que te dormiste              661 non-null    object \n",
      " 13  Código                                 661 non-null    object \n",
      " 14  Fecha                                  659 non-null    object \n",
      "dtypes: float64(1), int64(8), object(6)\n",
      "memory usage: 77.6+ KB\n"
     ]
    }
   ],
   "source": [
    "young.info()"
   ],
   "metadata": {
    "collapsed": false,
    "ExecuteTime": {
     "start_time": "2023-04-17T22:42:02.605033Z",
     "end_time": "2023-04-17T22:42:02.607214Z"
    }
   }
  },
  {
   "cell_type": "markdown",
   "source": [
    "## Exploraci�n espec�fica"
   ],
   "metadata": {
    "collapsed": false
   }
  },
  {
   "cell_type": "code",
   "execution_count": 10,
   "outputs": [
    {
     "data": {
      "text/plain": " 0    258\n-1    191\n-2    121\n 1     54\n-3     20\n 2     14\n 3      3\nName: Estado de ánimo, dtype: int64"
     },
     "execution_count": 10,
     "metadata": {},
     "output_type": "execute_result"
    }
   ],
   "source": [
    "young['Estado de ánimo'].value_counts()"
   ],
   "metadata": {
    "collapsed": false,
    "ExecuteTime": {
     "start_time": "2023-04-17T22:37:52.421950Z",
     "end_time": "2023-04-17T22:37:52.464956Z"
    }
   }
  },
  {
   "cell_type": "code",
   "execution_count": 11,
   "outputs": [
    {
     "data": {
      "text/plain": "-1    232\n 0    217\n-2    149\n 1     22\n-3     21\n 2     16\n 3      4\nName: Motivación, dtype: int64"
     },
     "execution_count": 11,
     "metadata": {},
     "output_type": "execute_result"
    }
   ],
   "source": [
    "young['Motivación'].value_counts()"
   ],
   "metadata": {
    "collapsed": false,
    "ExecuteTime": {
     "start_time": "2023-04-17T22:38:10.100085Z",
     "end_time": "2023-04-17T22:38:10.146953Z"
    }
   }
  },
  {
   "cell_type": "code",
   "execution_count": 12,
   "outputs": [
    {
     "data": {
      "text/plain": "1    304\n2    260\n3     86\n0      6\n4      5\nName: Problemas de concentración y atención, dtype: int64"
     },
     "execution_count": 12,
     "metadata": {},
     "output_type": "execute_result"
    }
   ],
   "source": [
    "young['Problemas de concentración y atención'].value_counts()"
   ],
   "metadata": {
    "collapsed": false,
    "ExecuteTime": {
     "start_time": "2023-04-17T22:38:26.325153Z",
     "end_time": "2023-04-17T22:38:26.334858Z"
    }
   }
  },
  {
   "cell_type": "code",
   "execution_count": 13,
   "outputs": [
    {
     "data": {
      "text/plain": "1    444\n2    127\n3     70\n4     13\n0      6\n5      1\nName: Irritabilidad, dtype: int64"
     },
     "execution_count": 13,
     "metadata": {},
     "output_type": "execute_result"
    }
   ],
   "source": [
    "young['Irritabilidad'].value_counts()"
   ],
   "metadata": {
    "collapsed": false,
    "ExecuteTime": {
     "start_time": "2023-04-17T22:38:42.498307Z",
     "end_time": "2023-04-17T22:38:42.541909Z"
    }
   }
  },
  {
   "cell_type": "code",
   "execution_count": 15,
   "outputs": [
    {
     "data": {
      "text/plain": "1    395\n2    158\n3     91\n4     11\n0      6\nName: Ansiedad, dtype: int64"
     },
     "execution_count": 15,
     "metadata": {},
     "output_type": "execute_result"
    }
   ],
   "source": [
    "young['Ansiedad'].value_counts()"
   ],
   "metadata": {
    "collapsed": false,
    "ExecuteTime": {
     "start_time": "2023-04-17T22:39:00.198779Z",
     "end_time": "2023-04-17T22:39:00.201916Z"
    }
   }
  },
  {
   "cell_type": "code",
   "execution_count": 16,
   "outputs": [
    {
     "data": {
      "text/plain": "1    364\n2    197\n3     69\n4     22\n0      7\n5      2\nName: Calidad del sueño, dtype: int64"
     },
     "execution_count": 16,
     "metadata": {},
     "output_type": "execute_result"
    }
   ],
   "source": [
    "young['Calidad del sueño'].value_counts()"
   ],
   "metadata": {
    "collapsed": false,
    "ExecuteTime": {
     "start_time": "2023-04-17T22:39:13.938757Z",
     "end_time": "2023-04-17T22:39:13.946489Z"
    }
   }
  },
  {
   "cell_type": "code",
   "execution_count": 19,
   "outputs": [
    {
     "data": {
      "text/plain": "0      183\n26      71\n28      44\n24      43\n20      34\n34      33\n32      28\n18      24\n17      23\n22      19\n16      15\n19      12\n23      12\n36      12\n15      11\n25      11\n21      11\n14      10\n38       9\n27       9\n12       7\n13       7\n29       7\n30       6\n10       4\n40       3\n33       3\n11       3\n39       2\n2        2\n119      1\n31       1\n400      1\nName: Número de cigarrillos, dtype: int64"
     },
     "execution_count": 19,
     "metadata": {},
     "output_type": "execute_result"
    }
   ],
   "source": [
    "young['Número de cigarrillos'].value_counts()"
   ],
   "metadata": {
    "collapsed": false,
    "ExecuteTime": {
     "start_time": "2023-04-17T22:40:12.338923Z",
     "end_time": "2023-04-17T22:40:12.384811Z"
    }
   }
  },
  {
   "cell_type": "code",
   "execution_count": 20,
   "outputs": [
    {
     "data": {
      "text/plain": "90     396\n120    103\n60      36\n180     35\n150     34\n0       29\n30       9\n200      5\n6        2\n20       2\n100      2\n300      2\n9        1\n250      1\n901      1\n903      1\n1        1\n21       1\nName: Cafeína, dtype: int64"
     },
     "execution_count": 20,
     "metadata": {},
     "output_type": "execute_result"
    }
   ],
   "source": [
    "young['Cafeína'].value_counts()"
   ],
   "metadata": {
    "collapsed": false,
    "ExecuteTime": {
     "start_time": "2023-04-17T22:40:36.709269Z",
     "end_time": "2023-04-17T22:40:36.754927Z"
    }
   }
  },
  {
   "cell_type": "code",
   "execution_count": 21,
   "outputs": [
    {
     "data": {
      "text/plain": "No    650\nNO      2\nSi      2\nno      1\nName: Alcohol, dtype: int64"
     },
     "execution_count": 21,
     "metadata": {},
     "output_type": "execute_result"
    }
   ],
   "source": [
    "# HAY QUE CORREGIR ESTO\n",
    "young['Alcohol'].value_counts()"
   ],
   "metadata": {
    "collapsed": false,
    "ExecuteTime": {
     "start_time": "2023-04-17T22:40:45.088094Z",
     "end_time": "2023-04-17T22:40:45.111501Z"
    }
   }
  },
  {
   "cell_type": "markdown",
   "source": [
    "# TODO:\n",
    "- Drop ciclo menstrual\n",
    "- Corregir Alcohol y pasarlo a binario"
   ],
   "metadata": {
    "collapsed": false
   }
  },
  {
   "cell_type": "code",
   "execution_count": null,
   "outputs": [],
   "source": [],
   "metadata": {
    "collapsed": false
   }
  }
 ],
 "metadata": {
  "kernelspec": {
   "display_name": "Python 3",
   "language": "python",
   "name": "python3"
  },
  "language_info": {
   "codemirror_mode": {
    "name": "ipython",
    "version": 2
   },
   "file_extension": ".py",
   "mimetype": "text/x-python",
   "name": "python",
   "nbconvert_exporter": "python",
   "pygments_lexer": "ipython2",
   "version": "2.7.6"
  }
 },
 "nbformat": 4,
 "nbformat_minor": 0
}
